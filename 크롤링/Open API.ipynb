{
 "cells": [
  {
   "cell_type": "code",
   "execution_count": 1,
   "metadata": {},
   "outputs": [],
   "source": [
    "from bs4 import BeautifulSoup\n",
    "import urllib.request\n",
    "import urllib.parse\n",
    "\n",
    "url = 'http://data.kma.go.kr/apiData/getData?type=xml&dataCd=ASOS&dateCd=DAY&startDt=20100101&endDt=20121231&stnIds=108&schListCnt=730&pageIndex=1&apiKey=NlDRdaPBr4LsSM23exDYwkvsO%2BU0yju6h3gG7EwsjIyTrKEnnzK/aQfH3GDhm0z0'\n",
    "#오픈API key를 받고\n",
    "#활용신청(옵션: 참고자료) 신청해야 뜸\n",
    "\n",
    "with urllib.request.urlopen(url) as response:\n",
    "    xml = response.read()\n",
    "    soup = BeautifulSoup(xml, 'xml')"
   ]
  },
  {
   "cell_type": "code",
   "execution_count": 13,
   "metadata": {
    "scrolled": false
   },
   "outputs": [
    {
     "name": "stdout",
     "output_type": "stream",
     "text": [
      "2010-01-01\n",
      "2010-01-02\n",
      "2010-01-03\n",
      "2010-01-04\n",
      "2010-01-05\n"
     ]
    }
   ],
   "source": [
    "import pandas as pd\n",
    "for link in soup.find_all('TM'):\n",
    "    print(link.text)\n",
    "    if str(link.text) == '2010-01-05':\n",
    "        break"
   ]
  },
  {
   "cell_type": "code",
   "execution_count": 14,
   "metadata": {},
   "outputs": [],
   "source": [
    "time=[] ; stn_id=[] ; min_ta=[] ; max_ta=[]\n",
    "\n",
    "for link in soup.find_all('TM'):\n",
    "     time.append(link.text)\n",
    "        \n",
    "for link in soup.find_all('STN_ID'):\n",
    "     stn_id.append(link.text)\n",
    "        \n",
    "for link in soup.find_all('MIN_TA'):\n",
    "     min_ta.append(link.text)\n",
    "               \n",
    "for link in soup.find_all('MAX_TA'):\n",
    "     max_ta.append(link.text)\n"
   ]
  },
  {
   "cell_type": "code",
   "execution_count": 15,
   "metadata": {},
   "outputs": [
    {
     "data": {
      "text/html": [
       "<div>\n",
       "<style scoped>\n",
       "    .dataframe tbody tr th:only-of-type {\n",
       "        vertical-align: middle;\n",
       "    }\n",
       "\n",
       "    .dataframe tbody tr th {\n",
       "        vertical-align: top;\n",
       "    }\n",
       "\n",
       "    .dataframe thead th {\n",
       "        text-align: right;\n",
       "    }\n",
       "</style>\n",
       "<table border=\"1\" class=\"dataframe\">\n",
       "  <thead>\n",
       "    <tr style=\"text-align: right;\">\n",
       "      <th></th>\n",
       "      <th>시간</th>\n",
       "      <th>지점번호</th>\n",
       "      <th>최저기온</th>\n",
       "      <th>최고기온</th>\n",
       "    </tr>\n",
       "  </thead>\n",
       "  <tbody>\n",
       "    <tr>\n",
       "      <th>0</th>\n",
       "      <td>2010-01-01</td>\n",
       "      <td>108</td>\n",
       "      <td>-12.7</td>\n",
       "      <td>-3.6</td>\n",
       "    </tr>\n",
       "    <tr>\n",
       "      <th>1</th>\n",
       "      <td>2010-01-02</td>\n",
       "      <td>108</td>\n",
       "      <td>-7.4</td>\n",
       "      <td>0.2</td>\n",
       "    </tr>\n",
       "    <tr>\n",
       "      <th>2</th>\n",
       "      <td>2010-01-03</td>\n",
       "      <td>108</td>\n",
       "      <td>-10.5</td>\n",
       "      <td>-3.2</td>\n",
       "    </tr>\n",
       "    <tr>\n",
       "      <th>3</th>\n",
       "      <td>2010-01-04</td>\n",
       "      <td>108</td>\n",
       "      <td>-8</td>\n",
       "      <td>-3.4</td>\n",
       "    </tr>\n",
       "    <tr>\n",
       "      <th>4</th>\n",
       "      <td>2010-01-05</td>\n",
       "      <td>108</td>\n",
       "      <td>-12.3</td>\n",
       "      <td>-7</td>\n",
       "    </tr>\n",
       "  </tbody>\n",
       "</table>\n",
       "</div>"
      ],
      "text/plain": [
       "           시간 지점번호   최저기온  최고기온\n",
       "0  2010-01-01  108  -12.7  -3.6\n",
       "1  2010-01-02  108   -7.4   0.2\n",
       "2  2010-01-03  108  -10.5  -3.2\n",
       "3  2010-01-04  108     -8  -3.4\n",
       "4  2010-01-05  108  -12.3    -7"
      ]
     },
     "execution_count": 15,
     "metadata": {},
     "output_type": "execute_result"
    }
   ],
   "source": [
    "import pandas as pd\n",
    "\n",
    "df = pd.DataFrame( {'시간' : time, '지점번호' : stn_id, '최저기온' : min_ta, '최고기온' : max_ta},\n",
    "                  columns=['시간', '지점번호', '최저기온', '최고기온'])\n",
    "\n",
    "df.head()"
   ]
  },
  {
   "cell_type": "code",
   "execution_count": 14,
   "metadata": {},
   "outputs": [
    {
     "data": {
      "text/plain": [
       "pandas.core.series.Series"
      ]
     },
     "execution_count": 14,
     "metadata": {},
     "output_type": "execute_result"
    }
   ],
   "source": [
    "type(df['시간'])"
   ]
  },
  {
   "cell_type": "code",
   "execution_count": 17,
   "metadata": {},
   "outputs": [
    {
     "data": {
      "text/plain": [
       "0    2010-01-01\n",
       "1    2010-01-02\n",
       "2    2010-01-03\n",
       "3    2010-01-04\n",
       "4    2010-01-05\n",
       "Name: 시간, dtype: object"
      ]
     },
     "execution_count": 17,
     "metadata": {},
     "output_type": "execute_result"
    }
   ],
   "source": [
    "df['시간'].head()"
   ]
  },
  {
   "cell_type": "code",
   "execution_count": 18,
   "metadata": {},
   "outputs": [
    {
     "data": {
      "text/plain": [
       "0    -12.7\n",
       "1     -7.4\n",
       "2    -10.5\n",
       "3       -8\n",
       "4    -12.3\n",
       "Name: 최저기온, dtype: object"
      ]
     },
     "execution_count": 18,
     "metadata": {},
     "output_type": "execute_result"
    }
   ],
   "source": [
    "df['최저기온'].head()"
   ]
  },
  {
   "cell_type": "code",
   "execution_count": 21,
   "metadata": {},
   "outputs": [],
   "source": [
    "df['최저기온'] = df['최저기온'].astype(float)"
   ]
  },
  {
   "cell_type": "code",
   "execution_count": 22,
   "metadata": {},
   "outputs": [],
   "source": [
    "df['최고기온'] = df['최고기온'].astype(float)"
   ]
  },
  {
   "cell_type": "code",
   "execution_count": 23,
   "metadata": {},
   "outputs": [
    {
     "data": {
      "text/plain": [
       "0   -12.7\n",
       "1    -7.4\n",
       "2   -10.5\n",
       "3    -8.0\n",
       "4   -12.3\n",
       "Name: 최저기온, dtype: float64"
      ]
     },
     "execution_count": 23,
     "metadata": {},
     "output_type": "execute_result"
    }
   ],
   "source": [
    "df['최저기온'].head()"
   ]
  },
  {
   "cell_type": "code",
   "execution_count": 24,
   "metadata": {},
   "outputs": [
    {
     "data": {
      "text/plain": [
       "0   -3.6\n",
       "1    0.2\n",
       "2   -3.2\n",
       "3   -3.4\n",
       "4   -7.0\n",
       "Name: 최고기온, dtype: float64"
      ]
     },
     "execution_count": 24,
     "metadata": {},
     "output_type": "execute_result"
    }
   ],
   "source": [
    "df['최고기온'].head()"
   ]
  },
  {
   "cell_type": "code",
   "execution_count": 78,
   "metadata": {},
   "outputs": [
    {
     "data": {
      "text/html": [
       "<div>\n",
       "<style scoped>\n",
       "    .dataframe tbody tr th:only-of-type {\n",
       "        vertical-align: middle;\n",
       "    }\n",
       "\n",
       "    .dataframe tbody tr th {\n",
       "        vertical-align: top;\n",
       "    }\n",
       "\n",
       "    .dataframe thead th {\n",
       "        text-align: right;\n",
       "    }\n",
       "</style>\n",
       "<table border=\"1\" class=\"dataframe\">\n",
       "  <thead>\n",
       "    <tr style=\"text-align: right;\">\n",
       "      <th></th>\n",
       "      <th>년간 최저 기온</th>\n",
       "      <th>년간 최고 기온</th>\n",
       "    </tr>\n",
       "  </thead>\n",
       "  <tbody>\n",
       "    <tr>\n",
       "      <th>2011</th>\n",
       "      <td>-15.3</td>\n",
       "      <td>26.3</td>\n",
       "    </tr>\n",
       "    <tr>\n",
       "      <th>2012</th>\n",
       "      <td>-10.7</td>\n",
       "      <td>34.1</td>\n",
       "    </tr>\n",
       "  </tbody>\n",
       "</table>\n",
       "</div>"
      ],
      "text/plain": [
       "      년간 최저 기온  년간 최고 기온\n",
       "2011     -15.3      26.3\n",
       "2012     -10.7      34.1"
      ]
     },
     "execution_count": 78,
     "metadata": {},
     "output_type": "execute_result"
    }
   ],
   "source": [
    "ta_2011 = [] ; ta_2012 = []\n",
    "ta_year_min=[] ; ta_year_max=[]\n",
    "\n",
    "for i in range(len(df.index)):\n",
    "    if df['시간'][i] < '2011-01-01':\n",
    "        ta_2011.append(float(df['최저기온'][i]))\n",
    "    else:\n",
    "        ta_2012.append(float(df['최고기온'][i]))\n",
    "\n",
    "\n",
    "ta_year_min.append(min(ta_2011))\n",
    "ta_year_min.append(min(ta_2012))\n",
    "\n",
    "ta_year_max.append(max(ta_2011))\n",
    "ta_year_max.append(max(ta_2012))\n",
    "\n",
    "df_year = pd.DataFrame( {'년간 최저 기온' : ta_year_min, '년간 최고 기온' : ta_year_max},\n",
    "                          columns=['년간 최저 기온', '년간 최고 기온'], index=['2011', '2012'])\n",
    "\n",
    "df_year.head()\n"
   ]
  },
  {
   "cell_type": "code",
   "execution_count": null,
   "metadata": {},
   "outputs": [],
   "source": []
  }
 ],
 "metadata": {
  "kernelspec": {
   "display_name": "Python 3",
   "language": "python",
   "name": "python3"
  },
  "language_info": {
   "codemirror_mode": {
    "name": "ipython",
    "version": 3
   },
   "file_extension": ".py",
   "mimetype": "text/x-python",
   "name": "python",
   "nbconvert_exporter": "python",
   "pygments_lexer": "ipython3",
   "version": "3.6.5"
  }
 },
 "nbformat": 4,
 "nbformat_minor": 2
}
