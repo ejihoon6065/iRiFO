{
 "cells": [
  {
   "cell_type": "code",
   "execution_count": 1,
   "metadata": {
    "scrolled": false
   },
   "outputs": [
    {
     "data": {
      "text/html": [
       "<div>\n",
       "<style scoped>\n",
       "    .dataframe tbody tr th:only-of-type {\n",
       "        vertical-align: middle;\n",
       "    }\n",
       "\n",
       "    .dataframe tbody tr th {\n",
       "        vertical-align: top;\n",
       "    }\n",
       "\n",
       "    .dataframe thead th {\n",
       "        text-align: right;\n",
       "    }\n",
       "</style>\n",
       "<table border=\"1\" class=\"dataframe\">\n",
       "  <thead>\n",
       "    <tr style=\"text-align: right;\">\n",
       "      <th></th>\n",
       "      <th>Avg_temp</th>\n",
       "      <th>min_temp</th>\n",
       "      <th>max_temp</th>\n",
       "      <th>rain</th>\n",
       "      <th>stop_drunking</th>\n",
       "      <th>beef_consum</th>\n",
       "    </tr>\n",
       "  </thead>\n",
       "  <tbody>\n",
       "    <tr>\n",
       "      <th>2015-01-01</th>\n",
       "      <td>27,3</td>\n",
       "      <td>23,9</td>\n",
       "      <td>32,5</td>\n",
       "      <td>0</td>\n",
       "      <td>0</td>\n",
       "      <td>25.461</td>\n",
       "    </tr>\n",
       "    <tr>\n",
       "      <th>2015-01-02</th>\n",
       "      <td>27,02</td>\n",
       "      <td>24,5</td>\n",
       "      <td>33,5</td>\n",
       "      <td>0</td>\n",
       "      <td>0</td>\n",
       "      <td>28.972</td>\n",
       "    </tr>\n",
       "    <tr>\n",
       "      <th>2015-01-03</th>\n",
       "      <td>24,82</td>\n",
       "      <td>22,4</td>\n",
       "      <td>29,9</td>\n",
       "      <td>0</td>\n",
       "      <td>1</td>\n",
       "      <td>30.814</td>\n",
       "    </tr>\n",
       "    <tr>\n",
       "      <th>2015-01-04</th>\n",
       "      <td>23,98</td>\n",
       "      <td>21,5</td>\n",
       "      <td>28,6</td>\n",
       "      <td>1,2</td>\n",
       "      <td>1</td>\n",
       "      <td>29.799</td>\n",
       "    </tr>\n",
       "    <tr>\n",
       "      <th>2015-01-05</th>\n",
       "      <td>23,82</td>\n",
       "      <td>21</td>\n",
       "      <td>28,3</td>\n",
       "      <td>0</td>\n",
       "      <td>0</td>\n",
       "      <td>28.900</td>\n",
       "    </tr>\n",
       "  </tbody>\n",
       "</table>\n",
       "</div>"
      ],
      "text/plain": [
       "           Avg_temp min_temp max_temp rain  stop_drunking  beef_consum\n",
       "2015-01-01     27,3     23,9     32,5    0              0       25.461\n",
       "2015-01-02    27,02     24,5     33,5    0              0       28.972\n",
       "2015-01-03    24,82     22,4     29,9    0              1       30.814\n",
       "2015-01-04    23,98     21,5     28,6  1,2              1       29.799\n",
       "2015-01-05    23,82       21     28,3    0              0       28.900"
      ]
     },
     "execution_count": 1,
     "metadata": {},
     "output_type": "execute_result"
    }
   ],
   "source": [
    "import pandas as pd\n",
    "\n",
    "df = pd.read_csv('Consumo_cerveja.csv', names = ['Avg_temp','min_temp','max_temp','rain','stop_drunking','beef_consum'], skiprows=1)\n",
    "df.head()"
   ]
  },
  {
   "cell_type": "code",
   "execution_count": 2,
   "metadata": {},
   "outputs": [],
   "source": [
    "df = df.dropna(axis=0)"
   ]
  },
  {
   "cell_type": "code",
   "execution_count": 3,
   "metadata": {
    "scrolled": true
   },
   "outputs": [
    {
     "name": "stdout",
     "output_type": "stream",
     "text": [
      "<class 'pandas.core.frame.DataFrame'>\n",
      "Index: 365 entries, 2015-01-01 to 2015-12-31\n",
      "Data columns (total 6 columns):\n",
      "Avg_temp         365 non-null object\n",
      "min_temp         365 non-null object\n",
      "max_temp         365 non-null object\n",
      "rain             365 non-null object\n",
      "stop_drunking    365 non-null int64\n",
      "beef_consum      365 non-null float64\n",
      "dtypes: float64(1), int64(1), object(4)\n",
      "memory usage: 20.0+ KB\n"
     ]
    }
   ],
   "source": [
    "df.info()"
   ]
  },
  {
   "cell_type": "code",
   "execution_count": 4,
   "metadata": {},
   "outputs": [
    {
     "name": "stdout",
     "output_type": "stream",
     "text": [
      "2015-01-01     27,3\n",
      "2015-01-02    27,02\n",
      "2015-01-03    24,82\n",
      "2015-01-04    23,98\n",
      "2015-01-05    23,82\n",
      "Name: Avg_temp, dtype: object \n",
      " --------------------------------------------------\n",
      "2015-01-01    23,9\n",
      "2015-01-02    24,5\n",
      "2015-01-03    22,4\n",
      "2015-01-04    21,5\n",
      "2015-01-05      21\n",
      "Name: min_temp, dtype: object \n",
      " --------------------------------------------------\n",
      "2015-01-01    32,5\n",
      "2015-01-02    33,5\n",
      "2015-01-03    29,9\n",
      "2015-01-04    28,6\n",
      "2015-01-05    28,3\n",
      "Name: max_temp, dtype: object \n",
      " --------------------------------------------------\n",
      "2015-01-01      0\n",
      "2015-01-02      0\n",
      "2015-01-03      0\n",
      "2015-01-04    1,2\n",
      "2015-01-05      0\n",
      "Name: rain, dtype: object \n",
      " --------------------------------------------------\n"
     ]
    },
    {
     "data": {
      "text/plain": [
       "[None, None, None, None]"
      ]
     },
     "execution_count": 4,
     "metadata": {},
     "output_type": "execute_result"
    }
   ],
   "source": [
    "[print(df[i].head(),'\\n','-'*50) for i in df.columns if (df[i].dtypes == 'object')]"
   ]
  },
  {
   "cell_type": "code",
   "execution_count": 5,
   "metadata": {},
   "outputs": [
    {
     "name": "stdout",
     "output_type": "stream",
     "text": [
      "2015-01-01    0\n",
      "2015-01-02    0\n",
      "2015-01-03    1\n",
      "2015-01-04    1\n",
      "2015-01-05    0\n",
      "Name: stop_drunking, dtype: int64 \n",
      " --------------------------------------------------\n",
      "2015-01-01    25.461\n",
      "2015-01-02    28.972\n",
      "2015-01-03    30.814\n",
      "2015-01-04    29.799\n",
      "2015-01-05    28.900\n",
      "Name: beef_consum, dtype: float64 \n",
      " --------------------------------------------------\n"
     ]
    },
    {
     "data": {
      "text/plain": [
       "[None, None]"
      ]
     },
     "execution_count": 5,
     "metadata": {},
     "output_type": "execute_result"
    }
   ],
   "source": [
    "[print(df[i].head(),'\\n','-'*50) for i in df.columns if (df[i].dtypes in ['float', 'int64'])]"
   ]
  },
  {
   "cell_type": "code",
   "execution_count": 6,
   "metadata": {},
   "outputs": [
    {
     "name": "stdout",
     "output_type": "stream",
     "text": [
      "count     365\n",
      "unique    277\n",
      "top        24\n",
      "freq        5\n",
      "Name: Avg_temp, dtype: object \n",
      " --------------------------------------------------\n",
      "count      365\n",
      "unique     110\n",
      "top       18,2\n",
      "freq        11\n",
      "Name: min_temp, dtype: object \n",
      " --------------------------------------------------\n",
      "count     365\n",
      "unique    151\n",
      "top        28\n",
      "freq        7\n",
      "Name: max_temp, dtype: object \n",
      " --------------------------------------------------\n",
      "count     365\n",
      "unique     93\n",
      "top         0\n",
      "freq      218\n",
      "Name: rain, dtype: object \n",
      " --------------------------------------------------\n"
     ]
    },
    {
     "data": {
      "text/plain": [
       "[None, None, None, None]"
      ]
     },
     "execution_count": 6,
     "metadata": {},
     "output_type": "execute_result"
    }
   ],
   "source": [
    "[print(df[i].describe(),'\\n','-'*50)for i in df.columns if (df[i].dtypes == 'object')]"
   ]
  },
  {
   "cell_type": "code",
   "execution_count": 7,
   "metadata": {
    "scrolled": false
   },
   "outputs": [
    {
     "name": "stdout",
     "output_type": "stream",
     "text": [
      "count    365.000000\n",
      "mean       0.284932\n",
      "std        0.452001\n",
      "min        0.000000\n",
      "25%        0.000000\n",
      "50%        0.000000\n",
      "75%        1.000000\n",
      "max        1.000000\n",
      "Name: stop_drunking, dtype: float64 \n",
      " --------------------------------------------------\n",
      "count    365.000000\n",
      "mean      25.401367\n",
      "std        4.399143\n",
      "min       14.343000\n",
      "25%       22.008000\n",
      "50%       24.867000\n",
      "75%       28.631000\n",
      "max       37.937000\n",
      "Name: beef_consum, dtype: float64 \n",
      " --------------------------------------------------\n"
     ]
    },
    {
     "data": {
      "text/plain": [
       "[None, None]"
      ]
     },
     "execution_count": 7,
     "metadata": {},
     "output_type": "execute_result"
    }
   ],
   "source": [
    "[print(df[i].describe(),'\\n','-'*50) for i in df.columns if (df[i].dtypes in ['float', 'int64'])]"
   ]
  },
  {
   "cell_type": "code",
   "execution_count": 8,
   "metadata": {},
   "outputs": [
    {
     "data": {
      "text/plain": [
       "Avg_temp         0\n",
       "min_temp         0\n",
       "max_temp         0\n",
       "rain             0\n",
       "stop_drunking    0\n",
       "beef_consum      0\n",
       "dtype: int64"
      ]
     },
     "execution_count": 8,
     "metadata": {},
     "output_type": "execute_result"
    }
   ],
   "source": [
    "df.isna().sum()"
   ]
  },
  {
   "cell_type": "code",
   "execution_count": 9,
   "metadata": {},
   "outputs": [],
   "source": [
    "# df['Data'] = pd.to_datetime(df['Data'])"
   ]
  },
  {
   "cell_type": "code",
   "execution_count": 10,
   "metadata": {
    "scrolled": true
   },
   "outputs": [
    {
     "data": {
      "text/html": [
       "<div>\n",
       "<style scoped>\n",
       "    .dataframe tbody tr th:only-of-type {\n",
       "        vertical-align: middle;\n",
       "    }\n",
       "\n",
       "    .dataframe tbody tr th {\n",
       "        vertical-align: top;\n",
       "    }\n",
       "\n",
       "    .dataframe thead th {\n",
       "        text-align: right;\n",
       "    }\n",
       "</style>\n",
       "<table border=\"1\" class=\"dataframe\">\n",
       "  <thead>\n",
       "    <tr style=\"text-align: right;\">\n",
       "      <th></th>\n",
       "      <th>Avg_temp</th>\n",
       "      <th>min_temp</th>\n",
       "      <th>max_temp</th>\n",
       "      <th>rain</th>\n",
       "      <th>stop_drunking</th>\n",
       "      <th>beef_consum</th>\n",
       "    </tr>\n",
       "  </thead>\n",
       "  <tbody>\n",
       "    <tr>\n",
       "      <th>2015-01-01</th>\n",
       "      <td>27,3</td>\n",
       "      <td>23,9</td>\n",
       "      <td>32,5</td>\n",
       "      <td>0</td>\n",
       "      <td>0</td>\n",
       "      <td>25.461</td>\n",
       "    </tr>\n",
       "    <tr>\n",
       "      <th>2015-01-02</th>\n",
       "      <td>27,02</td>\n",
       "      <td>24,5</td>\n",
       "      <td>33,5</td>\n",
       "      <td>0</td>\n",
       "      <td>0</td>\n",
       "      <td>28.972</td>\n",
       "    </tr>\n",
       "    <tr>\n",
       "      <th>2015-01-03</th>\n",
       "      <td>24,82</td>\n",
       "      <td>22,4</td>\n",
       "      <td>29,9</td>\n",
       "      <td>0</td>\n",
       "      <td>1</td>\n",
       "      <td>30.814</td>\n",
       "    </tr>\n",
       "    <tr>\n",
       "      <th>2015-01-04</th>\n",
       "      <td>23,98</td>\n",
       "      <td>21,5</td>\n",
       "      <td>28,6</td>\n",
       "      <td>1,2</td>\n",
       "      <td>1</td>\n",
       "      <td>29.799</td>\n",
       "    </tr>\n",
       "    <tr>\n",
       "      <th>2015-01-05</th>\n",
       "      <td>23,82</td>\n",
       "      <td>21</td>\n",
       "      <td>28,3</td>\n",
       "      <td>0</td>\n",
       "      <td>0</td>\n",
       "      <td>28.900</td>\n",
       "    </tr>\n",
       "  </tbody>\n",
       "</table>\n",
       "</div>"
      ],
      "text/plain": [
       "           Avg_temp min_temp max_temp rain  stop_drunking  beef_consum\n",
       "2015-01-01     27,3     23,9     32,5    0              0       25.461\n",
       "2015-01-02    27,02     24,5     33,5    0              0       28.972\n",
       "2015-01-03    24,82     22,4     29,9    0              1       30.814\n",
       "2015-01-04    23,98     21,5     28,6  1,2              1       29.799\n",
       "2015-01-05    23,82       21     28,3    0              0       28.900"
      ]
     },
     "execution_count": 10,
     "metadata": {},
     "output_type": "execute_result"
    }
   ],
   "source": [
    "df.head()"
   ]
  },
  {
   "cell_type": "markdown",
   "metadata": {},
   "source": [
    "### replace and object to float"
   ]
  },
  {
   "cell_type": "code",
   "execution_count": 11,
   "metadata": {
    "scrolled": true
   },
   "outputs": [],
   "source": [
    "# import re\n",
    "\n",
    "# for i in range(len(df)):\n",
    "#     for col in df.columns[:4]:\n",
    "#         df[col][i] = df[col][i].replace(',', '.')\n",
    "# df.head()"
   ]
  },
  {
   "cell_type": "code",
   "execution_count": 12,
   "metadata": {},
   "outputs": [
    {
     "data": {
      "text/html": [
       "<div>\n",
       "<style scoped>\n",
       "    .dataframe tbody tr th:only-of-type {\n",
       "        vertical-align: middle;\n",
       "    }\n",
       "\n",
       "    .dataframe tbody tr th {\n",
       "        vertical-align: top;\n",
       "    }\n",
       "\n",
       "    .dataframe thead th {\n",
       "        text-align: right;\n",
       "    }\n",
       "</style>\n",
       "<table border=\"1\" class=\"dataframe\">\n",
       "  <thead>\n",
       "    <tr style=\"text-align: right;\">\n",
       "      <th></th>\n",
       "      <th>Avg_temp</th>\n",
       "      <th>min_temp</th>\n",
       "      <th>max_temp</th>\n",
       "      <th>rain</th>\n",
       "      <th>stop_drunking</th>\n",
       "      <th>beef_consum</th>\n",
       "    </tr>\n",
       "  </thead>\n",
       "  <tbody>\n",
       "    <tr>\n",
       "      <th>2015-01-01</th>\n",
       "      <td>27.3</td>\n",
       "      <td>23.9</td>\n",
       "      <td>32.5</td>\n",
       "      <td>0</td>\n",
       "      <td>0</td>\n",
       "      <td>25.461</td>\n",
       "    </tr>\n",
       "    <tr>\n",
       "      <th>2015-01-02</th>\n",
       "      <td>27.02</td>\n",
       "      <td>24.5</td>\n",
       "      <td>33.5</td>\n",
       "      <td>0</td>\n",
       "      <td>0</td>\n",
       "      <td>28.972</td>\n",
       "    </tr>\n",
       "    <tr>\n",
       "      <th>2015-01-03</th>\n",
       "      <td>24.82</td>\n",
       "      <td>22.4</td>\n",
       "      <td>29.9</td>\n",
       "      <td>0</td>\n",
       "      <td>1</td>\n",
       "      <td>30.814</td>\n",
       "    </tr>\n",
       "    <tr>\n",
       "      <th>2015-01-04</th>\n",
       "      <td>23.98</td>\n",
       "      <td>21.5</td>\n",
       "      <td>28.6</td>\n",
       "      <td>1.2</td>\n",
       "      <td>1</td>\n",
       "      <td>29.799</td>\n",
       "    </tr>\n",
       "    <tr>\n",
       "      <th>2015-01-05</th>\n",
       "      <td>23.82</td>\n",
       "      <td>21</td>\n",
       "      <td>28.3</td>\n",
       "      <td>0</td>\n",
       "      <td>0</td>\n",
       "      <td>28.900</td>\n",
       "    </tr>\n",
       "  </tbody>\n",
       "</table>\n",
       "</div>"
      ],
      "text/plain": [
       "           Avg_temp min_temp max_temp rain  stop_drunking  beef_consum\n",
       "2015-01-01     27.3     23.9     32.5    0              0       25.461\n",
       "2015-01-02    27.02     24.5     33.5    0              0       28.972\n",
       "2015-01-03    24.82     22.4     29.9    0              1       30.814\n",
       "2015-01-04    23.98     21.5     28.6  1.2              1       29.799\n",
       "2015-01-05    23.82       21     28.3    0              0       28.900"
      ]
     },
     "execution_count": 12,
     "metadata": {},
     "output_type": "execute_result"
    }
   ],
   "source": [
    "import re\n",
    "df.replace(regex=True, to_replace=',', value=r'.', inplace=True)\n",
    "df.head()"
   ]
  },
  {
   "cell_type": "code",
   "execution_count": 13,
   "metadata": {},
   "outputs": [],
   "source": [
    "col_list = df.columns"
   ]
  },
  {
   "cell_type": "code",
   "execution_count": 14,
   "metadata": {
    "scrolled": true
   },
   "outputs": [
    {
     "name": "stderr",
     "output_type": "stream",
     "text": [
      "C:\\Users\\user\\Anaconda3\\lib\\site-packages\\ipykernel_launcher.py:1: FutureWarning: convert_objects is deprecated.  To re-infer data dtypes for object columns, use DataFrame.infer_objects()\n",
      "For all other conversions use the data-type specific converters pd.to_datetime, pd.to_timedelta and pd.to_numeric.\n",
      "  \"\"\"Entry point for launching an IPython kernel.\n"
     ]
    }
   ],
   "source": [
    "df[col_list] = df[col_list].convert_objects(convert_numeric=True)"
   ]
  },
  {
   "cell_type": "code",
   "execution_count": 15,
   "metadata": {
    "scrolled": true
   },
   "outputs": [
    {
     "name": "stdout",
     "output_type": "stream",
     "text": [
      "<class 'pandas.core.frame.DataFrame'>\n",
      "Index: 365 entries, 2015-01-01 to 2015-12-31\n",
      "Data columns (total 6 columns):\n",
      "Avg_temp         365 non-null float64\n",
      "min_temp         365 non-null float64\n",
      "max_temp         365 non-null float64\n",
      "rain             365 non-null float64\n",
      "stop_drunking    365 non-null int64\n",
      "beef_consum      365 non-null float64\n",
      "dtypes: float64(5), int64(1)\n",
      "memory usage: 20.0+ KB\n"
     ]
    }
   ],
   "source": [
    "df.info()"
   ]
  },
  {
   "cell_type": "code",
   "execution_count": 16,
   "metadata": {},
   "outputs": [
    {
     "data": {
      "text/html": [
       "<div>\n",
       "<style scoped>\n",
       "    .dataframe tbody tr th:only-of-type {\n",
       "        vertical-align: middle;\n",
       "    }\n",
       "\n",
       "    .dataframe tbody tr th {\n",
       "        vertical-align: top;\n",
       "    }\n",
       "\n",
       "    .dataframe thead th {\n",
       "        text-align: right;\n",
       "    }\n",
       "</style>\n",
       "<table border=\"1\" class=\"dataframe\">\n",
       "  <thead>\n",
       "    <tr style=\"text-align: right;\">\n",
       "      <th></th>\n",
       "      <th>Avg_temp</th>\n",
       "      <th>min_temp</th>\n",
       "      <th>max_temp</th>\n",
       "      <th>rain</th>\n",
       "      <th>stop_drunking</th>\n",
       "      <th>beef_consum</th>\n",
       "    </tr>\n",
       "  </thead>\n",
       "  <tbody>\n",
       "    <tr>\n",
       "      <th>2015-01-01</th>\n",
       "      <td>27.30</td>\n",
       "      <td>23.9</td>\n",
       "      <td>32.5</td>\n",
       "      <td>0.0</td>\n",
       "      <td>0</td>\n",
       "      <td>25.461</td>\n",
       "    </tr>\n",
       "    <tr>\n",
       "      <th>2015-01-02</th>\n",
       "      <td>27.02</td>\n",
       "      <td>24.5</td>\n",
       "      <td>33.5</td>\n",
       "      <td>0.0</td>\n",
       "      <td>0</td>\n",
       "      <td>28.972</td>\n",
       "    </tr>\n",
       "    <tr>\n",
       "      <th>2015-01-03</th>\n",
       "      <td>24.82</td>\n",
       "      <td>22.4</td>\n",
       "      <td>29.9</td>\n",
       "      <td>0.0</td>\n",
       "      <td>1</td>\n",
       "      <td>30.814</td>\n",
       "    </tr>\n",
       "    <tr>\n",
       "      <th>2015-01-04</th>\n",
       "      <td>23.98</td>\n",
       "      <td>21.5</td>\n",
       "      <td>28.6</td>\n",
       "      <td>1.2</td>\n",
       "      <td>1</td>\n",
       "      <td>29.799</td>\n",
       "    </tr>\n",
       "    <tr>\n",
       "      <th>2015-01-05</th>\n",
       "      <td>23.82</td>\n",
       "      <td>21.0</td>\n",
       "      <td>28.3</td>\n",
       "      <td>0.0</td>\n",
       "      <td>0</td>\n",
       "      <td>28.900</td>\n",
       "    </tr>\n",
       "  </tbody>\n",
       "</table>\n",
       "</div>"
      ],
      "text/plain": [
       "            Avg_temp  min_temp  max_temp  rain  stop_drunking  beef_consum\n",
       "2015-01-01     27.30      23.9      32.5   0.0              0       25.461\n",
       "2015-01-02     27.02      24.5      33.5   0.0              0       28.972\n",
       "2015-01-03     24.82      22.4      29.9   0.0              1       30.814\n",
       "2015-01-04     23.98      21.5      28.6   1.2              1       29.799\n",
       "2015-01-05     23.82      21.0      28.3   0.0              0       28.900"
      ]
     },
     "execution_count": 16,
     "metadata": {},
     "output_type": "execute_result"
    }
   ],
   "source": [
    "df.head()"
   ]
  },
  {
   "cell_type": "markdown",
   "metadata": {},
   "source": [
    "### Scaling\n",
    "- Standard 평균이 0이고 표준편차가 1인 정규분포를 따르도록, minmax 0~1까지의 비율로 맞춰주는 것"
   ]
  },
  {
   "cell_type": "code",
   "execution_count": 17,
   "metadata": {
    "scrolled": true
   },
   "outputs": [
    {
     "data": {
      "text/plain": [
       "array([[0.90225564, 0.95683453, 0.81818182, 0.        , 0.        ,\n",
       "        0.4712215 ],\n",
       "       [0.88471178, 1.        , 0.86363636, 0.        , 0.        ,\n",
       "        0.62003052],\n",
       "       [0.74686717, 0.84892086, 0.7       , 0.        , 1.        ,\n",
       "        0.69810121],\n",
       "       [0.69423559, 0.78417266, 0.64090909, 0.01265823, 1.        ,\n",
       "        0.6550818 ],\n",
       "       [0.68421053, 0.74820144, 0.62727273, 0.        , 0.        ,\n",
       "        0.61697889]])"
      ]
     },
     "execution_count": 17,
     "metadata": {},
     "output_type": "execute_result"
    }
   ],
   "source": [
    "from sklearn.preprocessing import StandardScaler\n",
    "from sklearn.preprocessing import MinMaxScaler\n",
    "\n",
    "# scaler = StandardScaler()  #  Standard 평균이 0이고 표준편차가 1인 정규분포를 따르도록, minmax 0~1까지의 비율로 맞춰주는 것\n",
    "scaler = MinMaxScaler()\n",
    "df2 = scaler.fit_transform(df)\n",
    "df2[0:5]"
   ]
  },
  {
   "cell_type": "code",
   "execution_count": 18,
   "metadata": {},
   "outputs": [
    {
     "data": {
      "text/plain": [
       "(0.0, 1.0)"
      ]
     },
     "execution_count": 18,
     "metadata": {},
     "output_type": "execute_result"
    }
   ],
   "source": [
    "df2.min(), df2.max()"
   ]
  },
  {
   "cell_type": "code",
   "execution_count": 19,
   "metadata": {},
   "outputs": [],
   "source": [
    "# DataFrame 용 window_size 절삭\n",
    "\n",
    "# import numpy as np\n",
    "\n",
    "# def df_seq2dataset(X, window_size):\n",
    "#     Xdata = []\n",
    "#     Ydata = []\n",
    "#     for i in range(len(X)- window_size):\n",
    "#         X_subset = X.iloc[i:(i+window_size), :5]\n",
    "#         Xdata.append(np.array(X_subset))\n",
    "        \n",
    "#         Y_subset = X.iloc[i:(i+window_size), -1]\n",
    "#         Ydata.append(np.array(Y_subset))\n",
    "        \n",
    "#     return np.array(Xdata), np.array(Ydata)"
   ]
  },
  {
   "cell_type": "code",
   "execution_count": 20,
   "metadata": {},
   "outputs": [],
   "source": [
    "# df_x_data, df_y_data = df_seq2dataset(df, 3)"
   ]
  },
  {
   "cell_type": "code",
   "execution_count": 21,
   "metadata": {},
   "outputs": [],
   "source": [
    "# df_x_data[0]"
   ]
  },
  {
   "cell_type": "code",
   "execution_count": 22,
   "metadata": {},
   "outputs": [],
   "source": [
    "# df_y_data[0]"
   ]
  },
  {
   "cell_type": "code",
   "execution_count": 23,
   "metadata": {},
   "outputs": [],
   "source": [
    "# array 용 window_size\n",
    "import numpy as np\n",
    "\n",
    "def seq2dataset(X, window_size):\n",
    "    Xdata = []\n",
    "    Ydata = []\n",
    "    for i in range(len(X)- window_size):\n",
    "        X_subset = X[i:(i+window_size), :5]\n",
    "        Xdata.append(X_subset)\n",
    "        \n",
    "        Y_subset = X[i:(i+window_size), -1]\n",
    "        Ydata.append(Y_subset)\n",
    "        \n",
    "    return np.array(Xdata), np.array(Ydata)"
   ]
  },
  {
   "cell_type": "code",
   "execution_count": 24,
   "metadata": {},
   "outputs": [],
   "source": [
    "x_data, y_data = seq2dataset(df2, 3)"
   ]
  },
  {
   "cell_type": "code",
   "execution_count": 25,
   "metadata": {},
   "outputs": [
    {
     "data": {
      "text/plain": [
       "(362, 3, 5)"
      ]
     },
     "execution_count": 25,
     "metadata": {},
     "output_type": "execute_result"
    }
   ],
   "source": [
    "x_data.shape"
   ]
  },
  {
   "cell_type": "code",
   "execution_count": 26,
   "metadata": {},
   "outputs": [
    {
     "data": {
      "text/plain": [
       "(362, 3)"
      ]
     },
     "execution_count": 26,
     "metadata": {},
     "output_type": "execute_result"
    }
   ],
   "source": [
    "y_data.shape"
   ]
  },
  {
   "cell_type": "code",
   "execution_count": 27,
   "metadata": {},
   "outputs": [
    {
     "data": {
      "text/plain": [
       "(array([[0.90225564, 0.95683453, 0.81818182, 0.        , 0.        ],\n",
       "        [0.88471178, 1.        , 0.86363636, 0.        , 0.        ],\n",
       "        [0.74686717, 0.84892086, 0.7       , 0.        , 1.        ]]),\n",
       " array([[0.88471178, 1.        , 0.86363636, 0.        , 0.        ],\n",
       "        [0.74686717, 0.84892086, 0.7       , 0.        , 1.        ],\n",
       "        [0.69423559, 0.78417266, 0.64090909, 0.01265823, 1.        ]]))"
      ]
     },
     "execution_count": 27,
     "metadata": {},
     "output_type": "execute_result"
    }
   ],
   "source": [
    "x_data[0], x_data[1]"
   ]
  },
  {
   "cell_type": "code",
   "execution_count": 28,
   "metadata": {
    "scrolled": true
   },
   "outputs": [
    {
     "data": {
      "text/plain": [
       "(array([0.4712215 , 0.62003052, 0.69810121]),\n",
       " array([0.62003052, 0.69810121, 0.6550818 ]))"
      ]
     },
     "execution_count": 28,
     "metadata": {},
     "output_type": "execute_result"
    }
   ],
   "source": [
    "y_data[0], y_data[1]"
   ]
  },
  {
   "cell_type": "code",
   "execution_count": 29,
   "metadata": {
    "scrolled": true
   },
   "outputs": [
    {
     "data": {
      "text/plain": [
       "(0.0, 0.0)"
      ]
     },
     "execution_count": 29,
     "metadata": {},
     "output_type": "execute_result"
    }
   ],
   "source": [
    "x_data.min(), y_data.min()"
   ]
  },
  {
   "cell_type": "code",
   "execution_count": 30,
   "metadata": {},
   "outputs": [
    {
     "data": {
      "text/plain": [
       "(1.0, 1.0)"
      ]
     },
     "execution_count": 30,
     "metadata": {},
     "output_type": "execute_result"
    }
   ],
   "source": [
    "x_data.max(), y_data.max()"
   ]
  },
  {
   "cell_type": "markdown",
   "metadata": {},
   "source": [
    "### Activation = 'relu', Optimizer = 'rmsprop'"
   ]
  },
  {
   "cell_type": "code",
   "execution_count": 38,
   "metadata": {},
   "outputs": [
    {
     "name": "stderr",
     "output_type": "stream",
     "text": [
      "C:\\Users\\user\\Anaconda3\\lib\\site-packages\\h5py\\__init__.py:36: FutureWarning: Conversion of the second argument of issubdtype from `float` to `np.floating` is deprecated. In future, it will be treated as `np.float64 == np.dtype(float).type`.\n",
      "  from ._conv import register_converters as _register_converters\n",
      "Using TensorFlow backend.\n"
     ]
    }
   ],
   "source": [
    "from keras.models import Sequential\n",
    "from keras.layers import Dense,LSTM\n",
    "# from keras.utils import np_utils\n",
    "import keras\n",
    "\n",
    "x_train=x_data\n",
    "y_train=y_data\n",
    "# x_train = np_utils.to_categorical(x_train)\n",
    "# y_train=np_utils.to_categorical(y_train) # shape 구조 때문에 fit 되지 않는다.\n",
    "one_hot_vec_size = y_train.shape[1]\n",
    "print('one hot encoding vector size is',one_hot_vec_size)\n",
    "model= Sequential()\n",
    "model.add(LSTM(16,input_dim=5,activation='relu')) #input_dim 은 feature 개수 이다. 16은 앞에서 자른 묶음을 16개씩 \n",
    "model.add(Dense(y_train.shape[1],activation='relu')) #y_train.shape[1] 출력 개수, 맞춰주기 앞에서 자른 개수 많큼\n",
    "model.compile(loss='mse', optimizer='rmsprop', metrics=['accuracy'])\n",
    "# model.compile(loss='categorical_crossentropy', optimizer='adam', metrics=['accuracy']) # 정답이 여러 개일때 categorical_crossentropy"
   ]
  },
  {
   "cell_type": "code",
   "execution_count": 39,
   "metadata": {},
   "outputs": [
    {
     "ename": "NameError",
     "evalue": "name 'one_hot_vec_size' is not defined",
     "output_type": "error",
     "traceback": [
      "\u001b[1;31m---------------------------------------------------------------------------\u001b[0m",
      "\u001b[1;31mNameError\u001b[0m                                 Traceback (most recent call last)",
      "\u001b[1;32m<ipython-input-39-2bb13d0f4639>\u001b[0m in \u001b[0;36m<module>\u001b[1;34m()\u001b[0m\n\u001b[0;32m      7\u001b[0m         \u001b[0mself\u001b[0m\u001b[1;33m.\u001b[0m\u001b[0mlosses\u001b[0m\u001b[1;33m.\u001b[0m\u001b[0mappend\u001b[0m\u001b[1;33m(\u001b[0m\u001b[0mlogs\u001b[0m\u001b[1;33m.\u001b[0m\u001b[0mget\u001b[0m\u001b[1;33m(\u001b[0m\u001b[1;34m'loss'\u001b[0m\u001b[1;33m)\u001b[0m\u001b[1;33m)\u001b[0m\u001b[1;33m\u001b[0m\u001b[0m\n\u001b[0;32m      8\u001b[0m \u001b[1;33m\u001b[0m\u001b[0m\n\u001b[1;32m----> 9\u001b[1;33m \u001b[0mprint\u001b[0m\u001b[1;33m(\u001b[0m\u001b[1;34m\"one hot encoding vector size is \"\u001b[0m\u001b[1;33m,\u001b[0m \u001b[0mone_hot_vec_size\u001b[0m\u001b[1;33m)\u001b[0m\u001b[1;33m\u001b[0m\u001b[0m\n\u001b[0m\u001b[0;32m     10\u001b[0m \u001b[1;33m\u001b[0m\u001b[0m\n\u001b[0;32m     11\u001b[0m \u001b[1;33m\u001b[0m\u001b[0m\n",
      "\u001b[1;31mNameError\u001b[0m: name 'one_hot_vec_size' is not defined"
     ]
    }
   ],
   "source": [
    "# 손실 이력 클래스 정의\n",
    "class LossHistory(keras.callbacks.Callback):\n",
    "    def init(self):\n",
    "        self.losses = []\n",
    "        \n",
    "    def on_epoch_end(self, batch, logs={}):\n",
    "        self.losses.append(logs.get('loss'))\n",
    "\n",
    "print(\"one hot encoding vector size is \", one_hot_vec_size)\n",
    "\n",
    "\n",
    "history = LossHistory() \n",
    "history.init()"
   ]
  },
  {
   "cell_type": "code",
   "execution_count": 33,
   "metadata": {},
   "outputs": [
    {
     "data": {
      "text/plain": [
       "(362, 3)"
      ]
     },
     "execution_count": 33,
     "metadata": {},
     "output_type": "execute_result"
    }
   ],
   "source": [
    "# y_train1= np.reshape(y_train,(362,3,1))\n",
    "y_train.shape"
   ]
  },
  {
   "cell_type": "code",
   "execution_count": 34,
   "metadata": {
    "scrolled": true
   },
   "outputs": [
    {
     "data": {
      "text/plain": [
       "(362, 3, 5)"
      ]
     },
     "execution_count": 34,
     "metadata": {},
     "output_type": "execute_result"
    }
   ],
   "source": [
    "x_train.shape"
   ]
  },
  {
   "cell_type": "code",
   "execution_count": 35,
   "metadata": {
    "scrolled": true
   },
   "outputs": [
    {
     "name": "stdout",
     "output_type": "stream",
     "text": [
      "Epoch 1/100\n",
      " - 1s - loss: 0.2096 - acc: 0.2845\n",
      "Epoch 2/100\n",
      " - 0s - loss: 0.1783 - acc: 0.2845\n",
      "Epoch 3/100\n",
      " - 0s - loss: 0.1763 - acc: 0.2845\n",
      "Epoch 4/100\n",
      " - 0s - loss: 0.1760 - acc: 0.2845\n",
      "Epoch 5/100\n",
      " - 0s - loss: 0.1757 - acc: 0.2845\n",
      "Epoch 6/100\n",
      " - 0s - loss: 0.1755 - acc: 0.2845\n",
      "Epoch 7/100\n",
      " - 0s - loss: 0.1754 - acc: 0.2845\n",
      "Epoch 8/100\n",
      " - 0s - loss: 0.1753 - acc: 0.2845\n",
      "Epoch 9/100\n",
      " - 0s - loss: 0.1752 - acc: 0.2845\n",
      "Epoch 10/100\n",
      " - 0s - loss: 0.1751 - acc: 0.2845\n",
      "Epoch 11/100\n",
      " - 0s - loss: 0.1751 - acc: 0.2845\n",
      "Epoch 12/100\n",
      " - 0s - loss: 0.1750 - acc: 0.2845\n",
      "Epoch 13/100\n",
      " - 0s - loss: 0.1750 - acc: 0.2845\n",
      "Epoch 14/100\n",
      " - 0s - loss: 0.1750 - acc: 0.2845\n",
      "Epoch 15/100\n",
      " - 0s - loss: 0.1750 - acc: 0.2845\n",
      "Epoch 16/100\n",
      " - 0s - loss: 0.1749 - acc: 0.2845\n",
      "Epoch 17/100\n",
      " - 0s - loss: 0.1749 - acc: 0.2845\n",
      "Epoch 18/100\n",
      " - 0s - loss: 0.1749 - acc: 0.2845\n",
      "Epoch 19/100\n",
      " - 0s - loss: 0.1749 - acc: 0.2845\n",
      "Epoch 20/100\n",
      " - 0s - loss: 0.1749 - acc: 0.2845\n",
      "Epoch 21/100\n",
      " - 0s - loss: 0.1748 - acc: 0.2845\n",
      "Epoch 22/100\n",
      " - 0s - loss: 0.1748 - acc: 0.2845\n",
      "Epoch 23/100\n",
      " - 0s - loss: 0.1748 - acc: 0.2845\n",
      "Epoch 24/100\n",
      " - 0s - loss: 0.1748 - acc: 0.2845\n",
      "Epoch 25/100\n",
      " - 0s - loss: 0.1748 - acc: 0.2845\n",
      "Epoch 26/100\n",
      " - 0s - loss: 0.1747 - acc: 0.2845\n",
      "Epoch 27/100\n",
      " - 0s - loss: 0.1747 - acc: 0.2845\n",
      "Epoch 28/100\n",
      " - 0s - loss: 0.1747 - acc: 0.2845\n",
      "Epoch 29/100\n",
      " - 0s - loss: 0.1747 - acc: 0.2845\n",
      "Epoch 30/100\n",
      " - 0s - loss: 0.1746 - acc: 0.2845\n",
      "Epoch 31/100\n",
      " - 0s - loss: 0.1746 - acc: 0.2845\n",
      "Epoch 32/100\n",
      " - 0s - loss: 0.1746 - acc: 0.2845\n",
      "Epoch 33/100\n",
      " - 0s - loss: 0.1746 - acc: 0.2845\n",
      "Epoch 34/100\n",
      " - 0s - loss: 0.1745 - acc: 0.2845\n",
      "Epoch 35/100\n",
      " - 0s - loss: 0.1745 - acc: 0.2845\n",
      "Epoch 36/100\n",
      " - 0s - loss: 0.1745 - acc: 0.2845\n",
      "Epoch 37/100\n",
      " - 0s - loss: 0.1745 - acc: 0.2845\n",
      "Epoch 38/100\n",
      " - 0s - loss: 0.1744 - acc: 0.2845\n",
      "Epoch 39/100\n",
      " - 0s - loss: 0.1744 - acc: 0.2845\n",
      "Epoch 40/100\n",
      " - 0s - loss: 0.1744 - acc: 0.2845\n",
      "Epoch 41/100\n",
      " - 0s - loss: 0.1744 - acc: 0.2845\n",
      "Epoch 42/100\n",
      " - 0s - loss: 0.1743 - acc: 0.2845\n",
      "Epoch 43/100\n",
      " - 0s - loss: 0.1743 - acc: 0.2845\n",
      "Epoch 44/100\n",
      " - 0s - loss: 0.1743 - acc: 0.2845\n",
      "Epoch 45/100\n",
      " - 0s - loss: 0.1743 - acc: 0.2845\n",
      "Epoch 46/100\n",
      " - 0s - loss: 0.1742 - acc: 0.2845\n",
      "Epoch 47/100\n",
      " - 0s - loss: 0.1742 - acc: 0.2845\n",
      "Epoch 48/100\n",
      " - 0s - loss: 0.1742 - acc: 0.2845\n",
      "Epoch 49/100\n",
      " - 0s - loss: 0.1742 - acc: 0.2845\n",
      "Epoch 50/100\n",
      " - 0s - loss: 0.1741 - acc: 0.2845\n",
      "Epoch 51/100\n",
      " - 0s - loss: 0.1741 - acc: 0.2845\n",
      "Epoch 52/100\n",
      " - 0s - loss: 0.1741 - acc: 0.2845\n",
      "Epoch 53/100\n",
      " - 0s - loss: 0.1741 - acc: 0.2845\n",
      "Epoch 54/100\n",
      " - 0s - loss: 0.1741 - acc: 0.2845\n",
      "Epoch 55/100\n",
      " - 0s - loss: 0.1741 - acc: 0.2845\n",
      "Epoch 56/100\n",
      " - 0s - loss: 0.1741 - acc: 0.2845\n",
      "Epoch 57/100\n",
      " - 0s - loss: 0.1740 - acc: 0.2845\n",
      "Epoch 58/100\n",
      " - 0s - loss: 0.1740 - acc: 0.2845\n",
      "Epoch 59/100\n",
      " - 0s - loss: 0.1740 - acc: 0.2845\n",
      "Epoch 60/100\n",
      " - 0s - loss: 0.1740 - acc: 0.2845\n",
      "Epoch 61/100\n",
      " - 0s - loss: 0.1740 - acc: 0.2845\n",
      "Epoch 62/100\n",
      " - 0s - loss: 0.1740 - acc: 0.2845\n",
      "Epoch 63/100\n",
      " - 0s - loss: 0.1740 - acc: 0.2845\n",
      "Epoch 64/100\n",
      " - 0s - loss: 0.1740 - acc: 0.2845\n",
      "Epoch 65/100\n",
      " - 0s - loss: 0.1740 - acc: 0.2845\n",
      "Epoch 66/100\n",
      " - 0s - loss: 0.1740 - acc: 0.2845\n",
      "Epoch 67/100\n",
      " - 0s - loss: 0.1740 - acc: 0.2845\n",
      "Epoch 68/100\n",
      " - 0s - loss: 0.1739 - acc: 0.2845\n",
      "Epoch 69/100\n",
      " - 0s - loss: 0.1739 - acc: 0.2845\n",
      "Epoch 70/100\n",
      " - 0s - loss: 0.1739 - acc: 0.2845\n",
      "Epoch 71/100\n",
      " - 0s - loss: 0.1739 - acc: 0.2845\n",
      "Epoch 72/100\n",
      " - 0s - loss: 0.1739 - acc: 0.2845\n",
      "Epoch 73/100\n",
      " - 0s - loss: 0.1739 - acc: 0.2845\n",
      "Epoch 74/100\n",
      " - 0s - loss: 0.1739 - acc: 0.2845\n",
      "Epoch 75/100\n",
      " - 0s - loss: 0.1739 - acc: 0.2845\n",
      "Epoch 76/100\n",
      " - 0s - loss: 0.1739 - acc: 0.2845\n",
      "Epoch 77/100\n",
      " - 0s - loss: 0.1739 - acc: 0.2845\n",
      "Epoch 78/100\n",
      " - 0s - loss: 0.1739 - acc: 0.2845\n",
      "Epoch 79/100\n",
      " - 0s - loss: 0.1739 - acc: 0.2845\n",
      "Epoch 80/100\n",
      " - 0s - loss: 0.1739 - acc: 0.2845\n",
      "Epoch 81/100\n",
      " - 0s - loss: 0.1739 - acc: 0.2845\n",
      "Epoch 82/100\n",
      " - 0s - loss: 0.1739 - acc: 0.2845\n",
      "Epoch 83/100\n",
      " - 0s - loss: 0.1738 - acc: 0.2845\n",
      "Epoch 84/100\n",
      " - 0s - loss: 0.1738 - acc: 0.2845\n",
      "Epoch 85/100\n",
      " - 0s - loss: 0.1738 - acc: 0.2845\n",
      "Epoch 86/100\n",
      " - 0s - loss: 0.1738 - acc: 0.2845\n",
      "Epoch 87/100\n",
      " - 0s - loss: 0.1738 - acc: 0.2845\n",
      "Epoch 88/100\n",
      " - 0s - loss: 0.1738 - acc: 0.2845\n",
      "Epoch 89/100\n",
      " - 0s - loss: 0.1738 - acc: 0.2845\n",
      "Epoch 90/100\n",
      " - 0s - loss: 0.1738 - acc: 0.2845\n",
      "Epoch 91/100\n",
      " - 0s - loss: 0.1738 - acc: 0.2845\n",
      "Epoch 92/100\n",
      " - 0s - loss: 0.1738 - acc: 0.2845\n",
      "Epoch 93/100\n",
      " - 0s - loss: 0.1738 - acc: 0.2845\n",
      "Epoch 94/100\n",
      " - 0s - loss: 0.1738 - acc: 0.2845\n",
      "Epoch 95/100\n",
      " - 0s - loss: 0.1738 - acc: 0.2845\n",
      "Epoch 96/100\n",
      " - 0s - loss: 0.1738 - acc: 0.2845\n",
      "Epoch 97/100\n",
      " - 0s - loss: 0.1738 - acc: 0.2845\n",
      "Epoch 98/100\n",
      " - 0s - loss: 0.1737 - acc: 0.2845\n",
      "Epoch 99/100\n",
      " - 0s - loss: 0.1737 - acc: 0.2845\n",
      "Epoch 100/100\n",
      " - 0s - loss: 0.1737 - acc: 0.2845\n"
     ]
    },
    {
     "data": {
      "image/png": "[encoded data removed]",
      "text/plain": [
       "<Figure size 432x288 with 1 Axes>"
      ]
     },
     "metadata": {},
     "output_type": "display_data"
    },
    {
     "name": "stdout",
     "output_type": "stream",
     "text": [
      "362/362 [==============================] - 0s 248us/step\n",
      "loss: 17.39%\n",
      "acc: 28.45%\n"
     ]
    }
   ],
   "source": [
    "model.fit(x_train,y_train,epochs=100,batch_size=10,verbose=2,shuffle=False,callbacks=[history]) #shuffle 순서대로 실행\n",
    "\n",
    "%matplotlib inline\n",
    "import matplotlib.pyplot as plt\n",
    "\n",
    "plt.plot(history.losses)\n",
    "plt.ylabel('loss')\n",
    "plt.xlabel('epoch')\n",
    "plt.legend(['train'], loc='upper left')\n",
    "plt.show()\n",
    "\n",
    "scores = model.evaluate(x_train, y_train)\n",
    "print(\"%s: %.2f%%\" %(model.metrics_names[0], scores[0]*100))\n",
    "print(\"%s: %.2f%%\" %(model.metrics_names[1], scores[1]*100))"
   ]
  },
  {
   "cell_type": "code",
   "execution_count": 36,
   "metadata": {},
   "outputs": [
    {
     "name": "stdout",
     "output_type": "stream",
     "text": [
      "loss: 17.39%\n",
      "acc: 28.45%\n"
     ]
    }
   ],
   "source": [
    "print(\"%s: %.2f%%\" %(model.metrics_names[0], scores[0]*100))\n",
    "print(\"%s: %.2f%%\" %(model.metrics_names[1], scores[1]*100))"
   ]
  },
  {
   "cell_type": "code",
   "execution_count": 37,
   "metadata": {
    "scrolled": true
   },
   "outputs": [
    {
     "data": {
      "text/plain": [
       "array([[0.        , 0.5503479 , 0.        ],\n",
       "       [0.        , 0.76517713, 0.        ],\n",
       "       [0.        , 0.7308793 , 0.        ],\n",
       "       ...,\n",
       "       [0.        , 0.6286862 , 0.        ],\n",
       "       [0.        , 0.4413172 , 0.        ],\n",
       "       [0.        , 0.36587042, 0.        ]], dtype=float32)"
      ]
     },
     "execution_count": 37,
     "metadata": {},
     "output_type": "execute_result"
    }
   ],
   "source": [
    "pred_out = model.predict(x_data)\n",
    "pred_out"
   ]
  },
  {
   "cell_type": "code",
   "execution_count": 38,
   "metadata": {
    "scrolled": false
   },
   "outputs": [
    {
     "data": {
      "text/plain": [
       "0.17394150345763437"
      ]
     },
     "execution_count": 38,
     "metadata": {},
     "output_type": "execute_result"
    }
   ],
   "source": [
    "from sklearn.metrics import mean_squared_error\n",
    "mean_squared_error(y_data, pred_out)"
   ]
  },
  {
   "cell_type": "markdown",
   "metadata": {},
   "source": [
    "### Activation = 'tanh', Optimizer = 'adam'"
   ]
  },
  {
   "cell_type": "code",
   "execution_count": 40,
   "metadata": {
    "scrolled": true
   },
   "outputs": [],
   "source": [
    "from keras.models import Sequential\n",
    "from keras.layers import Dense,LSTM\n",
    "# from keras.utils import np_utils\n",
    "import keras\n",
    "\n",
    "x_train=x_data\n",
    "y_train=y_data\n",
    "# x_train = np_utils.to_categorical(x_train)\n",
    "# y_train=np_utils.to_categorical(y_train) # shape 구조 때문에 fit 되지 않는다.\n",
    "one_hot_vec_size = y_train.shape[1]\n",
    "print('one hot encoding vector size is',one_hot_vec_size)\n",
    "model_tanh= Sequential()\n",
    "model_tanh.add(LSTM(16,input_dim=5,activation='tanh')) #input_dim 은 feature 개수 이다. 16은 앞에서 자른 묶음을 16개씩 \n",
    "model_tanh.add(Dense(y_train.shape[1],activation='tanh')) #y_train.shape[1] 출력 개수, 맞춰주기 앞에서 자른 개수 많큼\n",
    "model_tanh.compile(loss='mse', optimizer='adam', metrics=['accuracy'])\n",
    "# model.compile(loss='categorical_crossentropy', optimizer='adam', metrics=['accuracy']) # 정답이 여러 개일때 categorical_crossentropy"
   ]
  },
  {
   "cell_type": "code",
   "execution_count": 41,
   "metadata": {},
   "outputs": [
    {
     "name": "stdout",
     "output_type": "stream",
     "text": [
      "one hot encoding vector size is  3\n"
     ]
    }
   ],
   "source": [
    "# 손실 이력 클래스 정의\n",
    "class LossHistory(keras.callbacks.Callback):\n",
    "    def init(self):\n",
    "        self.losses = []\n",
    "        \n",
    "    def on_epoch_end(self, batch, logs={}):\n",
    "        self.losses.append(logs.get('loss'))\n",
    "\n",
    "print(\"one hot encoding vector size is \", one_hot_vec_size)\n",
    "\n",
    "\n",
    "history = LossHistory() \n",
    "history.init()"
   ]
  },
  {
   "cell_type": "code",
   "execution_count": 41,
   "metadata": {
    "scrolled": true
   },
   "outputs": [
    {
     "name": "stdout",
     "output_type": "stream",
     "text": [
      "Epoch 1/100\n",
      " - 1s - loss: 0.1403 - acc: 0.3481\n",
      "Epoch 2/100\n",
      " - 0s - loss: 0.0418 - acc: 0.3646\n",
      "Epoch 3/100\n",
      " - 0s - loss: 0.0227 - acc: 0.3785\n",
      "Epoch 4/100\n",
      " - 0s - loss: 0.0209 - acc: 0.4337\n",
      "Epoch 5/100\n",
      " - 0s - loss: 0.0201 - acc: 0.4558\n",
      "Epoch 6/100\n",
      " - 0s - loss: 0.0194 - acc: 0.4696\n",
      "Epoch 7/100\n",
      " - 0s - loss: 0.0187 - acc: 0.4696\n",
      "Epoch 8/100\n",
      " - 0s - loss: 0.0181 - acc: 0.4890\n",
      "Epoch 9/100\n",
      " - 0s - loss: 0.0176 - acc: 0.5110\n",
      "Epoch 10/100\n",
      " - 0s - loss: 0.0171 - acc: 0.5442\n",
      "Epoch 11/100\n",
      " - 0s - loss: 0.0167 - acc: 0.5470\n",
      "Epoch 12/100\n",
      " - 0s - loss: 0.0164 - acc: 0.5580\n",
      "Epoch 13/100\n",
      " - 0s - loss: 0.0161 - acc: 0.5608\n",
      "Epoch 14/100\n",
      " - 0s - loss: 0.0158 - acc: 0.5663\n",
      "Epoch 15/100\n",
      " - 0s - loss: 0.0155 - acc: 0.5884\n",
      "Epoch 16/100\n",
      " - 0s - loss: 0.0153 - acc: 0.5994\n",
      "Epoch 17/100\n",
      " - 0s - loss: 0.0151 - acc: 0.6133\n",
      "Epoch 18/100\n",
      " - 0s - loss: 0.0149 - acc: 0.6133\n",
      "Epoch 19/100\n",
      " - 0s - loss: 0.0147 - acc: 0.6105\n",
      "Epoch 20/100\n",
      " - 0s - loss: 0.0145 - acc: 0.6133\n",
      "Epoch 21/100\n",
      " - 0s - loss: 0.0144 - acc: 0.6160\n",
      "Epoch 22/100\n",
      " - 0s - loss: 0.0142 - acc: 0.6160\n",
      "Epoch 23/100\n",
      " - 0s - loss: 0.0141 - acc: 0.6133\n",
      "Epoch 24/100\n",
      " - 0s - loss: 0.0139 - acc: 0.6160\n",
      "Epoch 25/100\n",
      " - 0s - loss: 0.0138 - acc: 0.6160\n",
      "Epoch 26/100\n",
      " - 0s - loss: 0.0137 - acc: 0.6077\n",
      "Epoch 27/100\n",
      " - 0s - loss: 0.0136 - acc: 0.6133\n",
      "Epoch 28/100\n",
      " - 0s - loss: 0.0135 - acc: 0.6188\n",
      "Epoch 29/100\n",
      " - 0s - loss: 0.0134 - acc: 0.6215\n",
      "Epoch 30/100\n",
      " - 0s - loss: 0.0133 - acc: 0.6298\n",
      "Epoch 31/100\n",
      " - 0s - loss: 0.0132 - acc: 0.6298\n",
      "Epoch 32/100\n",
      " - 0s - loss: 0.0131 - acc: 0.6298\n",
      "Epoch 33/100\n",
      " - 0s - loss: 0.0130 - acc: 0.6298\n",
      "Epoch 34/100\n",
      " - 0s - loss: 0.0129 - acc: 0.6381\n",
      "Epoch 35/100\n",
      " - 0s - loss: 0.0128 - acc: 0.6381\n",
      "Epoch 36/100\n",
      " - 0s - loss: 0.0128 - acc: 0.6409\n",
      "Epoch 37/100\n",
      " - 0s - loss: 0.0127 - acc: 0.6436\n",
      "Epoch 38/100\n",
      " - 0s - loss: 0.0126 - acc: 0.6409\n",
      "Epoch 39/100\n",
      " - 0s - loss: 0.0125 - acc: 0.6464\n",
      "Epoch 40/100\n",
      " - 0s - loss: 0.0125 - acc: 0.6436\n",
      "Epoch 41/100\n",
      " - 0s - loss: 0.0124 - acc: 0.6436\n",
      "Epoch 42/100\n",
      " - 0s - loss: 0.0123 - acc: 0.6381\n",
      "Epoch 43/100\n",
      " - 0s - loss: 0.0123 - acc: 0.6436\n",
      "Epoch 44/100\n",
      " - 0s - loss: 0.0122 - acc: 0.6436\n",
      "Epoch 45/100\n",
      " - 0s - loss: 0.0121 - acc: 0.6436\n",
      "Epoch 46/100\n",
      " - 0s - loss: 0.0121 - acc: 0.6464\n",
      "Epoch 47/100\n",
      " - 0s - loss: 0.0120 - acc: 0.6519\n",
      "Epoch 48/100\n",
      " - 0s - loss: 0.0120 - acc: 0.6575\n",
      "Epoch 49/100\n",
      " - 0s - loss: 0.0119 - acc: 0.6547\n",
      "Epoch 50/100\n",
      " - 0s - loss: 0.0119 - acc: 0.6492\n",
      "Epoch 51/100\n",
      " - 0s - loss: 0.0118 - acc: 0.6492\n",
      "Epoch 52/100\n",
      " - 0s - loss: 0.0118 - acc: 0.6464\n",
      "Epoch 53/100\n",
      " - 0s - loss: 0.0117 - acc: 0.6519\n",
      "Epoch 54/100\n",
      " - 0s - loss: 0.0117 - acc: 0.6602\n",
      "Epoch 55/100\n",
      " - 0s - loss: 0.0116 - acc: 0.6657\n",
      "Epoch 56/100\n",
      " - 0s - loss: 0.0116 - acc: 0.6657\n",
      "Epoch 57/100\n",
      " - 0s - loss: 0.0115 - acc: 0.6685\n",
      "Epoch 58/100\n",
      " - 0s - loss: 0.0115 - acc: 0.6657\n",
      "Epoch 59/100\n",
      " - 0s - loss: 0.0115 - acc: 0.6713\n",
      "Epoch 60/100\n",
      " - 0s - loss: 0.0114 - acc: 0.6657\n",
      "Epoch 61/100\n",
      " - 0s - loss: 0.0114 - acc: 0.6685\n",
      "Epoch 62/100\n",
      " - 0s - loss: 0.0113 - acc: 0.6713\n",
      "Epoch 63/100\n",
      " - 0s - loss: 0.0113 - acc: 0.6685\n",
      "Epoch 64/100\n",
      " - 0s - loss: 0.0113 - acc: 0.6713\n",
      "Epoch 65/100\n",
      " - 0s - loss: 0.0113 - acc: 0.6796\n",
      "Epoch 66/100\n",
      " - 0s - loss: 0.0112 - acc: 0.6796\n",
      "Epoch 67/100\n",
      " - 0s - loss: 0.0112 - acc: 0.6796\n",
      "Epoch 68/100\n",
      " - 0s - loss: 0.0112 - acc: 0.6796\n",
      "Epoch 69/100\n",
      " - 0s - loss: 0.0112 - acc: 0.6768\n",
      "Epoch 70/100\n",
      " - 0s - loss: 0.0111 - acc: 0.6768\n",
      "Epoch 71/100\n",
      " - 0s - loss: 0.0111 - acc: 0.6796\n",
      "Epoch 72/100\n",
      " - 0s - loss: 0.0111 - acc: 0.6823\n",
      "Epoch 73/100\n",
      " - 0s - loss: 0.0111 - acc: 0.6823\n",
      "Epoch 74/100\n",
      " - 0s - loss: 0.0111 - acc: 0.6823\n",
      "Epoch 75/100\n",
      " - 0s - loss: 0.0110 - acc: 0.6796\n",
      "Epoch 76/100\n",
      " - 0s - loss: 0.0110 - acc: 0.6796\n",
      "Epoch 77/100\n",
      " - 0s - loss: 0.0110 - acc: 0.6768\n",
      "Epoch 78/100\n",
      " - 0s - loss: 0.0110 - acc: 0.6768\n",
      "Epoch 79/100\n",
      " - 0s - loss: 0.0110 - acc: 0.6796\n",
      "Epoch 80/100\n",
      " - 0s - loss: 0.0110 - acc: 0.6740\n",
      "Epoch 81/100\n",
      " - 0s - loss: 0.0110 - acc: 0.6740\n",
      "Epoch 82/100\n",
      " - 0s - loss: 0.0109 - acc: 0.6713\n",
      "Epoch 83/100\n",
      " - 0s - loss: 0.0109 - acc: 0.6685\n",
      "Epoch 84/100\n",
      " - 0s - loss: 0.0109 - acc: 0.6713\n",
      "Epoch 85/100\n",
      " - 0s - loss: 0.0109 - acc: 0.6740\n",
      "Epoch 86/100\n",
      " - 0s - loss: 0.0109 - acc: 0.6740\n",
      "Epoch 87/100\n",
      " - 0s - loss: 0.0109 - acc: 0.6740\n",
      "Epoch 88/100\n",
      " - 0s - loss: 0.0109 - acc: 0.6740\n",
      "Epoch 89/100\n",
      " - 0s - loss: 0.0109 - acc: 0.6740\n",
      "Epoch 90/100\n",
      " - 0s - loss: 0.0109 - acc: 0.6740\n",
      "Epoch 91/100\n",
      " - 0s - loss: 0.0108 - acc: 0.6768\n",
      "Epoch 92/100\n",
      " - 0s - loss: 0.0108 - acc: 0.6796\n",
      "Epoch 93/100\n",
      " - 0s - loss: 0.0108 - acc: 0.6823\n",
      "Epoch 94/100\n",
      " - 0s - loss: 0.0108 - acc: 0.6851\n",
      "Epoch 95/100\n",
      " - 0s - loss: 0.0108 - acc: 0.6851\n",
      "Epoch 96/100\n",
      " - 0s - loss: 0.0108 - acc: 0.6878\n",
      "Epoch 97/100\n",
      " - 0s - loss: 0.0108 - acc: 0.6851\n",
      "Epoch 98/100\n",
      " - 0s - loss: 0.0108 - acc: 0.6851\n",
      "Epoch 99/100\n",
      " - 0s - loss: 0.0108 - acc: 0.6878\n",
      "Epoch 100/100\n",
      " - 0s - loss: 0.0108 - acc: 0.6878\n"
     ]
    },
    {
     "data": {
      "image/png": "[encoded data removed]",
      "text/plain": [
       "<Figure size 432x288 with 1 Axes>"
      ]
     },
     "metadata": {},
     "output_type": "display_data"
    },
    {
     "name": "stdout",
     "output_type": "stream",
     "text": [
      "362/362 [==============================] - 0s 342us/step\n",
      "loss: 1.01%\n",
      "acc: 68.78%\n"
     ]
    }
   ],
   "source": [
    "model_tanh.fit(x_train,y_train,epochs=100,batch_size=10,verbose=2,shuffle=False,callbacks=[history]) #shuffle 순서대로 실행\n",
    "\n",
    "%matplotlib inline\n",
    "import matplotlib.pyplot as plt\n",
    "\n",
    "plt.plot(history.losses)\n",
    "plt.ylabel('loss')\n",
    "plt.xlabel('epoch')\n",
    "plt.legend(['train'], loc='upper left')\n",
    "plt.show()\n",
    "\n",
    "scores = model_tanh.evaluate(x_train, y_train)\n",
    "print(\"%s: %.2f%%\" %(model_tanh.metrics_names[0], scores[0]*100))\n",
    "print(\"%s: %.2f%%\" %(model_tanh.metrics_names[1], scores[1]*100))"
   ]
  },
  {
   "cell_type": "code",
   "execution_count": 42,
   "metadata": {},
   "outputs": [
    {
     "name": "stdout",
     "output_type": "stream",
     "text": [
      "loss: 1.01%\n",
      "acc: 68.78%\n"
     ]
    }
   ],
   "source": [
    "print(\"%s: %.2f%%\" %(model_tanh.metrics_names[0], scores[0]*100))\n",
    "print(\"%s: %.2f%%\" %(model_tanh.metrics_names[1], scores[1]*100))"
   ]
  },
  {
   "cell_type": "code",
   "execution_count": 43,
   "metadata": {},
   "outputs": [
    {
     "name": "stdout",
     "output_type": "stream",
     "text": [
      "[0.010086477173296787, 0.6878453035380959]\n"
     ]
    }
   ],
   "source": [
    "print(scores)"
   ]
  },
  {
   "cell_type": "code",
   "execution_count": 44,
   "metadata": {},
   "outputs": [
    {
     "data": {
      "text/plain": [
       "array([[0.5981509 , 0.5599385 , 0.7336384 ],\n",
       "       [0.58805686, 0.7111392 , 0.69685346],\n",
       "       [0.7286463 , 0.6961689 , 0.473269  ],\n",
       "       ...,\n",
       "       [0.46090358, 0.67372096, 0.46324727],\n",
       "       [0.6716744 , 0.42210564, 0.3561726 ],\n",
       "       [0.42560196, 0.3398753 , 0.28218374]], dtype=float32)"
      ]
     },
     "execution_count": 44,
     "metadata": {},
     "output_type": "execute_result"
    }
   ],
   "source": [
    "pred_out = model_tanh.predict(x_data)\n",
    "pred_out"
   ]
  },
  {
   "cell_type": "code",
   "execution_count": 45,
   "metadata": {},
   "outputs": [
    {
     "data": {
      "text/plain": [
       "0.010086477463738181"
      ]
     },
     "execution_count": 45,
     "metadata": {},
     "output_type": "execute_result"
    }
   ],
   "source": [
    "from sklearn.metrics import mean_squared_error\n",
    "mean_squared_error(y_data, pred_out)"
   ]
  },
  {
   "cell_type": "code",
   "execution_count": 46,
   "metadata": {},
   "outputs": [
    {
     "data": {
      "image/png": "[encoded data removed]",
      "text/plain": [
       "<Figure size 432x288 with 2 Axes>"
      ]
     },
     "metadata": {},
     "output_type": "display_data"
    }
   ],
   "source": [
    "# 시각화 3개의 예측 중 한가지만 비교\n",
    "import matplotlib.pyplot as plt\n",
    "\n",
    "fig, loss_ax = plt.subplots()\n",
    "\n",
    "acc_ax = loss_ax.twinx()\n",
    "\n",
    "\n",
    "loss_ax.plot(y_data[:,0], 'b', label='act')\n",
    "# loss_ax.plot(hist.history['loss'], 'y', label='train loss')\n",
    "loss_ax.plot(pred_out[:,0], 'r', label='pred')\n",
    "\n",
    "# acc_ax.legend(loc='lower left')\n",
    "loss_ax.legend(loc='upper left')\n",
    "\n",
    "plt.show()"
   ]
  },
  {
   "cell_type": "markdown",
   "metadata": {},
   "source": [
    "### 중간 결론\n",
    "- scaling을 standard로 하게 되면 최소 최대 값이 아래와 같다\n",
    "- x_data.min(), y_data.min()\n",
    "- (-2.8091509236388426, -2.517205627638483)\n",
    "- x_data.max(), y_data.max()\n",
    "- (7.225592917220137, 2.8534742310028296)\n",
    "\n",
    "### Activation함수 선택에 따라 Vanishing으로 없어지는 기울기가 작을수록 예측값(여기서 MSE가 좋게(낮게) 나온다.)\n",
    "- relu 사용하면 0보다 작은 값 Vanishing , tanh 는 -1 ~ 1을 제외한 값 Vanishing\n",
    "- vanishing이 작을 수록 mse 값이 좋게 나오지만 데이터가 많아지면 속도가 느려지지 않을까 하는 생각을 해볼까 말까. 그만하자\n",
    "- sigmod를 보안 한것이 tanh, relu 등 각각의 장단점이 있다.\n",
    "- 다시 MinMaxScaler로 해보자 Relu값이 좀더 좋아 지는지 이전 Standard 0.5 ~ 0.6, MinMax 0.2\n",
    "- StandardScale 0.0906 , MinMaxScale 0.0074 가 되네?\n",
    "- 스케일 값을 Activation 함수가 처리할수 있는 범위 내로 가져가니 결과가 확실히 좋아짐 근데 왜 tanh가 좋냐?"
   ]
  },
  {
   "cell_type": "markdown",
   "metadata": {},
   "source": [
    "### Activation = 'softmax', Optimizer = 'adam'"
   ]
  },
  {
   "cell_type": "code",
   "execution_count": 47,
   "metadata": {},
   "outputs": [
    {
     "name": "stdout",
     "output_type": "stream",
     "text": [
      "one hot encoding vector size is 3\n"
     ]
    },
    {
     "name": "stderr",
     "output_type": "stream",
     "text": [
      "C:\\Users\\user\\Anaconda3\\lib\\site-packages\\ipykernel_launcher.py:13: UserWarning: The `input_dim` and `input_length` arguments in recurrent layers are deprecated. Use `input_shape` instead.\n",
      "  del sys.path[0]\n",
      "C:\\Users\\user\\Anaconda3\\lib\\site-packages\\ipykernel_launcher.py:13: UserWarning: Update your `LSTM` call to the Keras 2 API: `LSTM(16, activation=\"softmax\", input_shape=(None, 5))`\n",
      "  del sys.path[0]\n"
     ]
    }
   ],
   "source": [
    "from keras.models import Sequential\n",
    "from keras.layers import Dense,LSTM\n",
    "# from keras.utils import np_utils\n",
    "import keras\n",
    "\n",
    "x_train=x_data\n",
    "y_train=y_data\n",
    "# x_train = np_utils.to_categorical(x_train)\n",
    "# y_train=np_utils.to_categorical(y_train) # shape 구조 때문에 fit 되지 않는다.\n",
    "one_hot_vec_size = y_train.shape[1]\n",
    "print('one hot encoding vector size is',one_hot_vec_size)\n",
    "model_softmax= Sequential()\n",
    "model_softmax.add(LSTM(16,input_dim=5,activation='softmax')) #input_dim 은 feature 개수 이다. 16은 앞에서 자른 묶음을 16개씩 \n",
    "model_softmax.add(Dense(y_train.shape[1],activation='softmax')) #y_train.shape[1] 출력 개수, 맞춰주기 앞에서 자른 개수 많큼\n",
    "model_softmax.compile(loss='mse', optimizer='adam', metrics=['accuracy'])\n",
    "# model.compile(loss='categorical_crossentropy', optimizer='adam', metrics=['accuracy']) # 정답이 여러 개일때 categorical_crossentropy"
   ]
  },
  {
   "cell_type": "code",
   "execution_count": 48,
   "metadata": {},
   "outputs": [
    {
     "name": "stdout",
     "output_type": "stream",
     "text": [
      "one hot encoding vector size is  3\n"
     ]
    }
   ],
   "source": [
    "# 손실 이력 클래스 정의\n",
    "class LossHistory(keras.callbacks.Callback):\n",
    "    def init(self):\n",
    "        self.losses = []\n",
    "        \n",
    "    def on_epoch_end(self, batch, logs={}):\n",
    "        self.losses.append(logs.get('loss'))\n",
    "\n",
    "print(\"one hot encoding vector size is \", one_hot_vec_size)\n",
    "\n",
    "\n",
    "history = LossHistory() \n",
    "history.init()"
   ]
  },
  {
   "cell_type": "code",
   "execution_count": 49,
   "metadata": {
    "scrolled": true
   },
   "outputs": [
    {
     "name": "stdout",
     "output_type": "stream",
     "text": [
      "Epoch 1/100\n",
      " - 1s - loss: 0.0533 - acc: 0.3646\n",
      "Epoch 2/100\n",
      " - 0s - loss: 0.0533 - acc: 0.3923\n",
      "Epoch 3/100\n",
      " - 0s - loss: 0.0533 - acc: 0.3536\n",
      "Epoch 4/100\n",
      " - 0s - loss: 0.0533 - acc: 0.3536\n",
      "Epoch 5/100\n",
      " - 0s - loss: 0.0533 - acc: 0.3536\n",
      "Epoch 6/100\n",
      " - 0s - loss: 0.0532 - acc: 0.3536\n",
      "Epoch 7/100\n",
      " - 0s - loss: 0.0532 - acc: 0.3536\n",
      "Epoch 8/100\n",
      " - 0s - loss: 0.0532 - acc: 0.3536\n",
      "Epoch 9/100\n",
      " - 0s - loss: 0.0532 - acc: 0.3536\n",
      "Epoch 10/100\n",
      " - 0s - loss: 0.0532 - acc: 0.3536\n",
      "Epoch 11/100\n",
      " - 0s - loss: 0.0532 - acc: 0.3536\n",
      "Epoch 12/100\n",
      " - 0s - loss: 0.0531 - acc: 0.3646\n",
      "Epoch 13/100\n",
      " - 0s - loss: 0.0531 - acc: 0.3978\n",
      "Epoch 14/100\n",
      " - 0s - loss: 0.0531 - acc: 0.4558\n",
      "Epoch 15/100\n",
      " - 0s - loss: 0.0531 - acc: 0.5055\n",
      "Epoch 16/100\n",
      " - 0s - loss: 0.0530 - acc: 0.5166\n",
      "Epoch 17/100\n",
      " - 0s - loss: 0.0530 - acc: 0.5166\n",
      "Epoch 18/100\n",
      " - 0s - loss: 0.0530 - acc: 0.5138\n",
      "Epoch 19/100\n",
      " - 0s - loss: 0.0529 - acc: 0.5193\n",
      "Epoch 20/100\n",
      " - 0s - loss: 0.0529 - acc: 0.5110\n",
      "Epoch 21/100\n",
      " - 0s - loss: 0.0529 - acc: 0.5166\n",
      "Epoch 22/100\n",
      " - 0s - loss: 0.0528 - acc: 0.5276\n",
      "Epoch 23/100\n",
      " - 0s - loss: 0.0527 - acc: 0.5138\n",
      "Epoch 24/100\n",
      " - 0s - loss: 0.0526 - acc: 0.5000\n",
      "Epoch 25/100\n",
      " - 0s - loss: 0.0525 - acc: 0.4917\n",
      "Epoch 26/100\n",
      " - 0s - loss: 0.0524 - acc: 0.4917\n",
      "Epoch 27/100\n",
      " - 0s - loss: 0.0523 - acc: 0.4945\n",
      "Epoch 28/100\n",
      " - 0s - loss: 0.0522 - acc: 0.4945\n",
      "Epoch 29/100\n",
      " - 0s - loss: 0.0521 - acc: 0.4945\n",
      "Epoch 30/100\n",
      " - 0s - loss: 0.0520 - acc: 0.4945\n",
      "Epoch 31/100\n",
      " - 0s - loss: 0.0519 - acc: 0.4972\n",
      "Epoch 32/100\n",
      " - 0s - loss: 0.0518 - acc: 0.5028\n",
      "Epoch 33/100\n",
      " - 0s - loss: 0.0517 - acc: 0.5055\n",
      "Epoch 34/100\n",
      " - 0s - loss: 0.0516 - acc: 0.5110\n",
      "Epoch 35/100\n",
      " - 0s - loss: 0.0515 - acc: 0.5166\n",
      "Epoch 36/100\n",
      " - 0s - loss: 0.0515 - acc: 0.5110\n",
      "Epoch 37/100\n",
      " - 0s - loss: 0.0514 - acc: 0.5138\n",
      "Epoch 38/100\n",
      " - 0s - loss: 0.0513 - acc: 0.5221\n",
      "Epoch 39/100\n",
      " - 0s - loss: 0.0512 - acc: 0.5193\n",
      "Epoch 40/100\n",
      " - 0s - loss: 0.0511 - acc: 0.5221\n",
      "Epoch 41/100\n",
      " - 0s - loss: 0.0510 - acc: 0.5249\n",
      "Epoch 42/100\n",
      " - 0s - loss: 0.0509 - acc: 0.5276\n",
      "Epoch 43/100\n",
      " - 0s - loss: 0.0508 - acc: 0.5304\n",
      "Epoch 44/100\n",
      " - 0s - loss: 0.0507 - acc: 0.5276\n",
      "Epoch 45/100\n",
      " - 0s - loss: 0.0506 - acc: 0.5359\n",
      "Epoch 46/100\n",
      " - 0s - loss: 0.0506 - acc: 0.5304\n",
      "Epoch 47/100\n",
      " - 0s - loss: 0.0505 - acc: 0.5249\n",
      "Epoch 48/100\n",
      " - 0s - loss: 0.0504 - acc: 0.5249\n",
      "Epoch 49/100\n",
      " - 0s - loss: 0.0503 - acc: 0.5193\n",
      "Epoch 50/100\n",
      " - 0s - loss: 0.0502 - acc: 0.5138\n",
      "Epoch 51/100\n",
      " - 0s - loss: 0.0501 - acc: 0.5138\n",
      "Epoch 52/100\n",
      " - 0s - loss: 0.0501 - acc: 0.5110\n",
      "Epoch 53/100\n",
      " - 0s - loss: 0.0500 - acc: 0.5110\n",
      "Epoch 54/100\n",
      " - 0s - loss: 0.0499 - acc: 0.5083\n",
      "Epoch 55/100\n",
      " - 0s - loss: 0.0498 - acc: 0.5110\n",
      "Epoch 56/100\n",
      " - 0s - loss: 0.0498 - acc: 0.5110\n",
      "Epoch 57/100\n",
      " - 0s - loss: 0.0497 - acc: 0.5110\n",
      "Epoch 58/100\n",
      " - 0s - loss: 0.0496 - acc: 0.5083\n",
      "Epoch 59/100\n",
      " - 0s - loss: 0.0496 - acc: 0.5083\n",
      "Epoch 60/100\n",
      " - 0s - loss: 0.0495 - acc: 0.5083\n",
      "Epoch 61/100\n",
      " - 0s - loss: 0.0494 - acc: 0.5110\n",
      "Epoch 62/100\n",
      " - 0s - loss: 0.0494 - acc: 0.5110\n",
      "Epoch 63/100\n",
      " - 0s - loss: 0.0493 - acc: 0.5138\n",
      "Epoch 64/100\n",
      " - 0s - loss: 0.0492 - acc: 0.5138\n",
      "Epoch 65/100\n",
      " - 0s - loss: 0.0492 - acc: 0.5166\n",
      "Epoch 66/100\n",
      " - 0s - loss: 0.0491 - acc: 0.5166\n",
      "Epoch 67/100\n",
      " - 0s - loss: 0.0491 - acc: 0.5166\n",
      "Epoch 68/100\n",
      " - 0s - loss: 0.0490 - acc: 0.5166\n",
      "Epoch 69/100\n",
      " - 0s - loss: 0.0490 - acc: 0.5193\n",
      "Epoch 70/100\n",
      " - 0s - loss: 0.0489 - acc: 0.5193\n",
      "Epoch 71/100\n",
      " - 0s - loss: 0.0489 - acc: 0.5193\n",
      "Epoch 72/100\n",
      " - 0s - loss: 0.0488 - acc: 0.5193\n",
      "Epoch 73/100\n",
      " - 0s - loss: 0.0488 - acc: 0.5221\n",
      "Epoch 74/100\n",
      " - 0s - loss: 0.0487 - acc: 0.5304\n",
      "Epoch 75/100\n",
      " - 0s - loss: 0.0487 - acc: 0.5304\n",
      "Epoch 76/100\n",
      " - 0s - loss: 0.0487 - acc: 0.5359\n",
      "Epoch 77/100\n",
      " - 0s - loss: 0.0486 - acc: 0.5359\n",
      "Epoch 78/100\n",
      " - 0s - loss: 0.0486 - acc: 0.5387\n",
      "Epoch 79/100\n",
      " - 0s - loss: 0.0485 - acc: 0.5387\n",
      "Epoch 80/100\n",
      " - 0s - loss: 0.0485 - acc: 0.5387\n",
      "Epoch 81/100\n",
      " - 0s - loss: 0.0485 - acc: 0.5387\n",
      "Epoch 82/100\n",
      " - 0s - loss: 0.0484 - acc: 0.5387\n",
      "Epoch 83/100\n",
      " - 0s - loss: 0.0484 - acc: 0.5442\n",
      "Epoch 84/100\n",
      " - 0s - loss: 0.0484 - acc: 0.5414\n",
      "Epoch 85/100\n",
      " - 0s - loss: 0.0483 - acc: 0.5414\n",
      "Epoch 86/100\n",
      " - 0s - loss: 0.0483 - acc: 0.5414\n",
      "Epoch 87/100\n",
      " - 0s - loss: 0.0483 - acc: 0.5359\n",
      "Epoch 88/100\n",
      " - 0s - loss: 0.0482 - acc: 0.5359\n",
      "Epoch 89/100\n",
      " - 0s - loss: 0.0482 - acc: 0.5331\n",
      "Epoch 90/100\n",
      " - 0s - loss: 0.0482 - acc: 0.5387\n",
      "Epoch 91/100\n",
      " - 0s - loss: 0.0482 - acc: 0.5387\n",
      "Epoch 92/100\n",
      " - 0s - loss: 0.0481 - acc: 0.5387\n",
      "Epoch 93/100\n",
      " - 0s - loss: 0.0481 - acc: 0.5387\n",
      "Epoch 94/100\n",
      " - 0s - loss: 0.0481 - acc: 0.5414\n",
      "Epoch 95/100\n",
      " - 0s - loss: 0.0480 - acc: 0.5442\n",
      "Epoch 96/100\n",
      " - 0s - loss: 0.0480 - acc: 0.5470\n",
      "Epoch 97/100\n",
      " - 0s - loss: 0.0480 - acc: 0.5442\n",
      "Epoch 98/100\n",
      " - 0s - loss: 0.0480 - acc: 0.5414\n",
      "Epoch 99/100\n",
      " - 0s - loss: 0.0479 - acc: 0.5497\n",
      "Epoch 100/100\n",
      " - 0s - loss: 0.0479 - acc: 0.5525\n"
     ]
    },
    {
     "data": {
      "image/png": "[encoded data removed]",
      "text/plain": [
       "<Figure size 432x288 with 1 Axes>"
      ]
     },
     "metadata": {},
     "output_type": "display_data"
    },
    {
     "name": "stdout",
     "output_type": "stream",
     "text": [
      "362/362 [==============================] - 0s 430us/step\n",
      "loss: 4.79%\n",
      "acc: 55.52%\n"
     ]
    }
   ],
   "source": [
    "model_softmax.fit(x_train,y_train,epochs=100,batch_size=10,verbose=2,shuffle=False,callbacks=[history]) #shuffle 순서대로 실행\n",
    "\n",
    "%matplotlib inline\n",
    "import matplotlib.pyplot as plt\n",
    "\n",
    "plt.plot(history.losses)\n",
    "plt.ylabel('loss')\n",
    "plt.xlabel('epoch')\n",
    "plt.legend(['train'], loc='upper left')\n",
    "plt.show()\n",
    "\n",
    "scores = model_softmax.evaluate(x_train, y_train)\n",
    "print(\"%s: %.2f%%\" %(model_softmax.metrics_names[0], scores[0]*100))\n",
    "print(\"%s: %.2f%%\" %(model_softmax.metrics_names[1], scores[1]*100))"
   ]
  },
  {
   "cell_type": "code",
   "execution_count": 50,
   "metadata": {},
   "outputs": [
    {
     "name": "stdout",
     "output_type": "stream",
     "text": [
      "loss: 4.79%\n",
      "acc: 55.52%\n"
     ]
    }
   ],
   "source": [
    "print(\"%s: %.2f%%\" %(model_softmax.metrics_names[0], scores[0]*100))\n",
    "print(\"%s: %.2f%%\" %(model_softmax.metrics_names[1], scores[1]*100))"
   ]
  },
  {
   "cell_type": "code",
   "execution_count": 51,
   "metadata": {
    "scrolled": true
   },
   "outputs": [
    {
     "data": {
      "text/plain": [
       "array([[0.23287636, 0.2968025 , 0.47032124],\n",
       "       [0.18560109, 0.40869257, 0.4057063 ],\n",
       "       [0.3720796 , 0.3761119 , 0.2518085 ],\n",
       "       ...,\n",
       "       [0.37454805, 0.36791188, 0.2575401 ],\n",
       "       [0.39661714, 0.33401453, 0.26936835],\n",
       "       [0.39302292, 0.32708263, 0.27989447]], dtype=float32)"
      ]
     },
     "execution_count": 51,
     "metadata": {},
     "output_type": "execute_result"
    }
   ],
   "source": [
    "pred_out = model_softmax.predict(x_data)\n",
    "pred_out"
   ]
  },
  {
   "cell_type": "code",
   "execution_count": 52,
   "metadata": {},
   "outputs": [
    {
     "data": {
      "text/plain": [
       "0.047898019143128336"
      ]
     },
     "execution_count": 52,
     "metadata": {},
     "output_type": "execute_result"
    }
   ],
   "source": [
    "from sklearn.metrics import mean_squared_error\n",
    "mean_squared_error(y_data, pred_out)"
   ]
  },
  {
   "cell_type": "code",
   "execution_count": 53,
   "metadata": {},
   "outputs": [
    {
     "data": {
      "image/png": "[encoded data removed]",
      "text/plain": [
       "<Figure size 432x288 with 2 Axes>"
      ]
     },
     "metadata": {},
     "output_type": "display_data"
    }
   ],
   "source": [
    "# 시각화 3개의 예측 중 한가지만 비교\n",
    "import matplotlib.pyplot as plt\n",
    "\n",
    "fig, loss_ax = plt.subplots()\n",
    "\n",
    "acc_ax = loss_ax.twinx()\n",
    "\n",
    "\n",
    "loss_ax.plot(y_data[:,0], 'b', label='act')\n",
    "# loss_ax.plot(hist.history['loss'], 'y', label='train loss')\n",
    "loss_ax.plot(pred_out[:,0], 'r', label='pred')\n",
    "\n",
    "# acc_ax.legend(loc='lower left')\n",
    "loss_ax.legend(loc='upper left')\n",
    "\n",
    "plt.show()"
   ]
  },
  {
   "cell_type": "markdown",
   "metadata": {},
   "source": [
    "### 하이퍼 탄젠트가 제일 좋다. 여기에서는 교차검증 안한 결과\n",
    "- relu loss: 1.03%, acc: 69.89%\n",
    "- tanh loss: 1.00%, acc: acc: 70.17%\n",
    "- softmax loss: 4.81%, acc: 53.31%"
   ]
  },
  {
   "cell_type": "markdown",
   "metadata": {},
   "source": [
    "### From JDY\n",
    "- 역시 JDY\n",
    "- 교차검증"
   ]
  },
  {
   "cell_type": "code",
   "execution_count": 31,
   "metadata": {},
   "outputs": [],
   "source": [
    "x_train = x_data[:int(len(x_data) * 80 / 100)]\n",
    "y_train = y_data[:int(len(y_data) * 80 / 100)]\n",
    "x_test = x_data[int(len(x_data) * 80 / 100) :]\n",
    "y_test = y_data[int(len(y_data) * 80 / 100) :]"
   ]
  },
  {
   "cell_type": "code",
   "execution_count": 32,
   "metadata": {},
   "outputs": [
    {
     "data": {
      "text/plain": [
       "((289, 3, 5), (289, 3))"
      ]
     },
     "execution_count": 32,
     "metadata": {},
     "output_type": "execute_result"
    }
   ],
   "source": [
    "x_train.shape, y_train.shape"
   ]
  },
  {
   "cell_type": "code",
   "execution_count": 33,
   "metadata": {
    "scrolled": false
   },
   "outputs": [
    {
     "data": {
      "text/plain": [
       "((73, 3, 5), (73, 3))"
      ]
     },
     "execution_count": 33,
     "metadata": {},
     "output_type": "execute_result"
    }
   ],
   "source": [
    "x_test.shape, y_test.shape"
   ]
  },
  {
   "cell_type": "code",
   "execution_count": 42,
   "metadata": {},
   "outputs": [],
   "source": [
    "history = LossHistory() \n",
    "history.init()"
   ]
  },
  {
   "cell_type": "code",
   "execution_count": 43,
   "metadata": {
    "scrolled": true
   },
   "outputs": [],
   "source": [
    "from keras.models import Sequential\n",
    "from keras.layers import SimpleRNN, Dense\n",
    "\n",
    "#np.random.seed(0)\n",
    "model_RNN = Sequential()\n",
    "model_RNN.add(SimpleRNN(100, input_shape=(3, 5))) # intput_shape = x_train.shape[1]\n",
    "# model.add(LSTM(16,input_dim=5,activation='tanh'))\n",
    "model_RNN.add(Dense(3, activation=\"tanh\"))\n",
    "model_RNN.compile(loss='mse', optimizer='adam', metrics=['accuracy'])"
   ]
  },
  {
   "cell_type": "code",
   "execution_count": 59,
   "metadata": {
    "scrolled": true
   },
   "outputs": [
    {
     "name": "stdout",
     "output_type": "stream",
     "text": [
      "Train on 289 samples, validate on 73 samples\n",
      "Epoch 1/100\n",
      " - 0s - loss: 0.0935 - acc: 0.4187 - val_loss: 0.0250 - val_acc: 0.5205\n",
      "Epoch 2/100\n",
      " - 0s - loss: 0.0199 - acc: 0.5398 - val_loss: 0.0208 - val_acc: 0.5479\n",
      "Epoch 3/100\n",
      " - 0s - loss: 0.0177 - acc: 0.5467 - val_loss: 0.0168 - val_acc: 0.5753\n",
      "Epoch 4/100\n",
      " - 0s - loss: 0.0156 - acc: 0.5709 - val_loss: 0.0153 - val_acc: 0.6164\n",
      "Epoch 5/100\n",
      " - 0s - loss: 0.0151 - acc: 0.5640 - val_loss: 0.0153 - val_acc: 0.5890\n",
      "Epoch 6/100\n",
      " - 0s - loss: 0.0154 - acc: 0.5779 - val_loss: 0.0155 - val_acc: 0.6301\n",
      "Epoch 7/100\n",
      " - 0s - loss: 0.0160 - acc: 0.5848 - val_loss: 0.0161 - val_acc: 0.6301\n",
      "Epoch 8/100\n",
      " - 0s - loss: 0.0168 - acc: 0.6055 - val_loss: 0.0173 - val_acc: 0.6164\n",
      "Epoch 9/100\n",
      " - 0s - loss: 0.0176 - acc: 0.6159 - val_loss: 0.0196 - val_acc: 0.6027\n",
      "Epoch 10/100\n",
      " - 0s - loss: 0.0184 - acc: 0.6021 - val_loss: 0.0230 - val_acc: 0.5753\n",
      "Epoch 11/100\n",
      " - 0s - loss: 0.0181 - acc: 0.5986 - val_loss: 0.0254 - val_acc: 0.5205\n",
      "Epoch 12/100\n",
      " - 0s - loss: 0.0164 - acc: 0.5986 - val_loss: 0.0226 - val_acc: 0.5205\n",
      "Epoch 13/100\n",
      " - 0s - loss: 0.0141 - acc: 0.6263 - val_loss: 0.0177 - val_acc: 0.5753\n",
      "Epoch 14/100\n",
      " - 0s - loss: 0.0127 - acc: 0.6367 - val_loss: 0.0151 - val_acc: 0.6164\n",
      "Epoch 15/100\n",
      " - 0s - loss: 0.0123 - acc: 0.6436 - val_loss: 0.0144 - val_acc: 0.6301\n",
      "Epoch 16/100\n",
      " - 0s - loss: 0.0123 - acc: 0.6471 - val_loss: 0.0145 - val_acc: 0.6438\n",
      "Epoch 17/100\n",
      " - 0s - loss: 0.0124 - acc: 0.6471 - val_loss: 0.0150 - val_acc: 0.6438\n",
      "Epoch 18/100\n",
      " - 0s - loss: 0.0126 - acc: 0.6436 - val_loss: 0.0156 - val_acc: 0.6575\n",
      "Epoch 19/100\n",
      " - 0s - loss: 0.0127 - acc: 0.6367 - val_loss: 0.0162 - val_acc: 0.6164\n",
      "Epoch 20/100\n",
      " - 0s - loss: 0.0126 - acc: 0.6505 - val_loss: 0.0163 - val_acc: 0.6164\n",
      "Epoch 21/100\n",
      " - 0s - loss: 0.0122 - acc: 0.6505 - val_loss: 0.0154 - val_acc: 0.6438\n",
      "Epoch 22/100\n",
      " - 0s - loss: 0.0118 - acc: 0.6678 - val_loss: 0.0140 - val_acc: 0.6712\n",
      "Epoch 23/100\n",
      " - 0s - loss: 0.0114 - acc: 0.6817 - val_loss: 0.0130 - val_acc: 0.6712\n",
      "Epoch 24/100\n",
      " - 0s - loss: 0.0115 - acc: 0.6886 - val_loss: 0.0126 - val_acc: 0.6986\n",
      "Epoch 25/100\n",
      " - 0s - loss: 0.0117 - acc: 0.6782 - val_loss: 0.0127 - val_acc: 0.6986\n",
      "Epoch 26/100\n",
      " - 0s - loss: 0.0121 - acc: 0.6678 - val_loss: 0.0131 - val_acc: 0.6986\n",
      "Epoch 27/100\n",
      " - 0s - loss: 0.0125 - acc: 0.6505 - val_loss: 0.0138 - val_acc: 0.6849\n",
      "Epoch 28/100\n",
      " - 0s - loss: 0.0129 - acc: 0.6367 - val_loss: 0.0147 - val_acc: 0.6849\n",
      "Epoch 29/100\n",
      " - 0s - loss: 0.0133 - acc: 0.6332 - val_loss: 0.0158 - val_acc: 0.6849\n",
      "Epoch 30/100\n",
      " - 0s - loss: 0.0136 - acc: 0.6332 - val_loss: 0.0168 - val_acc: 0.6986\n",
      "Epoch 31/100\n",
      " - 0s - loss: 0.0136 - acc: 0.6228 - val_loss: 0.0174 - val_acc: 0.6986\n",
      "Epoch 32/100\n",
      " - 0s - loss: 0.0134 - acc: 0.6298 - val_loss: 0.0177 - val_acc: 0.7123\n",
      "Epoch 33/100\n",
      " - 0s - loss: 0.0131 - acc: 0.6332 - val_loss: 0.0176 - val_acc: 0.6986\n",
      "Epoch 34/100\n",
      " - 0s - loss: 0.0128 - acc: 0.6471 - val_loss: 0.0173 - val_acc: 0.6986\n",
      "Epoch 35/100\n",
      " - 0s - loss: 0.0124 - acc: 0.6471 - val_loss: 0.0170 - val_acc: 0.6849\n",
      "Epoch 36/100\n",
      " - 0s - loss: 0.0121 - acc: 0.6471 - val_loss: 0.0166 - val_acc: 0.6849\n",
      "Epoch 37/100\n",
      " - 0s - loss: 0.0119 - acc: 0.6609 - val_loss: 0.0163 - val_acc: 0.6986\n",
      "Epoch 38/100\n",
      " - 0s - loss: 0.0117 - acc: 0.6609 - val_loss: 0.0160 - val_acc: 0.6849\n",
      "Epoch 39/100\n",
      " - 0s - loss: 0.0115 - acc: 0.6574 - val_loss: 0.0157 - val_acc: 0.6849\n",
      "Epoch 40/100\n",
      " - 0s - loss: 0.0114 - acc: 0.6574 - val_loss: 0.0155 - val_acc: 0.6712\n",
      "Epoch 41/100\n",
      " - 0s - loss: 0.0113 - acc: 0.6540 - val_loss: 0.0154 - val_acc: 0.6712\n",
      "Epoch 42/100\n",
      " - 0s - loss: 0.0113 - acc: 0.6540 - val_loss: 0.0153 - val_acc: 0.6712\n",
      "Epoch 43/100\n",
      " - 0s - loss: 0.0112 - acc: 0.6574 - val_loss: 0.0152 - val_acc: 0.6712\n",
      "Epoch 44/100\n",
      " - 0s - loss: 0.0112 - acc: 0.6540 - val_loss: 0.0152 - val_acc: 0.6712\n",
      "Epoch 45/100\n",
      " - 0s - loss: 0.0112 - acc: 0.6574 - val_loss: 0.0151 - val_acc: 0.6712\n",
      "Epoch 46/100\n",
      " - 0s - loss: 0.0112 - acc: 0.6609 - val_loss: 0.0151 - val_acc: 0.6712\n",
      "Epoch 47/100\n",
      " - 0s - loss: 0.0112 - acc: 0.6574 - val_loss: 0.0151 - val_acc: 0.6712\n",
      "Epoch 48/100\n",
      " - 0s - loss: 0.0112 - acc: 0.6574 - val_loss: 0.0151 - val_acc: 0.6712\n",
      "Epoch 49/100\n",
      " - 0s - loss: 0.0112 - acc: 0.6574 - val_loss: 0.0151 - val_acc: 0.6712\n",
      "Epoch 50/100\n",
      " - 0s - loss: 0.0112 - acc: 0.6609 - val_loss: 0.0151 - val_acc: 0.6712\n",
      "Epoch 51/100\n",
      " - 0s - loss: 0.0112 - acc: 0.6609 - val_loss: 0.0151 - val_acc: 0.6712\n",
      "Epoch 52/100\n",
      " - 0s - loss: 0.0112 - acc: 0.6609 - val_loss: 0.0151 - val_acc: 0.6712\n",
      "Epoch 53/100\n",
      " - 0s - loss: 0.0112 - acc: 0.6609 - val_loss: 0.0151 - val_acc: 0.6712\n",
      "Epoch 54/100\n",
      " - 0s - loss: 0.0112 - acc: 0.6609 - val_loss: 0.0151 - val_acc: 0.6712\n",
      "Epoch 55/100\n",
      " - 0s - loss: 0.0112 - acc: 0.6644 - val_loss: 0.0151 - val_acc: 0.6712\n",
      "Epoch 56/100\n",
      " - 0s - loss: 0.0112 - acc: 0.6644 - val_loss: 0.0151 - val_acc: 0.6712\n",
      "Epoch 57/100\n",
      " - 0s - loss: 0.0112 - acc: 0.6644 - val_loss: 0.0150 - val_acc: 0.6712\n",
      "Epoch 58/100\n",
      " - 0s - loss: 0.0112 - acc: 0.6678 - val_loss: 0.0150 - val_acc: 0.6712\n",
      "Epoch 59/100\n",
      " - 0s - loss: 0.0112 - acc: 0.6713 - val_loss: 0.0150 - val_acc: 0.6849\n",
      "Epoch 60/100\n",
      " - 0s - loss: 0.0112 - acc: 0.6713 - val_loss: 0.0150 - val_acc: 0.6849\n",
      "Epoch 61/100\n",
      " - 0s - loss: 0.0112 - acc: 0.6678 - val_loss: 0.0150 - val_acc: 0.6849\n",
      "Epoch 62/100\n",
      " - 0s - loss: 0.0111 - acc: 0.6678 - val_loss: 0.0150 - val_acc: 0.6849\n",
      "Epoch 63/100\n",
      " - 0s - loss: 0.0111 - acc: 0.6678 - val_loss: 0.0150 - val_acc: 0.6849\n",
      "Epoch 64/100\n",
      " - 0s - loss: 0.0111 - acc: 0.6678 - val_loss: 0.0150 - val_acc: 0.6849\n",
      "Epoch 65/100\n",
      " - 0s - loss: 0.0111 - acc: 0.6678 - val_loss: 0.0150 - val_acc: 0.6849\n",
      "Epoch 66/100\n",
      " - 0s - loss: 0.0111 - acc: 0.6678 - val_loss: 0.0150 - val_acc: 0.6849\n",
      "Epoch 67/100\n",
      " - 0s - loss: 0.0111 - acc: 0.6678 - val_loss: 0.0150 - val_acc: 0.6849\n",
      "Epoch 68/100\n",
      " - 0s - loss: 0.0111 - acc: 0.6678 - val_loss: 0.0150 - val_acc: 0.6849\n",
      "Epoch 69/100\n",
      " - 0s - loss: 0.0111 - acc: 0.6678 - val_loss: 0.0149 - val_acc: 0.6849\n",
      "Epoch 70/100\n",
      " - 0s - loss: 0.0111 - acc: 0.6678 - val_loss: 0.0149 - val_acc: 0.6849\n",
      "Epoch 71/100\n",
      " - 0s - loss: 0.0111 - acc: 0.6678 - val_loss: 0.0149 - val_acc: 0.6849\n",
      "Epoch 72/100\n",
      " - 0s - loss: 0.0111 - acc: 0.6678 - val_loss: 0.0149 - val_acc: 0.6849\n",
      "Epoch 73/100\n",
      " - 0s - loss: 0.0111 - acc: 0.6678 - val_loss: 0.0149 - val_acc: 0.6849\n",
      "Epoch 74/100\n",
      " - 0s - loss: 0.0111 - acc: 0.6678 - val_loss: 0.0149 - val_acc: 0.6849\n",
      "Epoch 75/100\n",
      " - 0s - loss: 0.0111 - acc: 0.6678 - val_loss: 0.0149 - val_acc: 0.6849\n",
      "Epoch 76/100\n",
      " - 0s - loss: 0.0111 - acc: 0.6678 - val_loss: 0.0149 - val_acc: 0.6849\n",
      "Epoch 77/100\n",
      " - 0s - loss: 0.0110 - acc: 0.6678 - val_loss: 0.0149 - val_acc: 0.6849\n",
      "Epoch 78/100\n",
      " - 0s - loss: 0.0110 - acc: 0.6678 - val_loss: 0.0149 - val_acc: 0.6849\n",
      "Epoch 79/100\n",
      " - 0s - loss: 0.0110 - acc: 0.6678 - val_loss: 0.0149 - val_acc: 0.6849\n",
      "Epoch 80/100\n",
      " - 0s - loss: 0.0110 - acc: 0.6678 - val_loss: 0.0148 - val_acc: 0.6849\n",
      "Epoch 81/100\n",
      " - 0s - loss: 0.0110 - acc: 0.6678 - val_loss: 0.0148 - val_acc: 0.6849\n",
      "Epoch 82/100\n",
      " - 0s - loss: 0.0110 - acc: 0.6678 - val_loss: 0.0148 - val_acc: 0.6849\n",
      "Epoch 83/100\n",
      " - 0s - loss: 0.0110 - acc: 0.6678 - val_loss: 0.0148 - val_acc: 0.6849\n",
      "Epoch 84/100\n",
      " - 0s - loss: 0.0110 - acc: 0.6713 - val_loss: 0.0148 - val_acc: 0.6849\n",
      "Epoch 85/100\n",
      " - 0s - loss: 0.0110 - acc: 0.6713 - val_loss: 0.0148 - val_acc: 0.6849\n",
      "Epoch 86/100\n",
      " - 0s - loss: 0.0110 - acc: 0.6747 - val_loss: 0.0148 - val_acc: 0.6849\n",
      "Epoch 87/100\n",
      " - 0s - loss: 0.0110 - acc: 0.6747 - val_loss: 0.0148 - val_acc: 0.6849\n",
      "Epoch 88/100\n",
      " - 0s - loss: 0.0110 - acc: 0.6747 - val_loss: 0.0148 - val_acc: 0.6849\n",
      "Epoch 89/100\n",
      " - 0s - loss: 0.0110 - acc: 0.6747 - val_loss: 0.0148 - val_acc: 0.6849\n",
      "Epoch 90/100\n",
      " - 0s - loss: 0.0110 - acc: 0.6747 - val_loss: 0.0148 - val_acc: 0.6849\n",
      "Epoch 91/100\n",
      " - 0s - loss: 0.0109 - acc: 0.6747 - val_loss: 0.0147 - val_acc: 0.6849\n",
      "Epoch 92/100\n",
      " - 0s - loss: 0.0109 - acc: 0.6747 - val_loss: 0.0147 - val_acc: 0.7123\n",
      "Epoch 93/100\n",
      " - 0s - loss: 0.0109 - acc: 0.6747 - val_loss: 0.0147 - val_acc: 0.7123\n",
      "Epoch 94/100\n",
      " - 0s - loss: 0.0109 - acc: 0.6747 - val_loss: 0.0147 - val_acc: 0.7123\n",
      "Epoch 95/100\n",
      " - 0s - loss: 0.0109 - acc: 0.6782 - val_loss: 0.0147 - val_acc: 0.7123\n",
      "Epoch 96/100\n",
      " - 0s - loss: 0.0109 - acc: 0.6782 - val_loss: 0.0147 - val_acc: 0.7123\n"
     ]
    },
    {
     "name": "stdout",
     "output_type": "stream",
     "text": [
      "Epoch 97/100\n",
      " - 0s - loss: 0.0109 - acc: 0.6782 - val_loss: 0.0147 - val_acc: 0.7123\n",
      "Epoch 98/100\n",
      " - 0s - loss: 0.0109 - acc: 0.6782 - val_loss: 0.0147 - val_acc: 0.7123\n",
      "Epoch 99/100\n",
      " - 0s - loss: 0.0109 - acc: 0.6782 - val_loss: 0.0147 - val_acc: 0.7123\n",
      "Epoch 100/100\n",
      " - 0s - loss: 0.0109 - acc: 0.6782 - val_loss: 0.0147 - val_acc: 0.7123\n"
     ]
    },
    {
     "data": {
      "image/png": "[encoded data removed]",
      "text/plain": [
       "<Figure size 432x288 with 1 Axes>"
      ]
     },
     "metadata": {},
     "output_type": "display_data"
    },
    {
     "name": "stdout",
     "output_type": "stream",
     "text": [
      "73/73 [==============================] - 0s 40us/step\n",
      "Test MSE: 0.015\n",
      "Test RMSE: 0.121\n"
     ]
    }
   ],
   "source": [
    "from math import sqrt\n",
    "\n",
    "hist = model_RNN.fit(x_train, y_train, epochs=100,batch_size=10, verbose=2,shuffle=False, callbacks=[history],\n",
    "                     validation_data=(x_test,y_test))\n",
    "\n",
    "plt.plot(history.losses)\n",
    "plt.ylabel('loss')\n",
    "plt.xlabel('epoch')\n",
    "plt.legend(['train'], loc='upper left')\n",
    "plt.show()\n",
    "\n",
    "model_RNN.evaluate(x_test, y_test)\n",
    "pred_out = model_RNN.predict(x_test)\n",
    "rmse = sqrt(mean_squared_error(y_test, pred_out))\n",
    "print('Test MSE: %.3f' % mean_squared_error(y_test, pred_out))\n",
    "print('Test RMSE: %.3f' % rmse)"
   ]
  },
  {
   "cell_type": "code",
   "execution_count": 60,
   "metadata": {
    "scrolled": false
   },
   "outputs": [
    {
     "name": "stdout",
     "output_type": "stream",
     "text": [
      "73/73 [==============================] - 0s 41us/step\n",
      "loss: 1.47%\n",
      "acc: 71.23%\n"
     ]
    }
   ],
   "source": [
    "scores = model_RNN.evaluate(x_test, y_test)\n",
    "print(\"%s: %.2f%%\" %(model_RNN.metrics_names[0], scores[0]*100))\n",
    "print(\"%s: %.2f%%\" %(model_RNN.metrics_names[1], scores[1]*100))"
   ]
  },
  {
   "cell_type": "code",
   "execution_count": 61,
   "metadata": {},
   "outputs": [
    {
     "name": "stderr",
     "output_type": "stream",
     "text": [
      "No handles with labels found to put in legend.\n"
     ]
    },
    {
     "data": {
      "image/png": "[encoded data removed]",
      "text/plain": [
       "<Figure size 720x504 with 1 Axes>"
      ]
     },
     "metadata": {},
     "output_type": "display_data"
    }
   ],
   "source": [
    "plt.figure(figsize=(10,7))\n",
    "plt.plot(hist.history['loss']) \n",
    "plt.plot(hist.history['val_loss'])\n",
    "plt.legend()\n",
    "#plt.ylim(0.02,0.15)\n",
    "\n",
    "plt.show()"
   ]
  },
  {
   "cell_type": "code",
   "execution_count": 62,
   "metadata": {},
   "outputs": [
    {
     "name": "stderr",
     "output_type": "stream",
     "text": [
      "No handles with labels found to put in legend.\n"
     ]
    },
    {
     "data": {
      "image/png": "[encoded data removed]",
      "text/plain": [
       "<Figure size 720x504 with 1 Axes>"
      ]
     },
     "metadata": {},
     "output_type": "display_data"
    }
   ],
   "source": [
    "plt.figure(figsize=(10,7))\n",
    "plt.plot(hist.history['acc']) \n",
    "plt.plot(hist.history['val_acc'])\n",
    "plt.legend()\n",
    "#plt.ylim(0.02,0.15)\n",
    "\n",
    "plt.show()"
   ]
  },
  {
   "cell_type": "code",
   "execution_count": 63,
   "metadata": {},
   "outputs": [
    {
     "data": {
      "image/png": "[encoded data removed]",
      "text/plain": [
       "<Figure size 432x288 with 1 Axes>"
      ]
     },
     "metadata": {},
     "output_type": "display_data"
    }
   ],
   "source": [
    "import matplotlib.pyplot as plt\n",
    "\n",
    "fig, loss_ax = plt.subplots()\n",
    "\n",
    "loss_ax.plot(y_test[:,0], 'b', label='act')\n",
    "# loss_ax.plot(hist.history['loss'], 'y', label='train loss')\n",
    "loss_ax.plot(pred_out[:,0], 'r', label='pred')\n",
    "\n",
    "# acc_ax.legend(loc='lower left')\n",
    "loss_ax.legend(loc='upper right')\n",
    "\n",
    "plt.show()"
   ]
  }
 ],
 "metadata": {
  "kernelspec": {
   "display_name": "Python 3",
   "language": "python",
   "name": "python3"
  },
  "language_info": {
   "codemirror_mode": {
    "name": "ipython",
    "version": 3
   },
   "file_extension": ".py",
   "mimetype": "text/x-python",
   "name": "python",
   "nbconvert_exporter": "python",
   "pygments_lexer": "ipython3",
   "version": "3.6.5"
  }
 },
 "nbformat": 4,
 "nbformat_minor": 2
}
