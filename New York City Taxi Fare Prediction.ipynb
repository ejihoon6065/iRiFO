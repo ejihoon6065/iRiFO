{
 "cells": [
  {
   "cell_type": "code",
   "execution_count": 1,
   "metadata": {},
   "outputs": [],
   "source": [
    "import numpy as np # linear algebra\n",
    "import pandas as pd # CSV file I/O (e.g. pd.read_csv)\n",
    "import os # reading the input files we have access to\n",
    "%matplotlib inline"
   ]
  },
  {
   "cell_type": "code",
   "execution_count": 2,
   "metadata": {
    "scrolled": true
   },
   "outputs": [
    {
     "data": {
      "text/plain": [
       "key                   object\n",
       "fare_amount          float64\n",
       "pickup_datetime       object\n",
       "pickup_longitude     float64\n",
       "pickup_latitude      float64\n",
       "dropoff_longitude    float64\n",
       "dropoff_latitude     float64\n",
       "passenger_count        int64\n",
       "dtype: object"
      ]
     },
     "execution_count": 2,
     "metadata": {},
     "output_type": "execute_result"
    }
   ],
   "source": [
    "#parse_dates=[\"pickup_datetime\"]\n",
    "# train_df =  pd.read_csv('train.csv', nrows = 2_000_000, parse_dates=[\"pickup_datetime\"])\n",
    "train_df = pd.read_csv(\"train.csv\", nrows = 2000000)\n",
    "test_df = pd.read_csv(\"test.csv\")\n",
    "train_df.dtypes"
   ]
  },
  {
   "cell_type": "code",
   "execution_count": 3,
   "metadata": {},
   "outputs": [],
   "source": [
    "train_origin = train_df.copy()\n",
    "test_origin = test_df.copy()"
   ]
  },
  {
   "cell_type": "code",
   "execution_count": 4,
   "metadata": {
    "scrolled": false
   },
   "outputs": [
    {
     "data": {
      "text/plain": [
       "key                   object\n",
       "pickup_datetime       object\n",
       "pickup_longitude     float64\n",
       "pickup_latitude      float64\n",
       "dropoff_longitude    float64\n",
       "dropoff_latitude     float64\n",
       "passenger_count        int64\n",
       "dtype: object"
      ]
     },
     "execution_count": 4,
     "metadata": {},
     "output_type": "execute_result"
    }
   ],
   "source": [
    "test_df.dtypes"
   ]
  },
  {
   "cell_type": "code",
   "execution_count": 5,
   "metadata": {},
   "outputs": [
    {
     "data": {
      "text/plain": [
       "(2000000, 8)"
      ]
     },
     "execution_count": 5,
     "metadata": {},
     "output_type": "execute_result"
    }
   ],
   "source": [
    "train_df.shape"
   ]
  },
  {
   "cell_type": "code",
   "execution_count": 6,
   "metadata": {
    "scrolled": false
   },
   "outputs": [
    {
     "data": {
      "text/plain": [
       "(9914, 7)"
      ]
     },
     "execution_count": 6,
     "metadata": {},
     "output_type": "execute_result"
    }
   ],
   "source": [
    "test_df.shape"
   ]
  },
  {
   "cell_type": "markdown",
   "metadata": {},
   "source": [
    "### null 값 제거"
   ]
  },
  {
   "cell_type": "code",
   "execution_count": 7,
   "metadata": {},
   "outputs": [
    {
     "data": {
      "text/plain": [
       "dropoff_latitude     14\n",
       "dropoff_longitude    14\n",
       "passenger_count       0\n",
       "pickup_latitude       0\n",
       "pickup_longitude      0\n",
       "pickup_datetime       0\n",
       "fare_amount           0\n",
       "key                   0\n",
       "dtype: int64"
      ]
     },
     "execution_count": 7,
     "metadata": {},
     "output_type": "execute_result"
    }
   ],
   "source": [
    "train_df.isnull().sum().sort_values(ascending=False)"
   ]
  },
  {
   "cell_type": "code",
   "execution_count": 8,
   "metadata": {
    "scrolled": true
   },
   "outputs": [
    {
     "data": {
      "text/plain": [
       "passenger_count      0\n",
       "dropoff_latitude     0\n",
       "dropoff_longitude    0\n",
       "pickup_latitude      0\n",
       "pickup_longitude     0\n",
       "pickup_datetime      0\n",
       "key                  0\n",
       "dtype: int64"
      ]
     },
     "execution_count": 8,
     "metadata": {},
     "output_type": "execute_result"
    }
   ],
   "source": [
    "test_df.isnull().sum().sort_values(ascending=False)"
   ]
  },
  {
   "cell_type": "code",
   "execution_count": 9,
   "metadata": {},
   "outputs": [],
   "source": [
    "train_df = train_df.drop(train_df[train_df.isnull().any(1)].index, axis = 0)"
   ]
  },
  {
   "cell_type": "code",
   "execution_count": 10,
   "metadata": {},
   "outputs": [
    {
     "data": {
      "text/plain": [
       "(1999986, 8)"
      ]
     },
     "execution_count": 10,
     "metadata": {},
     "output_type": "execute_result"
    }
   ],
   "source": [
    "train_df.shape"
   ]
  },
  {
   "cell_type": "code",
   "execution_count": 11,
   "metadata": {
    "scrolled": true
   },
   "outputs": [
    {
     "data": {
      "text/html": [
       "<div>\n",
       "<style scoped>\n",
       "    .dataframe tbody tr th:only-of-type {\n",
       "        vertical-align: middle;\n",
       "    }\n",
       "\n",
       "    .dataframe tbody tr th {\n",
       "        vertical-align: top;\n",
       "    }\n",
       "\n",
       "    .dataframe thead th {\n",
       "        text-align: right;\n",
       "    }\n",
       "</style>\n",
       "<table border=\"1\" class=\"dataframe\">\n",
       "  <thead>\n",
       "    <tr style=\"text-align: right;\">\n",
       "      <th></th>\n",
       "      <th>fare_amount</th>\n",
       "      <th>pickup_longitude</th>\n",
       "      <th>pickup_latitude</th>\n",
       "      <th>dropoff_longitude</th>\n",
       "      <th>dropoff_latitude</th>\n",
       "      <th>passenger_count</th>\n",
       "    </tr>\n",
       "  </thead>\n",
       "  <tbody>\n",
       "    <tr>\n",
       "      <th>count</th>\n",
       "      <td>1.999986e+06</td>\n",
       "      <td>1.999986e+06</td>\n",
       "      <td>1.999986e+06</td>\n",
       "      <td>1.999986e+06</td>\n",
       "      <td>1.999986e+06</td>\n",
       "      <td>1.999986e+06</td>\n",
       "    </tr>\n",
       "    <tr>\n",
       "      <th>mean</th>\n",
       "      <td>1.134768e+01</td>\n",
       "      <td>-7.252324e+01</td>\n",
       "      <td>3.992965e+01</td>\n",
       "      <td>-7.252395e+01</td>\n",
       "      <td>3.992808e+01</td>\n",
       "      <td>1.684125e+00</td>\n",
       "    </tr>\n",
       "    <tr>\n",
       "      <th>std</th>\n",
       "      <td>9.852609e+00</td>\n",
       "      <td>1.286798e+01</td>\n",
       "      <td>7.983330e+00</td>\n",
       "      <td>1.277497e+01</td>\n",
       "      <td>1.032382e+01</td>\n",
       "      <td>1.314979e+00</td>\n",
       "    </tr>\n",
       "    <tr>\n",
       "      <th>min</th>\n",
       "      <td>-6.200000e+01</td>\n",
       "      <td>-3.377681e+03</td>\n",
       "      <td>-3.458665e+03</td>\n",
       "      <td>-3.383297e+03</td>\n",
       "      <td>-3.461541e+03</td>\n",
       "      <td>0.000000e+00</td>\n",
       "    </tr>\n",
       "    <tr>\n",
       "      <th>25%</th>\n",
       "      <td>6.000000e+00</td>\n",
       "      <td>-7.399208e+01</td>\n",
       "      <td>4.073491e+01</td>\n",
       "      <td>-7.399141e+01</td>\n",
       "      <td>4.073400e+01</td>\n",
       "      <td>1.000000e+00</td>\n",
       "    </tr>\n",
       "    <tr>\n",
       "      <th>50%</th>\n",
       "      <td>8.500000e+00</td>\n",
       "      <td>-7.398181e+01</td>\n",
       "      <td>4.075263e+01</td>\n",
       "      <td>-7.398016e+01</td>\n",
       "      <td>4.075312e+01</td>\n",
       "      <td>1.000000e+00</td>\n",
       "    </tr>\n",
       "    <tr>\n",
       "      <th>75%</th>\n",
       "      <td>1.250000e+01</td>\n",
       "      <td>-7.396713e+01</td>\n",
       "      <td>4.076710e+01</td>\n",
       "      <td>-7.396369e+01</td>\n",
       "      <td>4.076809e+01</td>\n",
       "      <td>2.000000e+00</td>\n",
       "    </tr>\n",
       "    <tr>\n",
       "      <th>max</th>\n",
       "      <td>1.273310e+03</td>\n",
       "      <td>2.856442e+03</td>\n",
       "      <td>2.621628e+03</td>\n",
       "      <td>3.414307e+03</td>\n",
       "      <td>3.345917e+03</td>\n",
       "      <td>2.080000e+02</td>\n",
       "    </tr>\n",
       "  </tbody>\n",
       "</table>\n",
       "</div>"
      ],
      "text/plain": [
       "        fare_amount  pickup_longitude  pickup_latitude  dropoff_longitude  \\\n",
       "count  1.999986e+06      1.999986e+06     1.999986e+06       1.999986e+06   \n",
       "mean   1.134768e+01     -7.252324e+01     3.992965e+01      -7.252395e+01   \n",
       "std    9.852609e+00      1.286798e+01     7.983330e+00       1.277497e+01   \n",
       "min   -6.200000e+01     -3.377681e+03    -3.458665e+03      -3.383297e+03   \n",
       "25%    6.000000e+00     -7.399208e+01     4.073491e+01      -7.399141e+01   \n",
       "50%    8.500000e+00     -7.398181e+01     4.075263e+01      -7.398016e+01   \n",
       "75%    1.250000e+01     -7.396713e+01     4.076710e+01      -7.396369e+01   \n",
       "max    1.273310e+03      2.856442e+03     2.621628e+03       3.414307e+03   \n",
       "\n",
       "       dropoff_latitude  passenger_count  \n",
       "count      1.999986e+06     1.999986e+06  \n",
       "mean       3.992808e+01     1.684125e+00  \n",
       "std        1.032382e+01     1.314979e+00  \n",
       "min       -3.461541e+03     0.000000e+00  \n",
       "25%        4.073400e+01     1.000000e+00  \n",
       "50%        4.075312e+01     1.000000e+00  \n",
       "75%        4.076809e+01     2.000000e+00  \n",
       "max        3.345917e+03     2.080000e+02  "
      ]
     },
     "execution_count": 11,
     "metadata": {},
     "output_type": "execute_result"
    }
   ],
   "source": [
    "train_df.describe()"
   ]
  },
  {
   "cell_type": "code",
   "execution_count": 12,
   "metadata": {
    "scrolled": true
   },
   "outputs": [
    {
     "data": {
      "text/plain": [
       "<matplotlib.axes._subplots.AxesSubplot at 0x129966ffcc0>"
      ]
     },
     "execution_count": 12,
     "metadata": {},
     "output_type": "execute_result"
    },
    {
     "data": {
      "image/png": "[encoded data removed]",
      "text/plain": [
       "<Figure size 432x288 with 1 Axes>"
      ]
     },
     "metadata": {},
     "output_type": "display_data"
    }
   ],
   "source": [
    "(train_df['fare_amount'].sort_values()).reset_index(drop=True).plot()"
   ]
  },
  {
   "cell_type": "code",
   "execution_count": 13,
   "metadata": {
    "scrolled": false
   },
   "outputs": [
    {
     "data": {
      "text/plain": [
       "count    1.999986e+06\n",
       "mean     1.134768e+01\n",
       "std      9.852609e+00\n",
       "min     -6.200000e+01\n",
       "25%      6.000000e+00\n",
       "50%      8.500000e+00\n",
       "75%      1.250000e+01\n",
       "max      1.273310e+03\n",
       "Name: fare_amount, dtype: float64"
      ]
     },
     "execution_count": 13,
     "metadata": {},
     "output_type": "execute_result"
    }
   ],
   "source": [
    "train_df['fare_amount'].describe()"
   ]
  },
  {
   "cell_type": "markdown",
   "metadata": {},
   "source": [
    "### 요금이 100보다 큰 값 삭제"
   ]
  },
  {
   "cell_type": "code",
   "execution_count": 14,
   "metadata": {},
   "outputs": [
    {
     "name": "stdout",
     "output_type": "stream",
     "text": [
      "Old size: 1999986\n",
      "New size: 1999129\n"
     ]
    }
   ],
   "source": [
    "print('Old size: %d' % len(train_df))\n",
    "train_df = train_df[train_df.fare_amount<100]\n",
    "print('New size: %d' % len(train_df))"
   ]
  },
  {
   "cell_type": "code",
   "execution_count": 63,
   "metadata": {},
   "outputs": [
    {
     "data": {
      "text/plain": [
       "<matplotlib.axes._subplots.AxesSubplot at 0x1298f091400>"
      ]
     },
     "execution_count": 63,
     "metadata": {},
     "output_type": "execute_result"
    },
    {
     "data": {
      "image/png": "[encoded data removed]",
      "text/plain": [
       "<Figure size 432x288 with 1 Axes>"
      ]
     },
     "metadata": {},
     "output_type": "display_data"
    }
   ],
   "source": [
    "(train_df['fare_amount'].sort_values()).reset_index(drop=True).plot()"
   ]
  },
  {
   "cell_type": "markdown",
   "metadata": {},
   "source": [
    "### 요금이 0보다 작은 값 삭제"
   ]
  },
  {
   "cell_type": "code",
   "execution_count": 16,
   "metadata": {
    "scrolled": true
   },
   "outputs": [
    {
     "name": "stdout",
     "output_type": "stream",
     "text": [
      "Old size: 1999129\n",
      "New size: 1999052\n"
     ]
    }
   ],
   "source": [
    "print('Old size: %d' % len(train_df))\n",
    "train_df = train_df[train_df.fare_amount>=0]\n",
    "print('New size: %d' % len(train_df))"
   ]
  },
  {
   "cell_type": "markdown",
   "metadata": {},
   "source": [
    "### 승객 이상치 제거"
   ]
  },
  {
   "cell_type": "code",
   "execution_count": 17,
   "metadata": {},
   "outputs": [
    {
     "data": {
      "text/plain": [
       "<matplotlib.axes._subplots.AxesSubplot at 0x12996b0a3c8>"
      ]
     },
     "execution_count": 17,
     "metadata": {},
     "output_type": "execute_result"
    },
    {
     "data": {
      "image/png": "[encoded data removed]",
      "text/plain": [
       "<Figure size 432x288 with 1 Axes>"
      ]
     },
     "metadata": {},
     "output_type": "display_data"
    }
   ],
   "source": [
    "import matplotlib.pyplot as plt\n",
    "train_df.passenger_count.value_counts().plot.bar()"
   ]
  },
  {
   "cell_type": "code",
   "execution_count": 18,
   "metadata": {},
   "outputs": [
    {
     "name": "stdout",
     "output_type": "stream",
     "text": [
      "Old size: 1999052\n",
      "New size: 1991942\n"
     ]
    }
   ],
   "source": [
    "print('Old size: %d' % len(train_df))\n",
    "train_df = train_df[train_df.passenger_count<=6]\n",
    "train_df = train_df[train_df.passenger_count>0]\n",
    "print('New size: %d' % len(train_df))"
   ]
  },
  {
   "cell_type": "code",
   "execution_count": 19,
   "metadata": {
    "scrolled": true
   },
   "outputs": [
    {
     "data": {
      "text/plain": [
       "<matplotlib.axes._subplots.AxesSubplot at 0x12996b6a5c0>"
      ]
     },
     "execution_count": 19,
     "metadata": {},
     "output_type": "execute_result"
    },
    {
     "data": {
      "image/png": "[encoded data removed]",
      "text/plain": [
       "<Figure size 432x288 with 1 Axes>"
      ]
     },
     "metadata": {},
     "output_type": "display_data"
    }
   ],
   "source": [
    "train_df.passenger_count.value_counts().plot.bar()"
   ]
  },
  {
   "cell_type": "markdown",
   "metadata": {},
   "source": [
    "### 탑승 위치 이상치 삭제"
   ]
  },
  {
   "cell_type": "code",
   "execution_count": 20,
   "metadata": {},
   "outputs": [
    {
     "data": {
      "text/html": [
       "<div>\n",
       "<style scoped>\n",
       "    .dataframe tbody tr th:only-of-type {\n",
       "        vertical-align: middle;\n",
       "    }\n",
       "\n",
       "    .dataframe tbody tr th {\n",
       "        vertical-align: top;\n",
       "    }\n",
       "\n",
       "    .dataframe thead th {\n",
       "        text-align: right;\n",
       "    }\n",
       "</style>\n",
       "<table border=\"1\" class=\"dataframe\">\n",
       "  <thead>\n",
       "    <tr style=\"text-align: right;\">\n",
       "      <th></th>\n",
       "      <th>key</th>\n",
       "      <th>fare_amount</th>\n",
       "      <th>pickup_datetime</th>\n",
       "      <th>pickup_longitude</th>\n",
       "      <th>pickup_latitude</th>\n",
       "      <th>dropoff_longitude</th>\n",
       "      <th>dropoff_latitude</th>\n",
       "      <th>passenger_count</th>\n",
       "    </tr>\n",
       "  </thead>\n",
       "  <tbody>\n",
       "    <tr>\n",
       "      <th>897211</th>\n",
       "      <td>2015-04-08 00:47:30.0000001</td>\n",
       "      <td>0.0</td>\n",
       "      <td>2015-04-08 00:47:30 UTC</td>\n",
       "      <td>0.0</td>\n",
       "      <td>0.0</td>\n",
       "      <td>-73.937698</td>\n",
       "      <td>40.758118</td>\n",
       "      <td>1</td>\n",
       "    </tr>\n",
       "    <tr>\n",
       "      <th>1833544</th>\n",
       "      <td>2015-05-01 01:49:29.0000003</td>\n",
       "      <td>0.0</td>\n",
       "      <td>2015-05-01 01:49:29 UTC</td>\n",
       "      <td>0.0</td>\n",
       "      <td>0.0</td>\n",
       "      <td>-74.001106</td>\n",
       "      <td>40.752079</td>\n",
       "      <td>1</td>\n",
       "    </tr>\n",
       "  </tbody>\n",
       "</table>\n",
       "</div>"
      ],
      "text/plain": [
       "                                 key  fare_amount          pickup_datetime  \\\n",
       "897211   2015-04-08 00:47:30.0000001          0.0  2015-04-08 00:47:30 UTC   \n",
       "1833544  2015-05-01 01:49:29.0000003          0.0  2015-05-01 01:49:29 UTC   \n",
       "\n",
       "         pickup_longitude  pickup_latitude  dropoff_longitude  \\\n",
       "897211                0.0              0.0         -73.937698   \n",
       "1833544               0.0              0.0         -74.001106   \n",
       "\n",
       "         dropoff_latitude  passenger_count  \n",
       "897211          40.758118                1  \n",
       "1833544         40.752079                1  "
      ]
     },
     "execution_count": 20,
     "metadata": {},
     "output_type": "execute_result"
    }
   ],
   "source": [
    "train_df.loc[((train_df['pickup_latitude']==0) & (train_df['pickup_longitude']==0))\n",
    "          &((train_df['dropoff_latitude']!=0) & (train_df['dropoff_longitude']!=0)) & (train_df['fare_amount']==0)]"
   ]
  },
  {
   "cell_type": "code",
   "execution_count": 21,
   "metadata": {},
   "outputs": [],
   "source": [
    "train_df = train_df.drop(train_df.loc[((train_df['pickup_latitude']==0)&\n",
    "                                       (train_df['pickup_longitude']==0))&\n",
    "                                      ((train_df['dropoff_latitude']!=0) & (train_df['dropoff_longitude']!=0)) &\n",
    "                                      (train_df['fare_amount']==0)].index, axis=0)"
   ]
  },
  {
   "cell_type": "markdown",
   "metadata": {},
   "source": [
    "### 위도경도 0인 것들 모두 삭제"
   ]
  },
  {
   "cell_type": "code",
   "execution_count": 22,
   "metadata": {},
   "outputs": [
    {
     "data": {
      "text/plain": [
       "(array([0.000000e+00, 0.000000e+00, 9.570000e+02, 1.000000e+00,\n",
       "        0.000000e+00, 0.000000e+00, 0.000000e+00, 0.000000e+00,\n",
       "        1.000000e+00, 6.100000e+01, 3.752900e+04, 0.000000e+00,\n",
       "        1.000000e+00, 2.500000e+02, 1.953101e+06, 2.000000e+00,\n",
       "        2.000000e+00, 2.000000e+00, 0.000000e+00]),\n",
       " array([-100,  -90,  -80,  -70,  -60,  -50,  -40,  -30,  -20,  -10,    0,\n",
       "          10,   20,   30,   40,   50,   60,   70,   80,   90]),\n",
       " <a list of 19 Patch objects>)"
      ]
     },
     "execution_count": 22,
     "metadata": {},
     "output_type": "execute_result"
    },
    {
     "data": {
      "image/png": "[encoded data removed]",
      "text/plain": [
       "<Figure size 432x288 with 1 Axes>"
      ]
     },
     "metadata": {},
     "output_type": "display_data"
    }
   ],
   "source": [
    "plt.hist(train_df['pickup_latitude'], bins = np.arange(-100, 100, 10))"
   ]
  },
  {
   "cell_type": "code",
   "execution_count": 23,
   "metadata": {
    "scrolled": false
   },
   "outputs": [
    {
     "data": {
      "text/plain": [
       "(array([5.000000e+00, 6.000000e+00, 1.953079e+06, 1.300000e+01,\n",
       "        3.000000e+00, 2.000000e+00, 0.000000e+00, 1.000000e+00,\n",
       "        1.000000e+00, 2.790000e+02, 3.755000e+04, 0.000000e+00,\n",
       "        0.000000e+00, 0.000000e+00, 9.580000e+02, 0.000000e+00,\n",
       "        0.000000e+00, 0.000000e+00, 0.000000e+00]),\n",
       " array([-100,  -90,  -80,  -70,  -60,  -50,  -40,  -30,  -20,  -10,    0,\n",
       "          10,   20,   30,   40,   50,   60,   70,   80,   90]),\n",
       " <a list of 19 Patch objects>)"
      ]
     },
     "execution_count": 23,
     "metadata": {},
     "output_type": "execute_result"
    },
    {
     "data": {
      "image/png": "[encoded data removed]",
      "text/plain": [
       "<Figure size 432x288 with 1 Axes>"
      ]
     },
     "metadata": {},
     "output_type": "display_data"
    }
   ],
   "source": [
    "plt.hist(train_df['pickup_longitude'], bins = np.arange(-100, 100, 10))"
   ]
  },
  {
   "cell_type": "code",
   "execution_count": 24,
   "metadata": {},
   "outputs": [
    {
     "data": {
      "text/plain": [
       "(array([0.000000e+00, 0.000000e+00, 9.550000e+02, 0.000000e+00,\n",
       "        0.000000e+00, 0.000000e+00, 0.000000e+00, 0.000000e+00,\n",
       "        1.000000e+00, 6.300000e+01, 3.750000e+04, 0.000000e+00,\n",
       "        2.000000e+00, 2.780000e+02, 1.953098e+06, 3.000000e+00,\n",
       "        0.000000e+00, 5.000000e+00, 1.000000e+00]),\n",
       " array([-100,  -90,  -80,  -70,  -60,  -50,  -40,  -30,  -20,  -10,    0,\n",
       "          10,   20,   30,   40,   50,   60,   70,   80,   90]),\n",
       " <a list of 19 Patch objects>)"
      ]
     },
     "execution_count": 24,
     "metadata": {},
     "output_type": "execute_result"
    },
    {
     "data": {
      "image/png": "[encoded data removed]",
      "text/plain": [
       "<Figure size 432x288 with 1 Axes>"
      ]
     },
     "metadata": {},
     "output_type": "display_data"
    }
   ],
   "source": [
    "plt.hist(train_df['dropoff_latitude'], bins = np.arange(-100, 100, 10))"
   ]
  },
  {
   "cell_type": "code",
   "execution_count": 25,
   "metadata": {
    "scrolled": false
   },
   "outputs": [
    {
     "data": {
      "text/plain": [
       "(array([2.000000e+00, 6.000000e+00, 1.953178e+06, 1.000000e+01,\n",
       "        5.000000e+00, 2.000000e+00, 2.000000e+00, 0.000000e+00,\n",
       "        0.000000e+00, 2.290000e+02, 3.750900e+04, 0.000000e+00,\n",
       "        0.000000e+00, 0.000000e+00, 9.570000e+02, 0.000000e+00,\n",
       "        0.000000e+00, 0.000000e+00, 0.000000e+00]),\n",
       " array([-100,  -90,  -80,  -70,  -60,  -50,  -40,  -30,  -20,  -10,    0,\n",
       "          10,   20,   30,   40,   50,   60,   70,   80,   90]),\n",
       " <a list of 19 Patch objects>)"
      ]
     },
     "execution_count": 25,
     "metadata": {},
     "output_type": "execute_result"
    },
    {
     "data": {
      "image/png": "[encoded data removed]",
      "text/plain": [
       "<Figure size 432x288 with 1 Axes>"
      ]
     },
     "metadata": {},
     "output_type": "display_data"
    }
   ],
   "source": [
    "plt.hist(train_df['dropoff_longitude'], bins = np.arange(-100, 100, 10))"
   ]
  },
  {
   "cell_type": "markdown",
   "metadata": {},
   "source": [
    "### 위도 경도 범위 이상치 제거\n",
    "- 위도 값의 범위 : +90.00000(North)북위 90도 ~ -90.000000(South)남위 90도\n",
    "- 경도 값의 범위 : +180.000000(East)동경 180도 ~ -180.000000(West)서경 180도\n",
    "- 위도 50 "
   ]
  },
  {
   "cell_type": "code",
   "execution_count": 26,
   "metadata": {},
   "outputs": [
    {
     "name": "stdout",
     "output_type": "stream",
     "text": [
      "Old size: 1991940\n",
      "new size: 1953077\n",
      "new size: 1951220\n"
     ]
    }
   ],
   "source": [
    "print('Old size: %d' % len(train_df))\n",
    "train_df = train_df[train_df['pickup_latitude'] > 25]\n",
    "train_df = train_df[train_df['pickup_longitude'] < - 50]\n",
    "print('new size: %d' % len(train_df))\n",
    "train_df = train_df[train_df['dropoff_latitude'] > 25]\n",
    "train_df = train_df[train_df['dropoff_longitude'] < -50]\n",
    "print('new size: %d' % len(train_df))"
   ]
  },
  {
   "cell_type": "code",
   "execution_count": 27,
   "metadata": {
    "scrolled": false
   },
   "outputs": [
    {
     "name": "stdout",
     "output_type": "stream",
     "text": [
      "Old size: 9914\n",
      "new size: 9914\n",
      "new size: 9914\n"
     ]
    }
   ],
   "source": [
    "print('Old size: %d' % len(test_df))\n",
    "test_df = test_df[test_df['pickup_latitude'] > 25]\n",
    "test_df = test_df[test_df['pickup_longitude'] < - 50]\n",
    "print('new size: %d' % len(test_df))\n",
    "test_df = test_df[test_df['dropoff_latitude'] > 25]\n",
    "test_df = test_df[test_df['dropoff_longitude'] < -50]\n",
    "print('new size: %d' % len(test_df))"
   ]
  },
  {
   "cell_type": "markdown",
   "metadata": {},
   "source": [
    "### 년,월,일,시간,요일 분할"
   ]
  },
  {
   "cell_type": "code",
   "execution_count": 28,
   "metadata": {},
   "outputs": [],
   "source": [
    "train_df['pickup_datetime'].replace(regex=True,inplace=True,to_replace=' UTC',value=r'')\n",
    "test_df['pickup_datetime'].replace(regex=True,inplace=True,to_replace=' UTC',value=r'')\n",
    "train_df['pickup_datetime'] = pd.to_datetime(train_df['pickup_datetime'], format='%Y-%m-%d')\n",
    "test_df['pickup_datetime'] = pd.to_datetime(test_df['pickup_datetime'], format='%Y-%m-%d')"
   ]
  },
  {
   "cell_type": "code",
   "execution_count": 29,
   "metadata": {},
   "outputs": [],
   "source": [
    "data = [train_df,test_df]\n",
    "\n",
    "for i in data:\n",
    "    i['Year'] = i['pickup_datetime'].dt.year\n",
    "    i['Month'] = i['pickup_datetime'].dt.month\n",
    "    i['Date'] = i['pickup_datetime'].dt.day\n",
    "    i['Day of Week'] = i['pickup_datetime'].dt.dayofweek\n",
    "    i['Hour'] = i['pickup_datetime'].dt.hour"
   ]
  },
  {
   "cell_type": "code",
   "execution_count": 30,
   "metadata": {
    "scrolled": true
   },
   "outputs": [
    {
     "data": {
      "text/html": [
       "<div>\n",
       "<style scoped>\n",
       "    .dataframe tbody tr th:only-of-type {\n",
       "        vertical-align: middle;\n",
       "    }\n",
       "\n",
       "    .dataframe tbody tr th {\n",
       "        vertical-align: top;\n",
       "    }\n",
       "\n",
       "    .dataframe thead th {\n",
       "        text-align: right;\n",
       "    }\n",
       "</style>\n",
       "<table border=\"1\" class=\"dataframe\">\n",
       "  <thead>\n",
       "    <tr style=\"text-align: right;\">\n",
       "      <th></th>\n",
       "      <th>Year</th>\n",
       "      <th>Month</th>\n",
       "      <th>Date</th>\n",
       "      <th>Day of Week</th>\n",
       "      <th>Hour</th>\n",
       "    </tr>\n",
       "  </thead>\n",
       "  <tbody>\n",
       "    <tr>\n",
       "      <th>0</th>\n",
       "      <td>2009</td>\n",
       "      <td>6</td>\n",
       "      <td>15</td>\n",
       "      <td>0</td>\n",
       "      <td>17</td>\n",
       "    </tr>\n",
       "    <tr>\n",
       "      <th>1</th>\n",
       "      <td>2010</td>\n",
       "      <td>1</td>\n",
       "      <td>5</td>\n",
       "      <td>1</td>\n",
       "      <td>16</td>\n",
       "    </tr>\n",
       "    <tr>\n",
       "      <th>2</th>\n",
       "      <td>2011</td>\n",
       "      <td>8</td>\n",
       "      <td>18</td>\n",
       "      <td>3</td>\n",
       "      <td>0</td>\n",
       "    </tr>\n",
       "    <tr>\n",
       "      <th>3</th>\n",
       "      <td>2012</td>\n",
       "      <td>4</td>\n",
       "      <td>21</td>\n",
       "      <td>5</td>\n",
       "      <td>4</td>\n",
       "    </tr>\n",
       "    <tr>\n",
       "      <th>4</th>\n",
       "      <td>2010</td>\n",
       "      <td>3</td>\n",
       "      <td>9</td>\n",
       "      <td>1</td>\n",
       "      <td>7</td>\n",
       "    </tr>\n",
       "  </tbody>\n",
       "</table>\n",
       "</div>"
      ],
      "text/plain": [
       "   Year  Month  Date  Day of Week  Hour\n",
       "0  2009      6    15            0    17\n",
       "1  2010      1     5            1    16\n",
       "2  2011      8    18            3     0\n",
       "3  2012      4    21            5     4\n",
       "4  2010      3     9            1     7"
      ]
     },
     "execution_count": 30,
     "metadata": {},
     "output_type": "execute_result"
    }
   ],
   "source": [
    "train_df[train_df.columns[-5:]].head()"
   ]
  },
  {
   "cell_type": "code",
   "execution_count": 31,
   "metadata": {
    "scrolled": true
   },
   "outputs": [
    {
     "data": {
      "text/plain": [
       "key                          object\n",
       "fare_amount                 float64\n",
       "pickup_datetime      datetime64[ns]\n",
       "pickup_longitude            float64\n",
       "pickup_latitude             float64\n",
       "dropoff_longitude           float64\n",
       "dropoff_latitude            float64\n",
       "passenger_count               int64\n",
       "Year                          int64\n",
       "Month                         int64\n",
       "Date                          int64\n",
       "Day of Week                   int64\n",
       "Hour                          int64\n",
       "dtype: object"
      ]
     },
     "execution_count": 31,
     "metadata": {},
     "output_type": "execute_result"
    }
   ],
   "source": [
    "train_df.dtypes"
   ]
  },
  {
   "cell_type": "markdown",
   "metadata": {},
   "source": [
    "### 미국 공휴일 찾아주는 함수"
   ]
  },
  {
   "cell_type": "code",
   "execution_count": 32,
   "metadata": {},
   "outputs": [],
   "source": [
    "# #check holiday\n",
    "# from pandas.tseries.holiday import USFederalHolidayCalendar #엄청 유용할듯\n",
    "# cal = USFederalHolidayCalendar()\n",
    "# #holidays = cal.holidays(start='2009-01-01', end='2015-12-31').to_pydatetime()\n",
    "# holidays = cal.holidays(start='2009-01-01', end='2015-12-31')\n",
    "\n",
    "# train_df['holiday_or_not'] = train_df.pickup_datetime.apply(lambda x: 1 if x in holidays else 0)\n",
    "# test_df['holiday_or_not'] = test_df.pickup_datetime.apply(lambda x: 1 if x in holidays else 0)"
   ]
  },
  {
   "cell_type": "markdown",
   "metadata": {},
   "source": [
    "### 위도 경도 이용 거리 계산 함수"
   ]
  },
  {
   "cell_type": "code",
   "execution_count": 33,
   "metadata": {},
   "outputs": [],
   "source": [
    "def haversine_distance(lat1, long1, lat2, long2):\n",
    "    data = [train_df, test_df]\n",
    "    for i in data:\n",
    "        R = 6371  #radius of earth in kilometers\n",
    "        #R = 3959 #radius of earth in miles\n",
    "        phi1 = np.radians(i[lat1])\n",
    "        phi2 = np.radians(i[lat2])\n",
    "    \n",
    "        delta_phi = np.radians(i[lat2]-i[lat1])\n",
    "        delta_lambda = np.radians(i[long2]-i[long1])\n",
    "    \n",
    "        #a = sin²((φB - φA)/2) + cos φA . cos φB . sin²((λB - λA)/2)\n",
    "        a = np.sin(delta_phi / 2.0) ** 2 + np.cos(phi1) * np.cos(phi2) * np.sin(delta_lambda / 2.0) ** 2\n",
    "    \n",
    "        #c = 2 * atan2( √a, √(1−a) )\n",
    "        c = 2 * np.arctan2(np.sqrt(a), np.sqrt(1-a))\n",
    "    \n",
    "        #d = R*c\n",
    "        d = (R * c) #in kilometers\n",
    "        i['H_Distance'] = d\n",
    "    return d"
   ]
  },
  {
   "cell_type": "code",
   "execution_count": 34,
   "metadata": {
    "scrolled": true
   },
   "outputs": [
    {
     "data": {
      "text/plain": [
       "0        2.323260\n",
       "1        2.425353\n",
       "2        0.618628\n",
       "3        1.961033\n",
       "4        5.387301\n",
       "5        3.222549\n",
       "6        0.929601\n",
       "7       21.540102\n",
       "8        3.873962\n",
       "9        1.099794\n",
       "10       2.317685\n",
       "11       4.819179\n",
       "12       0.722670\n",
       "13       1.675503\n",
       "14       2.504032\n",
       "15       5.115375\n",
       "16       0.298838\n",
       "17       2.531147\n",
       "18       0.780444\n",
       "19       0.427282\n",
       "20       1.651946\n",
       "21       1.969211\n",
       "22       1.305441\n",
       "23       1.901295\n",
       "24       5.779720\n",
       "25       1.121687\n",
       "26      14.306540\n",
       "27       9.427870\n",
       "28       1.144529\n",
       "29       4.696371\n",
       "          ...    \n",
       "9884    15.119293\n",
       "9885     5.006239\n",
       "9886     7.376754\n",
       "9887     1.680721\n",
       "9888     0.000000\n",
       "9889     2.377723\n",
       "9890     2.944581\n",
       "9891     5.952839\n",
       "9892     2.950361\n",
       "9893     4.735375\n",
       "9894     3.101361\n",
       "9895     9.000325\n",
       "9896     2.398161\n",
       "9897     5.081663\n",
       "9898     0.555287\n",
       "9899     5.610506\n",
       "9900     1.890608\n",
       "9901     1.530118\n",
       "9902     3.891525\n",
       "9903     2.299316\n",
       "9904    15.091263\n",
       "9905     9.613797\n",
       "9906     0.369506\n",
       "9907     9.923999\n",
       "9908     1.636402\n",
       "9909     2.124874\n",
       "9910     3.270969\n",
       "9911    19.183941\n",
       "9912     8.343486\n",
       "9913     1.180825\n",
       "Length: 9914, dtype: float64"
      ]
     },
     "execution_count": 34,
     "metadata": {},
     "output_type": "execute_result"
    }
   ],
   "source": [
    "haversine_distance('pickup_latitude', 'pickup_longitude', 'dropoff_latitude', 'dropoff_longitude')"
   ]
  },
  {
   "cell_type": "code",
   "execution_count": 35,
   "metadata": {
    "scrolled": false
   },
   "outputs": [
    {
     "data": {
      "text/html": [
       "<div>\n",
       "<style scoped>\n",
       "    .dataframe tbody tr th:only-of-type {\n",
       "        vertical-align: middle;\n",
       "    }\n",
       "\n",
       "    .dataframe tbody tr th {\n",
       "        vertical-align: top;\n",
       "    }\n",
       "\n",
       "    .dataframe thead th {\n",
       "        text-align: right;\n",
       "    }\n",
       "</style>\n",
       "<table border=\"1\" class=\"dataframe\">\n",
       "  <thead>\n",
       "    <tr style=\"text-align: right;\">\n",
       "      <th></th>\n",
       "      <th>key</th>\n",
       "      <th>fare_amount</th>\n",
       "      <th>pickup_datetime</th>\n",
       "      <th>pickup_longitude</th>\n",
       "      <th>pickup_latitude</th>\n",
       "      <th>dropoff_longitude</th>\n",
       "      <th>dropoff_latitude</th>\n",
       "      <th>passenger_count</th>\n",
       "      <th>Year</th>\n",
       "      <th>Month</th>\n",
       "      <th>Date</th>\n",
       "      <th>Day of Week</th>\n",
       "      <th>Hour</th>\n",
       "      <th>H_Distance</th>\n",
       "    </tr>\n",
       "  </thead>\n",
       "  <tbody>\n",
       "    <tr>\n",
       "      <th>0</th>\n",
       "      <td>2009-06-15 17:26:21.0000001</td>\n",
       "      <td>4.5</td>\n",
       "      <td>2009-06-15 17:26:21</td>\n",
       "      <td>-73.844311</td>\n",
       "      <td>40.721319</td>\n",
       "      <td>-73.841610</td>\n",
       "      <td>40.712278</td>\n",
       "      <td>1</td>\n",
       "      <td>2009</td>\n",
       "      <td>6</td>\n",
       "      <td>15</td>\n",
       "      <td>0</td>\n",
       "      <td>17</td>\n",
       "      <td>1.030764</td>\n",
       "    </tr>\n",
       "    <tr>\n",
       "      <th>1</th>\n",
       "      <td>2010-01-05 16:52:16.0000002</td>\n",
       "      <td>16.9</td>\n",
       "      <td>2010-01-05 16:52:16</td>\n",
       "      <td>-74.016048</td>\n",
       "      <td>40.711303</td>\n",
       "      <td>-73.979268</td>\n",
       "      <td>40.782004</td>\n",
       "      <td>1</td>\n",
       "      <td>2010</td>\n",
       "      <td>1</td>\n",
       "      <td>5</td>\n",
       "      <td>1</td>\n",
       "      <td>16</td>\n",
       "      <td>8.450134</td>\n",
       "    </tr>\n",
       "    <tr>\n",
       "      <th>2</th>\n",
       "      <td>2011-08-18 00:35:00.00000049</td>\n",
       "      <td>5.7</td>\n",
       "      <td>2011-08-18 00:35:00</td>\n",
       "      <td>-73.982738</td>\n",
       "      <td>40.761270</td>\n",
       "      <td>-73.991242</td>\n",
       "      <td>40.750562</td>\n",
       "      <td>2</td>\n",
       "      <td>2011</td>\n",
       "      <td>8</td>\n",
       "      <td>18</td>\n",
       "      <td>3</td>\n",
       "      <td>0</td>\n",
       "      <td>1.389525</td>\n",
       "    </tr>\n",
       "    <tr>\n",
       "      <th>3</th>\n",
       "      <td>2012-04-21 04:30:42.0000001</td>\n",
       "      <td>7.7</td>\n",
       "      <td>2012-04-21 04:30:42</td>\n",
       "      <td>-73.987130</td>\n",
       "      <td>40.733143</td>\n",
       "      <td>-73.991567</td>\n",
       "      <td>40.758092</td>\n",
       "      <td>1</td>\n",
       "      <td>2012</td>\n",
       "      <td>4</td>\n",
       "      <td>21</td>\n",
       "      <td>5</td>\n",
       "      <td>4</td>\n",
       "      <td>2.799270</td>\n",
       "    </tr>\n",
       "    <tr>\n",
       "      <th>4</th>\n",
       "      <td>2010-03-09 07:51:00.000000135</td>\n",
       "      <td>5.3</td>\n",
       "      <td>2010-03-09 07:51:00</td>\n",
       "      <td>-73.968095</td>\n",
       "      <td>40.768008</td>\n",
       "      <td>-73.956655</td>\n",
       "      <td>40.783762</td>\n",
       "      <td>1</td>\n",
       "      <td>2010</td>\n",
       "      <td>3</td>\n",
       "      <td>9</td>\n",
       "      <td>1</td>\n",
       "      <td>7</td>\n",
       "      <td>1.999157</td>\n",
       "    </tr>\n",
       "  </tbody>\n",
       "</table>\n",
       "</div>"
      ],
      "text/plain": [
       "                             key  fare_amount     pickup_datetime  \\\n",
       "0    2009-06-15 17:26:21.0000001          4.5 2009-06-15 17:26:21   \n",
       "1    2010-01-05 16:52:16.0000002         16.9 2010-01-05 16:52:16   \n",
       "2   2011-08-18 00:35:00.00000049          5.7 2011-08-18 00:35:00   \n",
       "3    2012-04-21 04:30:42.0000001          7.7 2012-04-21 04:30:42   \n",
       "4  2010-03-09 07:51:00.000000135          5.3 2010-03-09 07:51:00   \n",
       "\n",
       "   pickup_longitude  pickup_latitude  dropoff_longitude  dropoff_latitude  \\\n",
       "0        -73.844311        40.721319         -73.841610         40.712278   \n",
       "1        -74.016048        40.711303         -73.979268         40.782004   \n",
       "2        -73.982738        40.761270         -73.991242         40.750562   \n",
       "3        -73.987130        40.733143         -73.991567         40.758092   \n",
       "4        -73.968095        40.768008         -73.956655         40.783762   \n",
       "\n",
       "   passenger_count  Year  Month  Date  Day of Week  Hour  H_Distance  \n",
       "0                1  2009      6    15            0    17    1.030764  \n",
       "1                1  2010      1     5            1    16    8.450134  \n",
       "2                2  2011      8    18            3     0    1.389525  \n",
       "3                1  2012      4    21            5     4    2.799270  \n",
       "4                1  2010      3     9            1     7    1.999157  "
      ]
     },
     "execution_count": 35,
     "metadata": {},
     "output_type": "execute_result"
    }
   ],
   "source": [
    "train_df.head()"
   ]
  },
  {
   "cell_type": "code",
   "execution_count": 36,
   "metadata": {
    "scrolled": true
   },
   "outputs": [
    {
     "data": {
      "text/html": [
       "<div>\n",
       "<style scoped>\n",
       "    .dataframe tbody tr th:only-of-type {\n",
       "        vertical-align: middle;\n",
       "    }\n",
       "\n",
       "    .dataframe tbody tr th {\n",
       "        vertical-align: top;\n",
       "    }\n",
       "\n",
       "    .dataframe thead th {\n",
       "        text-align: right;\n",
       "    }\n",
       "</style>\n",
       "<table border=\"1\" class=\"dataframe\">\n",
       "  <thead>\n",
       "    <tr style=\"text-align: right;\">\n",
       "      <th></th>\n",
       "      <th>key</th>\n",
       "      <th>pickup_datetime</th>\n",
       "      <th>pickup_longitude</th>\n",
       "      <th>pickup_latitude</th>\n",
       "      <th>dropoff_longitude</th>\n",
       "      <th>dropoff_latitude</th>\n",
       "      <th>passenger_count</th>\n",
       "      <th>Year</th>\n",
       "      <th>Month</th>\n",
       "      <th>Date</th>\n",
       "      <th>Day of Week</th>\n",
       "      <th>Hour</th>\n",
       "      <th>H_Distance</th>\n",
       "    </tr>\n",
       "  </thead>\n",
       "  <tbody>\n",
       "    <tr>\n",
       "      <th>0</th>\n",
       "      <td>2015-01-27 13:08:24.0000002</td>\n",
       "      <td>2015-01-27 13:08:24</td>\n",
       "      <td>-73.973320</td>\n",
       "      <td>40.763805</td>\n",
       "      <td>-73.981430</td>\n",
       "      <td>40.743835</td>\n",
       "      <td>1</td>\n",
       "      <td>2015</td>\n",
       "      <td>1</td>\n",
       "      <td>27</td>\n",
       "      <td>1</td>\n",
       "      <td>13</td>\n",
       "      <td>2.323260</td>\n",
       "    </tr>\n",
       "    <tr>\n",
       "      <th>1</th>\n",
       "      <td>2015-01-27 13:08:24.0000003</td>\n",
       "      <td>2015-01-27 13:08:24</td>\n",
       "      <td>-73.986862</td>\n",
       "      <td>40.719383</td>\n",
       "      <td>-73.998886</td>\n",
       "      <td>40.739201</td>\n",
       "      <td>1</td>\n",
       "      <td>2015</td>\n",
       "      <td>1</td>\n",
       "      <td>27</td>\n",
       "      <td>1</td>\n",
       "      <td>13</td>\n",
       "      <td>2.425353</td>\n",
       "    </tr>\n",
       "    <tr>\n",
       "      <th>2</th>\n",
       "      <td>2011-10-08 11:53:44.0000002</td>\n",
       "      <td>2011-10-08 11:53:44</td>\n",
       "      <td>-73.982524</td>\n",
       "      <td>40.751260</td>\n",
       "      <td>-73.979654</td>\n",
       "      <td>40.746139</td>\n",
       "      <td>1</td>\n",
       "      <td>2011</td>\n",
       "      <td>10</td>\n",
       "      <td>8</td>\n",
       "      <td>5</td>\n",
       "      <td>11</td>\n",
       "      <td>0.618628</td>\n",
       "    </tr>\n",
       "    <tr>\n",
       "      <th>3</th>\n",
       "      <td>2012-12-01 21:12:12.0000002</td>\n",
       "      <td>2012-12-01 21:12:12</td>\n",
       "      <td>-73.981160</td>\n",
       "      <td>40.767807</td>\n",
       "      <td>-73.990448</td>\n",
       "      <td>40.751635</td>\n",
       "      <td>1</td>\n",
       "      <td>2012</td>\n",
       "      <td>12</td>\n",
       "      <td>1</td>\n",
       "      <td>5</td>\n",
       "      <td>21</td>\n",
       "      <td>1.961033</td>\n",
       "    </tr>\n",
       "    <tr>\n",
       "      <th>4</th>\n",
       "      <td>2012-12-01 21:12:12.0000003</td>\n",
       "      <td>2012-12-01 21:12:12</td>\n",
       "      <td>-73.966046</td>\n",
       "      <td>40.789775</td>\n",
       "      <td>-73.988565</td>\n",
       "      <td>40.744427</td>\n",
       "      <td>1</td>\n",
       "      <td>2012</td>\n",
       "      <td>12</td>\n",
       "      <td>1</td>\n",
       "      <td>5</td>\n",
       "      <td>21</td>\n",
       "      <td>5.387301</td>\n",
       "    </tr>\n",
       "  </tbody>\n",
       "</table>\n",
       "</div>"
      ],
      "text/plain": [
       "                           key     pickup_datetime  pickup_longitude  \\\n",
       "0  2015-01-27 13:08:24.0000002 2015-01-27 13:08:24        -73.973320   \n",
       "1  2015-01-27 13:08:24.0000003 2015-01-27 13:08:24        -73.986862   \n",
       "2  2011-10-08 11:53:44.0000002 2011-10-08 11:53:44        -73.982524   \n",
       "3  2012-12-01 21:12:12.0000002 2012-12-01 21:12:12        -73.981160   \n",
       "4  2012-12-01 21:12:12.0000003 2012-12-01 21:12:12        -73.966046   \n",
       "\n",
       "   pickup_latitude  dropoff_longitude  dropoff_latitude  passenger_count  \\\n",
       "0        40.763805         -73.981430         40.743835                1   \n",
       "1        40.719383         -73.998886         40.739201                1   \n",
       "2        40.751260         -73.979654         40.746139                1   \n",
       "3        40.767807         -73.990448         40.751635                1   \n",
       "4        40.789775         -73.988565         40.744427                1   \n",
       "\n",
       "   Year  Month  Date  Day of Week  Hour  H_Distance  \n",
       "0  2015      1    27            1    13    2.323260  \n",
       "1  2015      1    27            1    13    2.425353  \n",
       "2  2011     10     8            5    11    0.618628  \n",
       "3  2012     12     1            5    21    1.961033  \n",
       "4  2012     12     1            5    21    5.387301  "
      ]
     },
     "execution_count": 36,
     "metadata": {},
     "output_type": "execute_result"
    }
   ],
   "source": [
    "test_df.head()"
   ]
  },
  {
   "cell_type": "markdown",
   "metadata": {},
   "source": [
    "### 이동거리 이상치 확인"
   ]
  },
  {
   "cell_type": "code",
   "execution_count": 37,
   "metadata": {},
   "outputs": [
    {
     "data": {
      "text/plain": [
       "<matplotlib.axes._subplots.AxesSubplot at 0x129d4012710>"
      ]
     },
     "execution_count": 37,
     "metadata": {},
     "output_type": "execute_result"
    },
    {
     "data": {
      "image/png": "[encoded data removed]",
      "text/plain": [
       "<Figure size 432x288 with 1 Axes>"
      ]
     },
     "metadata": {},
     "output_type": "display_data"
    }
   ],
   "source": [
    "train_df.H_Distance.plot()"
   ]
  },
  {
   "cell_type": "code",
   "execution_count": 38,
   "metadata": {},
   "outputs": [
    {
     "data": {
      "text/plain": [
       "count    1.951220e+06\n",
       "mean     3.461578e+00\n",
       "std      2.385572e+01\n",
       "min      0.000000e+00\n",
       "25%      1.253826e+00\n",
       "50%      2.152965e+00\n",
       "75%      3.916756e+00\n",
       "max      1.624489e+04\n",
       "Name: H_Distance, dtype: float64"
      ]
     },
     "execution_count": 38,
     "metadata": {},
     "output_type": "execute_result"
    }
   ],
   "source": [
    "train_df.H_Distance.describe()"
   ]
  },
  {
   "cell_type": "code",
   "execution_count": 39,
   "metadata": {},
   "outputs": [
    {
     "data": {
      "text/html": [
       "<div>\n",
       "<style scoped>\n",
       "    .dataframe tbody tr th:only-of-type {\n",
       "        vertical-align: middle;\n",
       "    }\n",
       "\n",
       "    .dataframe tbody tr th {\n",
       "        vertical-align: top;\n",
       "    }\n",
       "\n",
       "    .dataframe thead th {\n",
       "        text-align: right;\n",
       "    }\n",
       "</style>\n",
       "<table border=\"1\" class=\"dataframe\">\n",
       "  <thead>\n",
       "    <tr style=\"text-align: right;\">\n",
       "      <th></th>\n",
       "      <th>key</th>\n",
       "      <th>fare_amount</th>\n",
       "      <th>pickup_datetime</th>\n",
       "      <th>pickup_longitude</th>\n",
       "      <th>pickup_latitude</th>\n",
       "      <th>dropoff_longitude</th>\n",
       "      <th>dropoff_latitude</th>\n",
       "      <th>passenger_count</th>\n",
       "      <th>Year</th>\n",
       "      <th>Month</th>\n",
       "      <th>Date</th>\n",
       "      <th>Day of Week</th>\n",
       "      <th>Hour</th>\n",
       "      <th>H_Distance</th>\n",
       "    </tr>\n",
       "  </thead>\n",
       "  <tbody>\n",
       "    <tr>\n",
       "      <th>45139</th>\n",
       "      <td>2015-06-04 14:24:03.0000005</td>\n",
       "      <td>57.54</td>\n",
       "      <td>2015-06-04 14:24:03</td>\n",
       "      <td>-70.140793</td>\n",
       "      <td>38.754215</td>\n",
       "      <td>-73.789780</td>\n",
       "      <td>40.646969</td>\n",
       "      <td>1</td>\n",
       "      <td>2015</td>\n",
       "      <td>6</td>\n",
       "      <td>4</td>\n",
       "      <td>3</td>\n",
       "      <td>14</td>\n",
       "      <td>376.445536</td>\n",
       "    </tr>\n",
       "    <tr>\n",
       "      <th>46482</th>\n",
       "      <td>2011-03-18 17:35:27.0000002</td>\n",
       "      <td>45.00</td>\n",
       "      <td>2011-03-18 17:35:27</td>\n",
       "      <td>-75.336082</td>\n",
       "      <td>40.646409</td>\n",
       "      <td>-73.953539</td>\n",
       "      <td>39.606622</td>\n",
       "      <td>1</td>\n",
       "      <td>2011</td>\n",
       "      <td>3</td>\n",
       "      <td>18</td>\n",
       "      <td>4</td>\n",
       "      <td>17</td>\n",
       "      <td>164.874362</td>\n",
       "    </tr>\n",
       "    <tr>\n",
       "      <th>60442</th>\n",
       "      <td>2012-01-12 13:36:00.000000186</td>\n",
       "      <td>4.90</td>\n",
       "      <td>2012-01-12 13:36:00</td>\n",
       "      <td>-736.550000</td>\n",
       "      <td>40.738230</td>\n",
       "      <td>-73.988742</td>\n",
       "      <td>40.748847</td>\n",
       "      <td>1</td>\n",
       "      <td>2012</td>\n",
       "      <td>1</td>\n",
       "      <td>12</td>\n",
       "      <td>3</td>\n",
       "      <td>13</td>\n",
       "      <td>4747.973805</td>\n",
       "    </tr>\n",
       "    <tr>\n",
       "      <th>73775</th>\n",
       "      <td>2010-11-04 22:02:00.000000193</td>\n",
       "      <td>10.10</td>\n",
       "      <td>2010-11-04 22:02:00</td>\n",
       "      <td>-73.947407</td>\n",
       "      <td>40.706902</td>\n",
       "      <td>-73.041317</td>\n",
       "      <td>39.296307</td>\n",
       "      <td>1</td>\n",
       "      <td>2010</td>\n",
       "      <td>11</td>\n",
       "      <td>4</td>\n",
       "      <td>3</td>\n",
       "      <td>22</td>\n",
       "      <td>174.808107</td>\n",
       "    </tr>\n",
       "    <tr>\n",
       "      <th>78167</th>\n",
       "      <td>2012-12-24 14:20:00.00000043</td>\n",
       "      <td>4.50</td>\n",
       "      <td>2012-12-24 14:20:00</td>\n",
       "      <td>-74.000950</td>\n",
       "      <td>43.183332</td>\n",
       "      <td>-73.995082</td>\n",
       "      <td>40.749792</td>\n",
       "      <td>6</td>\n",
       "      <td>2012</td>\n",
       "      <td>12</td>\n",
       "      <td>24</td>\n",
       "      <td>0</td>\n",
       "      <td>14</td>\n",
       "      <td>270.597736</td>\n",
       "    </tr>\n",
       "  </tbody>\n",
       "</table>\n",
       "</div>"
      ],
      "text/plain": [
       "                                 key  fare_amount     pickup_datetime  \\\n",
       "45139    2015-06-04 14:24:03.0000005        57.54 2015-06-04 14:24:03   \n",
       "46482    2011-03-18 17:35:27.0000002        45.00 2011-03-18 17:35:27   \n",
       "60442  2012-01-12 13:36:00.000000186         4.90 2012-01-12 13:36:00   \n",
       "73775  2010-11-04 22:02:00.000000193        10.10 2010-11-04 22:02:00   \n",
       "78167   2012-12-24 14:20:00.00000043         4.50 2012-12-24 14:20:00   \n",
       "\n",
       "       pickup_longitude  pickup_latitude  dropoff_longitude  dropoff_latitude  \\\n",
       "45139        -70.140793        38.754215         -73.789780         40.646969   \n",
       "46482        -75.336082        40.646409         -73.953539         39.606622   \n",
       "60442       -736.550000        40.738230         -73.988742         40.748847   \n",
       "73775        -73.947407        40.706902         -73.041317         39.296307   \n",
       "78167        -74.000950        43.183332         -73.995082         40.749792   \n",
       "\n",
       "       passenger_count  Year  Month  Date  Day of Week  Hour   H_Distance  \n",
       "45139                1  2015      6     4            3    14   376.445536  \n",
       "46482                1  2011      3    18            4    17   164.874362  \n",
       "60442                1  2012      1    12            3    13  4747.973805  \n",
       "73775                1  2010     11     4            3    22   174.808107  \n",
       "78167                6  2012     12    24            0    14   270.597736  "
      ]
     },
     "execution_count": 39,
     "metadata": {},
     "output_type": "execute_result"
    }
   ],
   "source": [
    "train_df.loc[(train_df['H_Distance']>140)&(train_df['fare_amount']!=0)].head()"
   ]
  },
  {
   "cell_type": "code",
   "execution_count": 40,
   "metadata": {
    "scrolled": true
   },
   "outputs": [
    {
     "data": {
      "text/plain": [
       "key                  140\n",
       "fare_amount          140\n",
       "pickup_datetime      140\n",
       "pickup_longitude     140\n",
       "pickup_latitude      140\n",
       "dropoff_longitude    140\n",
       "dropoff_latitude     140\n",
       "passenger_count      140\n",
       "Year                 140\n",
       "Month                140\n",
       "Date                 140\n",
       "Day of Week          140\n",
       "Hour                 140\n",
       "H_Distance           140\n",
       "dtype: int64"
      ]
     },
     "execution_count": 40,
     "metadata": {},
     "output_type": "execute_result"
    }
   ],
   "source": [
    "train_df.loc[(train_df['H_Distance']>140)&(train_df['fare_amount']!=0)].count()"
   ]
  },
  {
   "cell_type": "code",
   "execution_count": 41,
   "metadata": {},
   "outputs": [
    {
     "name": "stdout",
     "output_type": "stream",
     "text": [
      "Old size: 1951220\n",
      "new size: 1951080\n"
     ]
    }
   ],
   "source": [
    "print('Old size: %d' % len(train_df))\n",
    "train_df = train_df[train_df['H_Distance'] < 140]\n",
    "print('new size: %d' % len(train_df))"
   ]
  },
  {
   "cell_type": "code",
   "execution_count": 42,
   "metadata": {},
   "outputs": [
    {
     "data": {
      "text/plain": [
       "<matplotlib.axes._subplots.AxesSubplot at 0x12996fd70f0>"
      ]
     },
     "execution_count": 42,
     "metadata": {},
     "output_type": "execute_result"
    },
    {
     "data": {
      "image/png": "[encoded data removed]",
      "text/plain": [
       "<Figure size 432x288 with 1 Axes>"
      ]
     },
     "metadata": {},
     "output_type": "display_data"
    }
   ],
   "source": [
    "train_df.H_Distance.plot()"
   ]
  },
  {
   "cell_type": "markdown",
   "metadata": {},
   "source": [
    "### 이동거리가 0인 것 확인\n",
    "- 거리가 0 삭제 시 예측이 더 안된다"
   ]
  },
  {
   "cell_type": "code",
   "execution_count": 43,
   "metadata": {},
   "outputs": [],
   "source": [
    "# train_df.sort_values(['H_Distance','fare_amount'], ascending=False)"
   ]
  },
  {
   "cell_type": "code",
   "execution_count": 44,
   "metadata": {},
   "outputs": [],
   "source": [
    "# train_df.loc[((train_df['pickup_latitude']==train_df['dropoff_latitude']) & (train_df['pickup_longitude']==train_df['dropoff_longitude']))]"
   ]
  },
  {
   "cell_type": "code",
   "execution_count": 45,
   "metadata": {},
   "outputs": [],
   "source": [
    "# print(len(train_df))\n",
    "# train_df = train_df.drop(train_df.loc[((train_df['pickup_latitude']==train_df['dropoff_latitude']) &\n",
    "#                                        (train_df['pickup_longitude']==train_df['dropoff_longitude']))].index, axis=0)\n",
    "# print(len(train_df))"
   ]
  },
  {
   "cell_type": "markdown",
   "metadata": {},
   "source": [
    "### 승객수에 따른 요금"
   ]
  },
  {
   "cell_type": "code",
   "execution_count": 46,
   "metadata": {},
   "outputs": [
    {
     "data": {
      "text/plain": [
       "Text(0,0.5,'Frequency')"
      ]
     },
     "execution_count": 46,
     "metadata": {},
     "output_type": "execute_result"
    },
    {
     "data": {
      "image/png": "[encoded data removed]",
      "text/plain": [
       "<Figure size 1080x504 with 1 Axes>"
      ]
     },
     "metadata": {},
     "output_type": "display_data"
    }
   ],
   "source": [
    "plt.figure(figsize=(15,7))\n",
    "plt.hist(train_df['passenger_count'], bins=15)\n",
    "plt.xlabel('No. of Passengers')\n",
    "plt.ylabel('Frequency')"
   ]
  },
  {
   "cell_type": "code",
   "execution_count": 47,
   "metadata": {
    "scrolled": false
   },
   "outputs": [
    {
     "data": {
      "text/plain": [
       "Text(0,0.5,'Fare')"
      ]
     },
     "execution_count": 47,
     "metadata": {},
     "output_type": "execute_result"
    },
    {
     "data": {
      "image/png": "[encoded data removed]",
      "text/plain": [
       "<Figure size 1080x504 with 1 Axes>"
      ]
     },
     "metadata": {},
     "output_type": "display_data"
    }
   ],
   "source": [
    "plt.figure(figsize=(15,7))\n",
    "plt.scatter(x=train_df['passenger_count'], y=train_df['fare_amount'], s=1.5)\n",
    "plt.xlabel('No. of Passengers')\n",
    "plt.ylabel('Fare')"
   ]
  },
  {
   "cell_type": "markdown",
   "metadata": {},
   "source": [
    "- 1명이 탈 때 제일 비용이 높게 나온다"
   ]
  },
  {
   "cell_type": "markdown",
   "metadata": {},
   "source": [
    "### 날짜에 따른 요금 비교"
   ]
  },
  {
   "cell_type": "code",
   "execution_count": 48,
   "metadata": {},
   "outputs": [
    {
     "data": {
      "text/plain": [
       "Text(0,0.5,'Fare')"
      ]
     },
     "execution_count": 48,
     "metadata": {},
     "output_type": "execute_result"
    },
    {
     "data": {
      "image/png": "[encoded data removed]",
      "text/plain": [
       "<Figure size 1080x504 with 1 Axes>"
      ]
     },
     "metadata": {},
     "output_type": "display_data"
    }
   ],
   "source": [
    "plt.figure(figsize=(15,7))\n",
    "plt.scatter(x=train_df['Date'], y=train_df['fare_amount'], s=1.5)\n",
    "plt.xlabel('Date')\n",
    "plt.ylabel('Fare')"
   ]
  },
  {
   "cell_type": "markdown",
   "metadata": {},
   "source": [
    "-  거의 비슷"
   ]
  },
  {
   "cell_type": "markdown",
   "metadata": {},
   "source": [
    "### 시간에 따른 요금 비교"
   ]
  },
  {
   "cell_type": "code",
   "execution_count": 49,
   "metadata": {},
   "outputs": [
    {
     "data": {
      "text/plain": [
       "Text(0,0.5,'Frequency')"
      ]
     },
     "execution_count": 49,
     "metadata": {},
     "output_type": "execute_result"
    },
    {
     "data": {
      "image/png": "[encoded data removed]",
      "text/plain": [
       "<Figure size 1080x504 with 1 Axes>"
      ]
     },
     "metadata": {},
     "output_type": "display_data"
    }
   ],
   "source": [
    "plt.figure(figsize=(15,7))\n",
    "plt.hist(x=train_df.Hour, bins=100)\n",
    "plt.xlabel('Hour')\n",
    "plt.ylabel('Frequency')"
   ]
  },
  {
   "cell_type": "markdown",
   "metadata": {},
   "source": [
    "- 택시 이용 시간 오전 5시 가장 낮고 오후 7시에 가장 높다"
   ]
  },
  {
   "cell_type": "markdown",
   "metadata": {},
   "source": [
    "### 요일별 이용 회수"
   ]
  },
  {
   "cell_type": "code",
   "execution_count": 50,
   "metadata": {
    "scrolled": false
   },
   "outputs": [
    {
     "data": {
      "text/plain": [
       "Text(0,0.5,'Frequency')"
      ]
     },
     "execution_count": 50,
     "metadata": {},
     "output_type": "execute_result"
    },
    {
     "data": {
      "image/png": "[encoded data removed]",
      "text/plain": [
       "<Figure size 1080x504 with 1 Axes>"
      ]
     },
     "metadata": {},
     "output_type": "display_data"
    }
   ],
   "source": [
    "plt.figure(figsize=(15,7))\n",
    "plt.hist(train_df['Day of Week'], bins=100)\n",
    "plt.xlabel('Day of Week')\n",
    "plt.ylabel('Frequency')"
   ]
  },
  {
   "cell_type": "markdown",
   "metadata": {},
   "source": [
    "### 요일별 요금"
   ]
  },
  {
   "cell_type": "code",
   "execution_count": 51,
   "metadata": {
    "scrolled": false
   },
   "outputs": [
    {
     "data": {
      "text/plain": [
       "Text(0,0.5,'fare_amount')"
      ]
     },
     "execution_count": 51,
     "metadata": {},
     "output_type": "execute_result"
    },
    {
     "data": {
      "image/png": "[encoded data removed]",
      "text/plain": [
       "<Figure size 1080x504 with 1 Axes>"
      ]
     },
     "metadata": {},
     "output_type": "display_data"
    }
   ],
   "source": [
    "plt.figure(figsize=(15,7))\n",
    "plt.scatter(x = train_df['Day of Week'], y=train_df['fare_amount'], s=1.0)\n",
    "plt.xlabel('Day of Week')\n",
    "plt.ylabel('fare_amount')"
   ]
  },
  {
   "cell_type": "code",
   "execution_count": 52,
   "metadata": {
    "scrolled": false
   },
   "outputs": [
    {
     "data": {
      "text/html": [
       "<div>\n",
       "<style scoped>\n",
       "    .dataframe tbody tr th:only-of-type {\n",
       "        vertical-align: middle;\n",
       "    }\n",
       "\n",
       "    .dataframe tbody tr th {\n",
       "        vertical-align: top;\n",
       "    }\n",
       "\n",
       "    .dataframe thead th {\n",
       "        text-align: right;\n",
       "    }\n",
       "</style>\n",
       "<table border=\"1\" class=\"dataframe\">\n",
       "  <thead>\n",
       "    <tr style=\"text-align: right;\">\n",
       "      <th></th>\n",
       "      <th>key</th>\n",
       "      <th>pickup_longitude</th>\n",
       "      <th>pickup_latitude</th>\n",
       "      <th>dropoff_longitude</th>\n",
       "      <th>dropoff_latitude</th>\n",
       "      <th>passenger_count</th>\n",
       "      <th>Year</th>\n",
       "      <th>Month</th>\n",
       "      <th>Date</th>\n",
       "      <th>Day of Week</th>\n",
       "      <th>Hour</th>\n",
       "      <th>H_Distance</th>\n",
       "    </tr>\n",
       "  </thead>\n",
       "  <tbody>\n",
       "    <tr>\n",
       "      <th>0</th>\n",
       "      <td>2015-01-27 13:08:24.0000002</td>\n",
       "      <td>-73.973320</td>\n",
       "      <td>40.763805</td>\n",
       "      <td>-73.981430</td>\n",
       "      <td>40.743835</td>\n",
       "      <td>1</td>\n",
       "      <td>2015</td>\n",
       "      <td>1</td>\n",
       "      <td>27</td>\n",
       "      <td>1</td>\n",
       "      <td>13</td>\n",
       "      <td>2.323260</td>\n",
       "    </tr>\n",
       "    <tr>\n",
       "      <th>1</th>\n",
       "      <td>2015-01-27 13:08:24.0000003</td>\n",
       "      <td>-73.986862</td>\n",
       "      <td>40.719383</td>\n",
       "      <td>-73.998886</td>\n",
       "      <td>40.739201</td>\n",
       "      <td>1</td>\n",
       "      <td>2015</td>\n",
       "      <td>1</td>\n",
       "      <td>27</td>\n",
       "      <td>1</td>\n",
       "      <td>13</td>\n",
       "      <td>2.425353</td>\n",
       "    </tr>\n",
       "    <tr>\n",
       "      <th>2</th>\n",
       "      <td>2011-10-08 11:53:44.0000002</td>\n",
       "      <td>-73.982524</td>\n",
       "      <td>40.751260</td>\n",
       "      <td>-73.979654</td>\n",
       "      <td>40.746139</td>\n",
       "      <td>1</td>\n",
       "      <td>2011</td>\n",
       "      <td>10</td>\n",
       "      <td>8</td>\n",
       "      <td>5</td>\n",
       "      <td>11</td>\n",
       "      <td>0.618628</td>\n",
       "    </tr>\n",
       "    <tr>\n",
       "      <th>3</th>\n",
       "      <td>2012-12-01 21:12:12.0000002</td>\n",
       "      <td>-73.981160</td>\n",
       "      <td>40.767807</td>\n",
       "      <td>-73.990448</td>\n",
       "      <td>40.751635</td>\n",
       "      <td>1</td>\n",
       "      <td>2012</td>\n",
       "      <td>12</td>\n",
       "      <td>1</td>\n",
       "      <td>5</td>\n",
       "      <td>21</td>\n",
       "      <td>1.961033</td>\n",
       "    </tr>\n",
       "    <tr>\n",
       "      <th>4</th>\n",
       "      <td>2012-12-01 21:12:12.0000003</td>\n",
       "      <td>-73.966046</td>\n",
       "      <td>40.789775</td>\n",
       "      <td>-73.988565</td>\n",
       "      <td>40.744427</td>\n",
       "      <td>1</td>\n",
       "      <td>2012</td>\n",
       "      <td>12</td>\n",
       "      <td>1</td>\n",
       "      <td>5</td>\n",
       "      <td>21</td>\n",
       "      <td>5.387301</td>\n",
       "    </tr>\n",
       "  </tbody>\n",
       "</table>\n",
       "</div>"
      ],
      "text/plain": [
       "                           key  pickup_longitude  pickup_latitude  \\\n",
       "0  2015-01-27 13:08:24.0000002        -73.973320        40.763805   \n",
       "1  2015-01-27 13:08:24.0000003        -73.986862        40.719383   \n",
       "2  2011-10-08 11:53:44.0000002        -73.982524        40.751260   \n",
       "3  2012-12-01 21:12:12.0000002        -73.981160        40.767807   \n",
       "4  2012-12-01 21:12:12.0000003        -73.966046        40.789775   \n",
       "\n",
       "   dropoff_longitude  dropoff_latitude  passenger_count  Year  Month  Date  \\\n",
       "0         -73.981430         40.743835                1  2015      1    27   \n",
       "1         -73.998886         40.739201                1  2015      1    27   \n",
       "2         -73.979654         40.746139                1  2011     10     8   \n",
       "3         -73.990448         40.751635                1  2012     12     1   \n",
       "4         -73.988565         40.744427                1  2012     12     1   \n",
       "\n",
       "   Day of Week  Hour  H_Distance  \n",
       "0            1    13    2.323260  \n",
       "1            1    13    2.425353  \n",
       "2            5    11    0.618628  \n",
       "3            5    21    1.961033  \n",
       "4            5    21    5.387301  "
      ]
     },
     "execution_count": 52,
     "metadata": {},
     "output_type": "execute_result"
    }
   ],
   "source": [
    "train_df = train_df.drop(['pickup_datetime'], axis=1)\n",
    "test_df = test_df.drop(['pickup_datetime'], axis=1)\n",
    "test_df.head()"
   ]
  },
  {
   "cell_type": "code",
   "execution_count": 53,
   "metadata": {
    "scrolled": true
   },
   "outputs": [
    {
     "data": {
      "text/html": [
       "<div>\n",
       "<style scoped>\n",
       "    .dataframe tbody tr th:only-of-type {\n",
       "        vertical-align: middle;\n",
       "    }\n",
       "\n",
       "    .dataframe tbody tr th {\n",
       "        vertical-align: top;\n",
       "    }\n",
       "\n",
       "    .dataframe thead th {\n",
       "        text-align: right;\n",
       "    }\n",
       "</style>\n",
       "<table border=\"1\" class=\"dataframe\">\n",
       "  <thead>\n",
       "    <tr style=\"text-align: right;\">\n",
       "      <th></th>\n",
       "      <th>key</th>\n",
       "      <th>fare_amount</th>\n",
       "      <th>pickup_longitude</th>\n",
       "      <th>pickup_latitude</th>\n",
       "      <th>dropoff_longitude</th>\n",
       "      <th>dropoff_latitude</th>\n",
       "      <th>passenger_count</th>\n",
       "      <th>Year</th>\n",
       "      <th>Month</th>\n",
       "      <th>Date</th>\n",
       "      <th>Day of Week</th>\n",
       "      <th>Hour</th>\n",
       "      <th>H_Distance</th>\n",
       "    </tr>\n",
       "  </thead>\n",
       "  <tbody>\n",
       "    <tr>\n",
       "      <th>0</th>\n",
       "      <td>2009-06-15 17:26:21.0000001</td>\n",
       "      <td>4.5</td>\n",
       "      <td>-73.844311</td>\n",
       "      <td>40.721319</td>\n",
       "      <td>-73.841610</td>\n",
       "      <td>40.712278</td>\n",
       "      <td>1</td>\n",
       "      <td>2009</td>\n",
       "      <td>6</td>\n",
       "      <td>15</td>\n",
       "      <td>0</td>\n",
       "      <td>17</td>\n",
       "      <td>1.030764</td>\n",
       "    </tr>\n",
       "    <tr>\n",
       "      <th>1</th>\n",
       "      <td>2010-01-05 16:52:16.0000002</td>\n",
       "      <td>16.9</td>\n",
       "      <td>-74.016048</td>\n",
       "      <td>40.711303</td>\n",
       "      <td>-73.979268</td>\n",
       "      <td>40.782004</td>\n",
       "      <td>1</td>\n",
       "      <td>2010</td>\n",
       "      <td>1</td>\n",
       "      <td>5</td>\n",
       "      <td>1</td>\n",
       "      <td>16</td>\n",
       "      <td>8.450134</td>\n",
       "    </tr>\n",
       "    <tr>\n",
       "      <th>2</th>\n",
       "      <td>2011-08-18 00:35:00.00000049</td>\n",
       "      <td>5.7</td>\n",
       "      <td>-73.982738</td>\n",
       "      <td>40.761270</td>\n",
       "      <td>-73.991242</td>\n",
       "      <td>40.750562</td>\n",
       "      <td>2</td>\n",
       "      <td>2011</td>\n",
       "      <td>8</td>\n",
       "      <td>18</td>\n",
       "      <td>3</td>\n",
       "      <td>0</td>\n",
       "      <td>1.389525</td>\n",
       "    </tr>\n",
       "    <tr>\n",
       "      <th>3</th>\n",
       "      <td>2012-04-21 04:30:42.0000001</td>\n",
       "      <td>7.7</td>\n",
       "      <td>-73.987130</td>\n",
       "      <td>40.733143</td>\n",
       "      <td>-73.991567</td>\n",
       "      <td>40.758092</td>\n",
       "      <td>1</td>\n",
       "      <td>2012</td>\n",
       "      <td>4</td>\n",
       "      <td>21</td>\n",
       "      <td>5</td>\n",
       "      <td>4</td>\n",
       "      <td>2.799270</td>\n",
       "    </tr>\n",
       "    <tr>\n",
       "      <th>4</th>\n",
       "      <td>2010-03-09 07:51:00.000000135</td>\n",
       "      <td>5.3</td>\n",
       "      <td>-73.968095</td>\n",
       "      <td>40.768008</td>\n",
       "      <td>-73.956655</td>\n",
       "      <td>40.783762</td>\n",
       "      <td>1</td>\n",
       "      <td>2010</td>\n",
       "      <td>3</td>\n",
       "      <td>9</td>\n",
       "      <td>1</td>\n",
       "      <td>7</td>\n",
       "      <td>1.999157</td>\n",
       "    </tr>\n",
       "  </tbody>\n",
       "</table>\n",
       "</div>"
      ],
      "text/plain": [
       "                             key  fare_amount  pickup_longitude  \\\n",
       "0    2009-06-15 17:26:21.0000001          4.5        -73.844311   \n",
       "1    2010-01-05 16:52:16.0000002         16.9        -74.016048   \n",
       "2   2011-08-18 00:35:00.00000049          5.7        -73.982738   \n",
       "3    2012-04-21 04:30:42.0000001          7.7        -73.987130   \n",
       "4  2010-03-09 07:51:00.000000135          5.3        -73.968095   \n",
       "\n",
       "   pickup_latitude  dropoff_longitude  dropoff_latitude  passenger_count  \\\n",
       "0        40.721319         -73.841610         40.712278                1   \n",
       "1        40.711303         -73.979268         40.782004                1   \n",
       "2        40.761270         -73.991242         40.750562                2   \n",
       "3        40.733143         -73.991567         40.758092                1   \n",
       "4        40.768008         -73.956655         40.783762                1   \n",
       "\n",
       "   Year  Month  Date  Day of Week  Hour  H_Distance  \n",
       "0  2009      6    15            0    17    1.030764  \n",
       "1  2010      1     5            1    16    8.450134  \n",
       "2  2011      8    18            3     0    1.389525  \n",
       "3  2012      4    21            5     4    2.799270  \n",
       "4  2010      3     9            1     7    1.999157  "
      ]
     },
     "execution_count": 53,
     "metadata": {},
     "output_type": "execute_result"
    }
   ],
   "source": [
    "train_df.head()"
   ]
  },
  {
   "cell_type": "markdown",
   "metadata": {},
   "source": [
    "### reset_index"
   ]
  },
  {
   "cell_type": "code",
   "execution_count": 54,
   "metadata": {},
   "outputs": [
    {
     "data": {
      "text/html": [
       "<div>\n",
       "<style scoped>\n",
       "    .dataframe tbody tr th:only-of-type {\n",
       "        vertical-align: middle;\n",
       "    }\n",
       "\n",
       "    .dataframe tbody tr th {\n",
       "        vertical-align: top;\n",
       "    }\n",
       "\n",
       "    .dataframe thead th {\n",
       "        text-align: right;\n",
       "    }\n",
       "</style>\n",
       "<table border=\"1\" class=\"dataframe\">\n",
       "  <thead>\n",
       "    <tr style=\"text-align: right;\">\n",
       "      <th></th>\n",
       "      <th>key</th>\n",
       "      <th>fare_amount</th>\n",
       "      <th>pickup_longitude</th>\n",
       "      <th>pickup_latitude</th>\n",
       "      <th>dropoff_longitude</th>\n",
       "      <th>dropoff_latitude</th>\n",
       "      <th>passenger_count</th>\n",
       "      <th>Year</th>\n",
       "      <th>Month</th>\n",
       "      <th>Date</th>\n",
       "      <th>Day of Week</th>\n",
       "      <th>Hour</th>\n",
       "      <th>H_Distance</th>\n",
       "    </tr>\n",
       "  </thead>\n",
       "  <tbody>\n",
       "    <tr>\n",
       "      <th>0</th>\n",
       "      <td>2009-06-15 17:26:21.0000001</td>\n",
       "      <td>4.50</td>\n",
       "      <td>-73.844311</td>\n",
       "      <td>40.721319</td>\n",
       "      <td>-73.841610</td>\n",
       "      <td>40.712278</td>\n",
       "      <td>1</td>\n",
       "      <td>2009</td>\n",
       "      <td>6</td>\n",
       "      <td>15</td>\n",
       "      <td>0</td>\n",
       "      <td>17</td>\n",
       "      <td>1.030764</td>\n",
       "    </tr>\n",
       "    <tr>\n",
       "      <th>1</th>\n",
       "      <td>2010-01-05 16:52:16.0000002</td>\n",
       "      <td>16.90</td>\n",
       "      <td>-74.016048</td>\n",
       "      <td>40.711303</td>\n",
       "      <td>-73.979268</td>\n",
       "      <td>40.782004</td>\n",
       "      <td>1</td>\n",
       "      <td>2010</td>\n",
       "      <td>1</td>\n",
       "      <td>5</td>\n",
       "      <td>1</td>\n",
       "      <td>16</td>\n",
       "      <td>8.450134</td>\n",
       "    </tr>\n",
       "    <tr>\n",
       "      <th>2</th>\n",
       "      <td>2011-08-18 00:35:00.00000049</td>\n",
       "      <td>5.70</td>\n",
       "      <td>-73.982738</td>\n",
       "      <td>40.761270</td>\n",
       "      <td>-73.991242</td>\n",
       "      <td>40.750562</td>\n",
       "      <td>2</td>\n",
       "      <td>2011</td>\n",
       "      <td>8</td>\n",
       "      <td>18</td>\n",
       "      <td>3</td>\n",
       "      <td>0</td>\n",
       "      <td>1.389525</td>\n",
       "    </tr>\n",
       "    <tr>\n",
       "      <th>3</th>\n",
       "      <td>2012-04-21 04:30:42.0000001</td>\n",
       "      <td>7.70</td>\n",
       "      <td>-73.987130</td>\n",
       "      <td>40.733143</td>\n",
       "      <td>-73.991567</td>\n",
       "      <td>40.758092</td>\n",
       "      <td>1</td>\n",
       "      <td>2012</td>\n",
       "      <td>4</td>\n",
       "      <td>21</td>\n",
       "      <td>5</td>\n",
       "      <td>4</td>\n",
       "      <td>2.799270</td>\n",
       "    </tr>\n",
       "    <tr>\n",
       "      <th>4</th>\n",
       "      <td>2010-03-09 07:51:00.000000135</td>\n",
       "      <td>5.30</td>\n",
       "      <td>-73.968095</td>\n",
       "      <td>40.768008</td>\n",
       "      <td>-73.956655</td>\n",
       "      <td>40.783762</td>\n",
       "      <td>1</td>\n",
       "      <td>2010</td>\n",
       "      <td>3</td>\n",
       "      <td>9</td>\n",
       "      <td>1</td>\n",
       "      <td>7</td>\n",
       "      <td>1.999157</td>\n",
       "    </tr>\n",
       "    <tr>\n",
       "      <th>5</th>\n",
       "      <td>2011-01-06 09:50:45.0000002</td>\n",
       "      <td>12.10</td>\n",
       "      <td>-74.000964</td>\n",
       "      <td>40.731630</td>\n",
       "      <td>-73.972892</td>\n",
       "      <td>40.758233</td>\n",
       "      <td>1</td>\n",
       "      <td>2011</td>\n",
       "      <td>1</td>\n",
       "      <td>6</td>\n",
       "      <td>3</td>\n",
       "      <td>9</td>\n",
       "      <td>3.787239</td>\n",
       "    </tr>\n",
       "    <tr>\n",
       "      <th>6</th>\n",
       "      <td>2012-11-20 20:35:00.0000001</td>\n",
       "      <td>7.50</td>\n",
       "      <td>-73.980002</td>\n",
       "      <td>40.751662</td>\n",
       "      <td>-73.973802</td>\n",
       "      <td>40.764842</td>\n",
       "      <td>1</td>\n",
       "      <td>2012</td>\n",
       "      <td>11</td>\n",
       "      <td>20</td>\n",
       "      <td>1</td>\n",
       "      <td>20</td>\n",
       "      <td>1.555807</td>\n",
       "    </tr>\n",
       "    <tr>\n",
       "      <th>7</th>\n",
       "      <td>2012-01-04 17:22:00.00000081</td>\n",
       "      <td>16.50</td>\n",
       "      <td>-73.951300</td>\n",
       "      <td>40.774138</td>\n",
       "      <td>-73.990095</td>\n",
       "      <td>40.751048</td>\n",
       "      <td>1</td>\n",
       "      <td>2012</td>\n",
       "      <td>1</td>\n",
       "      <td>4</td>\n",
       "      <td>2</td>\n",
       "      <td>17</td>\n",
       "      <td>4.155444</td>\n",
       "    </tr>\n",
       "    <tr>\n",
       "      <th>8</th>\n",
       "      <td>2012-12-03 13:10:00.000000125</td>\n",
       "      <td>9.00</td>\n",
       "      <td>-74.006462</td>\n",
       "      <td>40.726713</td>\n",
       "      <td>-73.993078</td>\n",
       "      <td>40.731628</td>\n",
       "      <td>1</td>\n",
       "      <td>2012</td>\n",
       "      <td>12</td>\n",
       "      <td>3</td>\n",
       "      <td>0</td>\n",
       "      <td>13</td>\n",
       "      <td>1.253232</td>\n",
       "    </tr>\n",
       "    <tr>\n",
       "      <th>9</th>\n",
       "      <td>2009-09-02 01:11:00.00000083</td>\n",
       "      <td>8.90</td>\n",
       "      <td>-73.980658</td>\n",
       "      <td>40.733873</td>\n",
       "      <td>-73.991540</td>\n",
       "      <td>40.758138</td>\n",
       "      <td>2</td>\n",
       "      <td>2009</td>\n",
       "      <td>9</td>\n",
       "      <td>2</td>\n",
       "      <td>2</td>\n",
       "      <td>1</td>\n",
       "      <td>2.849627</td>\n",
       "    </tr>\n",
       "    <tr>\n",
       "      <th>10</th>\n",
       "      <td>2012-04-08 07:30:50.0000002</td>\n",
       "      <td>5.30</td>\n",
       "      <td>-73.996335</td>\n",
       "      <td>40.737142</td>\n",
       "      <td>-73.980721</td>\n",
       "      <td>40.733559</td>\n",
       "      <td>1</td>\n",
       "      <td>2012</td>\n",
       "      <td>4</td>\n",
       "      <td>8</td>\n",
       "      <td>6</td>\n",
       "      <td>7</td>\n",
       "      <td>1.374577</td>\n",
       "    </tr>\n",
       "    <tr>\n",
       "      <th>11</th>\n",
       "      <td>2009-11-06 01:04:03.0000002</td>\n",
       "      <td>4.10</td>\n",
       "      <td>-73.991601</td>\n",
       "      <td>40.744712</td>\n",
       "      <td>-73.983081</td>\n",
       "      <td>40.744682</td>\n",
       "      <td>2</td>\n",
       "      <td>2009</td>\n",
       "      <td>11</td>\n",
       "      <td>6</td>\n",
       "      <td>4</td>\n",
       "      <td>1</td>\n",
       "      <td>0.717767</td>\n",
       "    </tr>\n",
       "    <tr>\n",
       "      <th>12</th>\n",
       "      <td>2013-07-02 19:54:00.000000232</td>\n",
       "      <td>7.00</td>\n",
       "      <td>-74.005360</td>\n",
       "      <td>40.728867</td>\n",
       "      <td>-74.008913</td>\n",
       "      <td>40.710907</td>\n",
       "      <td>1</td>\n",
       "      <td>2013</td>\n",
       "      <td>7</td>\n",
       "      <td>2</td>\n",
       "      <td>1</td>\n",
       "      <td>19</td>\n",
       "      <td>2.019384</td>\n",
       "    </tr>\n",
       "    <tr>\n",
       "      <th>13</th>\n",
       "      <td>2011-04-05 17:11:05.0000001</td>\n",
       "      <td>7.70</td>\n",
       "      <td>-74.001821</td>\n",
       "      <td>40.737547</td>\n",
       "      <td>-73.998060</td>\n",
       "      <td>40.722788</td>\n",
       "      <td>2</td>\n",
       "      <td>2011</td>\n",
       "      <td>4</td>\n",
       "      <td>5</td>\n",
       "      <td>1</td>\n",
       "      <td>17</td>\n",
       "      <td>1.671445</td>\n",
       "    </tr>\n",
       "    <tr>\n",
       "      <th>14</th>\n",
       "      <td>2014-02-19 07:22:00.00000074</td>\n",
       "      <td>12.50</td>\n",
       "      <td>-73.986430</td>\n",
       "      <td>40.760465</td>\n",
       "      <td>-73.988990</td>\n",
       "      <td>40.737075</td>\n",
       "      <td>1</td>\n",
       "      <td>2014</td>\n",
       "      <td>2</td>\n",
       "      <td>19</td>\n",
       "      <td>2</td>\n",
       "      <td>7</td>\n",
       "      <td>2.609774</td>\n",
       "    </tr>\n",
       "    <tr>\n",
       "      <th>15</th>\n",
       "      <td>2009-07-22 16:08:00.000000163</td>\n",
       "      <td>5.30</td>\n",
       "      <td>-73.981060</td>\n",
       "      <td>40.737690</td>\n",
       "      <td>-73.994177</td>\n",
       "      <td>40.728412</td>\n",
       "      <td>1</td>\n",
       "      <td>2009</td>\n",
       "      <td>7</td>\n",
       "      <td>22</td>\n",
       "      <td>2</td>\n",
       "      <td>16</td>\n",
       "      <td>1.511904</td>\n",
       "    </tr>\n",
       "    <tr>\n",
       "      <th>16</th>\n",
       "      <td>2010-07-07 14:52:00.00000044</td>\n",
       "      <td>5.30</td>\n",
       "      <td>-73.969505</td>\n",
       "      <td>40.784843</td>\n",
       "      <td>-73.958732</td>\n",
       "      <td>40.783357</td>\n",
       "      <td>1</td>\n",
       "      <td>2010</td>\n",
       "      <td>7</td>\n",
       "      <td>7</td>\n",
       "      <td>2</td>\n",
       "      <td>14</td>\n",
       "      <td>0.921952</td>\n",
       "    </tr>\n",
       "    <tr>\n",
       "      <th>17</th>\n",
       "      <td>2014-12-06 20:36:22.0000008</td>\n",
       "      <td>4.00</td>\n",
       "      <td>-73.979815</td>\n",
       "      <td>40.751902</td>\n",
       "      <td>-73.979446</td>\n",
       "      <td>40.755481</td>\n",
       "      <td>1</td>\n",
       "      <td>2014</td>\n",
       "      <td>12</td>\n",
       "      <td>6</td>\n",
       "      <td>5</td>\n",
       "      <td>20</td>\n",
       "      <td>0.399179</td>\n",
       "    </tr>\n",
       "    <tr>\n",
       "      <th>18</th>\n",
       "      <td>2010-09-07 13:18:00.000000175</td>\n",
       "      <td>10.50</td>\n",
       "      <td>-73.985382</td>\n",
       "      <td>40.747858</td>\n",
       "      <td>-73.978377</td>\n",
       "      <td>40.762070</td>\n",
       "      <td>1</td>\n",
       "      <td>2010</td>\n",
       "      <td>9</td>\n",
       "      <td>7</td>\n",
       "      <td>1</td>\n",
       "      <td>13</td>\n",
       "      <td>1.686861</td>\n",
       "    </tr>\n",
       "    <tr>\n",
       "      <th>19</th>\n",
       "      <td>2013-02-12 12:15:46.0000002</td>\n",
       "      <td>11.50</td>\n",
       "      <td>-73.957954</td>\n",
       "      <td>40.779252</td>\n",
       "      <td>-73.961250</td>\n",
       "      <td>40.758787</td>\n",
       "      <td>1</td>\n",
       "      <td>2013</td>\n",
       "      <td>2</td>\n",
       "      <td>12</td>\n",
       "      <td>1</td>\n",
       "      <td>12</td>\n",
       "      <td>2.292470</td>\n",
       "    </tr>\n",
       "    <tr>\n",
       "      <th>20</th>\n",
       "      <td>2009-08-06 18:17:23.0000001</td>\n",
       "      <td>4.50</td>\n",
       "      <td>-73.991707</td>\n",
       "      <td>40.770505</td>\n",
       "      <td>-73.985459</td>\n",
       "      <td>40.763671</td>\n",
       "      <td>1</td>\n",
       "      <td>2009</td>\n",
       "      <td>8</td>\n",
       "      <td>6</td>\n",
       "      <td>3</td>\n",
       "      <td>18</td>\n",
       "      <td>0.924296</td>\n",
       "    </tr>\n",
       "    <tr>\n",
       "      <th>21</th>\n",
       "      <td>2010-12-06 12:29:00.000000199</td>\n",
       "      <td>4.90</td>\n",
       "      <td>-74.000632</td>\n",
       "      <td>40.747473</td>\n",
       "      <td>-73.986672</td>\n",
       "      <td>40.740577</td>\n",
       "      <td>1</td>\n",
       "      <td>2010</td>\n",
       "      <td>12</td>\n",
       "      <td>6</td>\n",
       "      <td>0</td>\n",
       "      <td>12</td>\n",
       "      <td>1.403958</td>\n",
       "    </tr>\n",
       "    <tr>\n",
       "      <th>22</th>\n",
       "      <td>2009-12-10 15:37:00.00000020</td>\n",
       "      <td>6.10</td>\n",
       "      <td>-73.969622</td>\n",
       "      <td>40.756973</td>\n",
       "      <td>-73.981152</td>\n",
       "      <td>40.759712</td>\n",
       "      <td>1</td>\n",
       "      <td>2009</td>\n",
       "      <td>12</td>\n",
       "      <td>10</td>\n",
       "      <td>3</td>\n",
       "      <td>15</td>\n",
       "      <td>1.017773</td>\n",
       "    </tr>\n",
       "    <tr>\n",
       "      <th>23</th>\n",
       "      <td>2011-06-21 16:15:00.00000073</td>\n",
       "      <td>7.30</td>\n",
       "      <td>-73.991875</td>\n",
       "      <td>40.754437</td>\n",
       "      <td>-73.977230</td>\n",
       "      <td>40.774323</td>\n",
       "      <td>3</td>\n",
       "      <td>2011</td>\n",
       "      <td>6</td>\n",
       "      <td>21</td>\n",
       "      <td>1</td>\n",
       "      <td>16</td>\n",
       "      <td>2.531947</td>\n",
       "    </tr>\n",
       "    <tr>\n",
       "      <th>24</th>\n",
       "      <td>2011-06-28 19:47:00.000000168</td>\n",
       "      <td>4.50</td>\n",
       "      <td>-73.988893</td>\n",
       "      <td>40.760160</td>\n",
       "      <td>-73.986445</td>\n",
       "      <td>40.757857</td>\n",
       "      <td>3</td>\n",
       "      <td>2011</td>\n",
       "      <td>6</td>\n",
       "      <td>28</td>\n",
       "      <td>1</td>\n",
       "      <td>19</td>\n",
       "      <td>0.328771</td>\n",
       "    </tr>\n",
       "    <tr>\n",
       "      <th>25</th>\n",
       "      <td>2012-05-04 06:11:20.0000002</td>\n",
       "      <td>9.30</td>\n",
       "      <td>-73.989258</td>\n",
       "      <td>40.690835</td>\n",
       "      <td>-74.004133</td>\n",
       "      <td>40.725690</td>\n",
       "      <td>1</td>\n",
       "      <td>2012</td>\n",
       "      <td>5</td>\n",
       "      <td>4</td>\n",
       "      <td>4</td>\n",
       "      <td>6</td>\n",
       "      <td>4.073463</td>\n",
       "    </tr>\n",
       "    <tr>\n",
       "      <th>26</th>\n",
       "      <td>2013-08-11 00:52:00.00000026</td>\n",
       "      <td>4.50</td>\n",
       "      <td>-73.981020</td>\n",
       "      <td>40.737760</td>\n",
       "      <td>-73.980668</td>\n",
       "      <td>40.730497</td>\n",
       "      <td>2</td>\n",
       "      <td>2013</td>\n",
       "      <td>8</td>\n",
       "      <td>11</td>\n",
       "      <td>6</td>\n",
       "      <td>0</td>\n",
       "      <td>0.808153</td>\n",
       "    </tr>\n",
       "    <tr>\n",
       "      <th>27</th>\n",
       "      <td>2014-02-19 16:03:00.000000160</td>\n",
       "      <td>5.50</td>\n",
       "      <td>-73.976075</td>\n",
       "      <td>40.752422</td>\n",
       "      <td>-73.981082</td>\n",
       "      <td>40.759285</td>\n",
       "      <td>1</td>\n",
       "      <td>2014</td>\n",
       "      <td>2</td>\n",
       "      <td>19</td>\n",
       "      <td>2</td>\n",
       "      <td>16</td>\n",
       "      <td>0.871913</td>\n",
       "    </tr>\n",
       "    <tr>\n",
       "      <th>28</th>\n",
       "      <td>2015-06-21 21:46:34.0000001</td>\n",
       "      <td>22.54</td>\n",
       "      <td>-74.010483</td>\n",
       "      <td>40.717667</td>\n",
       "      <td>-73.985771</td>\n",
       "      <td>40.660366</td>\n",
       "      <td>1</td>\n",
       "      <td>2015</td>\n",
       "      <td>6</td>\n",
       "      <td>21</td>\n",
       "      <td>6</td>\n",
       "      <td>21</td>\n",
       "      <td>6.703551</td>\n",
       "    </tr>\n",
       "    <tr>\n",
       "      <th>29</th>\n",
       "      <td>2009-01-09 16:10:00.000000170</td>\n",
       "      <td>31.90</td>\n",
       "      <td>-73.873027</td>\n",
       "      <td>40.773883</td>\n",
       "      <td>-73.984545</td>\n",
       "      <td>40.769545</td>\n",
       "      <td>3</td>\n",
       "      <td>2009</td>\n",
       "      <td>1</td>\n",
       "      <td>9</td>\n",
       "      <td>4</td>\n",
       "      <td>16</td>\n",
       "      <td>9.403296</td>\n",
       "    </tr>\n",
       "    <tr>\n",
       "      <th>...</th>\n",
       "      <td>...</td>\n",
       "      <td>...</td>\n",
       "      <td>...</td>\n",
       "      <td>...</td>\n",
       "      <td>...</td>\n",
       "      <td>...</td>\n",
       "      <td>...</td>\n",
       "      <td>...</td>\n",
       "      <td>...</td>\n",
       "      <td>...</td>\n",
       "      <td>...</td>\n",
       "      <td>...</td>\n",
       "      <td>...</td>\n",
       "    </tr>\n",
       "    <tr>\n",
       "      <th>1951050</th>\n",
       "      <td>2013-05-03 08:09:00.00000066</td>\n",
       "      <td>14.50</td>\n",
       "      <td>-73.953405</td>\n",
       "      <td>40.767317</td>\n",
       "      <td>-73.982743</td>\n",
       "      <td>40.759965</td>\n",
       "      <td>6</td>\n",
       "      <td>2013</td>\n",
       "      <td>5</td>\n",
       "      <td>3</td>\n",
       "      <td>4</td>\n",
       "      <td>8</td>\n",
       "      <td>2.602578</td>\n",
       "    </tr>\n",
       "    <tr>\n",
       "      <th>1951051</th>\n",
       "      <td>2009-10-16 16:24:59.0000001</td>\n",
       "      <td>12.50</td>\n",
       "      <td>-73.986040</td>\n",
       "      <td>40.758433</td>\n",
       "      <td>-74.007763</td>\n",
       "      <td>40.746325</td>\n",
       "      <td>1</td>\n",
       "      <td>2009</td>\n",
       "      <td>10</td>\n",
       "      <td>16</td>\n",
       "      <td>4</td>\n",
       "      <td>16</td>\n",
       "      <td>2.271763</td>\n",
       "    </tr>\n",
       "    <tr>\n",
       "      <th>1951052</th>\n",
       "      <td>2011-01-14 22:24:00.00000092</td>\n",
       "      <td>7.30</td>\n",
       "      <td>-73.989882</td>\n",
       "      <td>40.767322</td>\n",
       "      <td>-73.971438</td>\n",
       "      <td>40.783625</td>\n",
       "      <td>1</td>\n",
       "      <td>2011</td>\n",
       "      <td>1</td>\n",
       "      <td>14</td>\n",
       "      <td>4</td>\n",
       "      <td>22</td>\n",
       "      <td>2.387119</td>\n",
       "    </tr>\n",
       "    <tr>\n",
       "      <th>1951053</th>\n",
       "      <td>2013-09-25 20:54:04.0000006</td>\n",
       "      <td>7.50</td>\n",
       "      <td>-73.977896</td>\n",
       "      <td>40.778530</td>\n",
       "      <td>-73.992567</td>\n",
       "      <td>40.757955</td>\n",
       "      <td>1</td>\n",
       "      <td>2013</td>\n",
       "      <td>9</td>\n",
       "      <td>25</td>\n",
       "      <td>2</td>\n",
       "      <td>20</td>\n",
       "      <td>2.600129</td>\n",
       "    </tr>\n",
       "    <tr>\n",
       "      <th>1951054</th>\n",
       "      <td>2014-01-04 00:52:00.00000011</td>\n",
       "      <td>6.00</td>\n",
       "      <td>-73.984302</td>\n",
       "      <td>40.749302</td>\n",
       "      <td>-73.977490</td>\n",
       "      <td>40.753530</td>\n",
       "      <td>1</td>\n",
       "      <td>2014</td>\n",
       "      <td>1</td>\n",
       "      <td>4</td>\n",
       "      <td>5</td>\n",
       "      <td>0</td>\n",
       "      <td>0.741812</td>\n",
       "    </tr>\n",
       "    <tr>\n",
       "      <th>1951055</th>\n",
       "      <td>2009-08-07 13:33:00.00000023</td>\n",
       "      <td>16.90</td>\n",
       "      <td>-73.978660</td>\n",
       "      <td>40.762412</td>\n",
       "      <td>-74.012278</td>\n",
       "      <td>40.703710</td>\n",
       "      <td>1</td>\n",
       "      <td>2009</td>\n",
       "      <td>8</td>\n",
       "      <td>7</td>\n",
       "      <td>4</td>\n",
       "      <td>13</td>\n",
       "      <td>7.115489</td>\n",
       "    </tr>\n",
       "    <tr>\n",
       "      <th>1951056</th>\n",
       "      <td>2011-10-28 23:26:51.0000009</td>\n",
       "      <td>20.10</td>\n",
       "      <td>-73.989285</td>\n",
       "      <td>40.741688</td>\n",
       "      <td>-73.949272</td>\n",
       "      <td>40.722600</td>\n",
       "      <td>1</td>\n",
       "      <td>2011</td>\n",
       "      <td>10</td>\n",
       "      <td>28</td>\n",
       "      <td>4</td>\n",
       "      <td>23</td>\n",
       "      <td>3.983960</td>\n",
       "    </tr>\n",
       "    <tr>\n",
       "      <th>1951057</th>\n",
       "      <td>2015-05-24 16:01:17.0000001</td>\n",
       "      <td>13.50</td>\n",
       "      <td>-73.995590</td>\n",
       "      <td>40.759762</td>\n",
       "      <td>-73.959152</td>\n",
       "      <td>40.783241</td>\n",
       "      <td>3</td>\n",
       "      <td>2015</td>\n",
       "      <td>5</td>\n",
       "      <td>24</td>\n",
       "      <td>6</td>\n",
       "      <td>16</td>\n",
       "      <td>4.028850</td>\n",
       "    </tr>\n",
       "    <tr>\n",
       "      <th>1951058</th>\n",
       "      <td>2012-03-31 04:00:00.00000074</td>\n",
       "      <td>2.50</td>\n",
       "      <td>-73.999125</td>\n",
       "      <td>40.728172</td>\n",
       "      <td>-73.999127</td>\n",
       "      <td>40.728175</td>\n",
       "      <td>1</td>\n",
       "      <td>2012</td>\n",
       "      <td>3</td>\n",
       "      <td>31</td>\n",
       "      <td>5</td>\n",
       "      <td>4</td>\n",
       "      <td>0.000374</td>\n",
       "    </tr>\n",
       "    <tr>\n",
       "      <th>1951059</th>\n",
       "      <td>2012-09-30 23:02:01.0000001</td>\n",
       "      <td>6.00</td>\n",
       "      <td>-73.977952</td>\n",
       "      <td>40.684833</td>\n",
       "      <td>-73.988876</td>\n",
       "      <td>40.689036</td>\n",
       "      <td>1</td>\n",
       "      <td>2012</td>\n",
       "      <td>9</td>\n",
       "      <td>30</td>\n",
       "      <td>6</td>\n",
       "      <td>23</td>\n",
       "      <td>1.032864</td>\n",
       "    </tr>\n",
       "    <tr>\n",
       "      <th>1951060</th>\n",
       "      <td>2015-06-12 13:31:39.0000003</td>\n",
       "      <td>3.50</td>\n",
       "      <td>-74.002815</td>\n",
       "      <td>40.724964</td>\n",
       "      <td>-74.003632</td>\n",
       "      <td>40.720928</td>\n",
       "      <td>1</td>\n",
       "      <td>2015</td>\n",
       "      <td>6</td>\n",
       "      <td>12</td>\n",
       "      <td>4</td>\n",
       "      <td>13</td>\n",
       "      <td>0.454019</td>\n",
       "    </tr>\n",
       "    <tr>\n",
       "      <th>1951061</th>\n",
       "      <td>2009-05-11 18:28:24.0000001</td>\n",
       "      <td>6.10</td>\n",
       "      <td>-73.891759</td>\n",
       "      <td>40.765088</td>\n",
       "      <td>-73.911421</td>\n",
       "      <td>40.768353</td>\n",
       "      <td>1</td>\n",
       "      <td>2009</td>\n",
       "      <td>5</td>\n",
       "      <td>11</td>\n",
       "      <td>0</td>\n",
       "      <td>18</td>\n",
       "      <td>1.695192</td>\n",
       "    </tr>\n",
       "    <tr>\n",
       "      <th>1951062</th>\n",
       "      <td>2012-01-08 19:06:37.0000001</td>\n",
       "      <td>4.10</td>\n",
       "      <td>-73.978400</td>\n",
       "      <td>40.764800</td>\n",
       "      <td>-73.982300</td>\n",
       "      <td>40.768300</td>\n",
       "      <td>4</td>\n",
       "      <td>2012</td>\n",
       "      <td>1</td>\n",
       "      <td>8</td>\n",
       "      <td>6</td>\n",
       "      <td>19</td>\n",
       "      <td>0.509253</td>\n",
       "    </tr>\n",
       "    <tr>\n",
       "      <th>1951063</th>\n",
       "      <td>2012-12-03 23:56:00.000000155</td>\n",
       "      <td>4.50</td>\n",
       "      <td>-73.969333</td>\n",
       "      <td>40.753502</td>\n",
       "      <td>-73.964683</td>\n",
       "      <td>40.755842</td>\n",
       "      <td>1</td>\n",
       "      <td>2012</td>\n",
       "      <td>12</td>\n",
       "      <td>3</td>\n",
       "      <td>0</td>\n",
       "      <td>23</td>\n",
       "      <td>0.470226</td>\n",
       "    </tr>\n",
       "    <tr>\n",
       "      <th>1951064</th>\n",
       "      <td>2010-07-21 15:40:57.0000001</td>\n",
       "      <td>10.10</td>\n",
       "      <td>-73.994075</td>\n",
       "      <td>40.751215</td>\n",
       "      <td>-73.978877</td>\n",
       "      <td>40.776542</td>\n",
       "      <td>1</td>\n",
       "      <td>2010</td>\n",
       "      <td>7</td>\n",
       "      <td>21</td>\n",
       "      <td>2</td>\n",
       "      <td>15</td>\n",
       "      <td>3.093461</td>\n",
       "    </tr>\n",
       "    <tr>\n",
       "      <th>1951065</th>\n",
       "      <td>2010-12-01 21:23:00.000000228</td>\n",
       "      <td>8.10</td>\n",
       "      <td>-73.966678</td>\n",
       "      <td>40.756502</td>\n",
       "      <td>-73.990830</td>\n",
       "      <td>40.750762</td>\n",
       "      <td>1</td>\n",
       "      <td>2010</td>\n",
       "      <td>12</td>\n",
       "      <td>1</td>\n",
       "      <td>2</td>\n",
       "      <td>21</td>\n",
       "      <td>2.132163</td>\n",
       "    </tr>\n",
       "    <tr>\n",
       "      <th>1951066</th>\n",
       "      <td>2012-03-20 13:00:00.0000009</td>\n",
       "      <td>37.30</td>\n",
       "      <td>-73.982223</td>\n",
       "      <td>40.763032</td>\n",
       "      <td>-73.870457</td>\n",
       "      <td>40.773587</td>\n",
       "      <td>1</td>\n",
       "      <td>2012</td>\n",
       "      <td>3</td>\n",
       "      <td>20</td>\n",
       "      <td>1</td>\n",
       "      <td>13</td>\n",
       "      <td>9.485174</td>\n",
       "    </tr>\n",
       "    <tr>\n",
       "      <th>1951067</th>\n",
       "      <td>2011-02-11 01:16:20.0000001</td>\n",
       "      <td>8.10</td>\n",
       "      <td>-73.996775</td>\n",
       "      <td>40.725360</td>\n",
       "      <td>-74.005806</td>\n",
       "      <td>40.740190</td>\n",
       "      <td>1</td>\n",
       "      <td>2011</td>\n",
       "      <td>2</td>\n",
       "      <td>11</td>\n",
       "      <td>4</td>\n",
       "      <td>1</td>\n",
       "      <td>1.816124</td>\n",
       "    </tr>\n",
       "    <tr>\n",
       "      <th>1951068</th>\n",
       "      <td>2013-03-06 12:26:00.000000150</td>\n",
       "      <td>12.00</td>\n",
       "      <td>-73.862767</td>\n",
       "      <td>40.769027</td>\n",
       "      <td>-73.897232</td>\n",
       "      <td>40.749245</td>\n",
       "      <td>1</td>\n",
       "      <td>2013</td>\n",
       "      <td>3</td>\n",
       "      <td>6</td>\n",
       "      <td>2</td>\n",
       "      <td>12</td>\n",
       "      <td>3.642113</td>\n",
       "    </tr>\n",
       "    <tr>\n",
       "      <th>1951069</th>\n",
       "      <td>2014-05-21 18:15:02.0000004</td>\n",
       "      <td>8.50</td>\n",
       "      <td>-73.945474</td>\n",
       "      <td>40.778606</td>\n",
       "      <td>-73.964772</td>\n",
       "      <td>40.770070</td>\n",
       "      <td>2</td>\n",
       "      <td>2014</td>\n",
       "      <td>5</td>\n",
       "      <td>21</td>\n",
       "      <td>2</td>\n",
       "      <td>18</td>\n",
       "      <td>1.881911</td>\n",
       "    </tr>\n",
       "    <tr>\n",
       "      <th>1951070</th>\n",
       "      <td>2009-03-29 00:09:18.0000004</td>\n",
       "      <td>13.40</td>\n",
       "      <td>-73.967634</td>\n",
       "      <td>40.756252</td>\n",
       "      <td>-73.918357</td>\n",
       "      <td>40.758502</td>\n",
       "      <td>2</td>\n",
       "      <td>2009</td>\n",
       "      <td>3</td>\n",
       "      <td>29</td>\n",
       "      <td>6</td>\n",
       "      <td>0</td>\n",
       "      <td>4.158039</td>\n",
       "    </tr>\n",
       "    <tr>\n",
       "      <th>1951071</th>\n",
       "      <td>2012-02-03 14:24:16.0000001</td>\n",
       "      <td>6.90</td>\n",
       "      <td>-73.976509</td>\n",
       "      <td>40.780595</td>\n",
       "      <td>-73.957512</td>\n",
       "      <td>40.779593</td>\n",
       "      <td>1</td>\n",
       "      <td>2012</td>\n",
       "      <td>2</td>\n",
       "      <td>3</td>\n",
       "      <td>4</td>\n",
       "      <td>14</td>\n",
       "      <td>1.603409</td>\n",
       "    </tr>\n",
       "    <tr>\n",
       "      <th>1951072</th>\n",
       "      <td>2014-05-15 13:03:59.0000001</td>\n",
       "      <td>5.00</td>\n",
       "      <td>-74.000672</td>\n",
       "      <td>40.761666</td>\n",
       "      <td>-74.000833</td>\n",
       "      <td>40.761729</td>\n",
       "      <td>2</td>\n",
       "      <td>2014</td>\n",
       "      <td>5</td>\n",
       "      <td>15</td>\n",
       "      <td>3</td>\n",
       "      <td>13</td>\n",
       "      <td>0.015262</td>\n",
       "    </tr>\n",
       "    <tr>\n",
       "      <th>1951073</th>\n",
       "      <td>2015-05-29 23:16:13.0000003</td>\n",
       "      <td>38.00</td>\n",
       "      <td>-73.980171</td>\n",
       "      <td>40.745899</td>\n",
       "      <td>-73.833252</td>\n",
       "      <td>40.658413</td>\n",
       "      <td>1</td>\n",
       "      <td>2015</td>\n",
       "      <td>5</td>\n",
       "      <td>29</td>\n",
       "      <td>4</td>\n",
       "      <td>23</td>\n",
       "      <td>15.748730</td>\n",
       "    </tr>\n",
       "    <tr>\n",
       "      <th>1951074</th>\n",
       "      <td>2013-05-25 15:30:00.000000104</td>\n",
       "      <td>8.50</td>\n",
       "      <td>-73.977085</td>\n",
       "      <td>40.758627</td>\n",
       "      <td>-73.958617</td>\n",
       "      <td>40.764152</td>\n",
       "      <td>1</td>\n",
       "      <td>2013</td>\n",
       "      <td>5</td>\n",
       "      <td>25</td>\n",
       "      <td>5</td>\n",
       "      <td>15</td>\n",
       "      <td>1.672360</td>\n",
       "    </tr>\n",
       "    <tr>\n",
       "      <th>1951075</th>\n",
       "      <td>2014-11-17 13:51:02.0000002</td>\n",
       "      <td>4.00</td>\n",
       "      <td>-73.950787</td>\n",
       "      <td>40.770836</td>\n",
       "      <td>-73.951043</td>\n",
       "      <td>40.774543</td>\n",
       "      <td>1</td>\n",
       "      <td>2014</td>\n",
       "      <td>11</td>\n",
       "      <td>17</td>\n",
       "      <td>0</td>\n",
       "      <td>13</td>\n",
       "      <td>0.412763</td>\n",
       "    </tr>\n",
       "    <tr>\n",
       "      <th>1951076</th>\n",
       "      <td>2013-02-25 17:51:28.0000004</td>\n",
       "      <td>7.00</td>\n",
       "      <td>-73.983035</td>\n",
       "      <td>40.748276</td>\n",
       "      <td>-73.974725</td>\n",
       "      <td>40.741978</td>\n",
       "      <td>1</td>\n",
       "      <td>2013</td>\n",
       "      <td>2</td>\n",
       "      <td>25</td>\n",
       "      <td>0</td>\n",
       "      <td>17</td>\n",
       "      <td>0.990211</td>\n",
       "    </tr>\n",
       "    <tr>\n",
       "      <th>1951077</th>\n",
       "      <td>2013-07-12 22:03:41.0000006</td>\n",
       "      <td>10.50</td>\n",
       "      <td>-74.003482</td>\n",
       "      <td>40.743577</td>\n",
       "      <td>-73.976758</td>\n",
       "      <td>40.765265</td>\n",
       "      <td>1</td>\n",
       "      <td>2013</td>\n",
       "      <td>7</td>\n",
       "      <td>12</td>\n",
       "      <td>4</td>\n",
       "      <td>22</td>\n",
       "      <td>3.298915</td>\n",
       "    </tr>\n",
       "    <tr>\n",
       "      <th>1951078</th>\n",
       "      <td>2009-01-17 09:35:37.0000002</td>\n",
       "      <td>10.90</td>\n",
       "      <td>-73.971819</td>\n",
       "      <td>40.797243</td>\n",
       "      <td>-73.985921</td>\n",
       "      <td>40.752459</td>\n",
       "      <td>3</td>\n",
       "      <td>2009</td>\n",
       "      <td>1</td>\n",
       "      <td>17</td>\n",
       "      <td>5</td>\n",
       "      <td>9</td>\n",
       "      <td>5.119378</td>\n",
       "    </tr>\n",
       "    <tr>\n",
       "      <th>1951079</th>\n",
       "      <td>2010-01-16 15:46:00.000000153</td>\n",
       "      <td>12.90</td>\n",
       "      <td>-73.955140</td>\n",
       "      <td>40.779382</td>\n",
       "      <td>-73.914775</td>\n",
       "      <td>40.820602</td>\n",
       "      <td>2</td>\n",
       "      <td>2010</td>\n",
       "      <td>1</td>\n",
       "      <td>16</td>\n",
       "      <td>5</td>\n",
       "      <td>15</td>\n",
       "      <td>5.705464</td>\n",
       "    </tr>\n",
       "  </tbody>\n",
       "</table>\n",
       "<p>1951080 rows × 13 columns</p>\n",
       "</div>"
      ],
      "text/plain": [
       "                                   key  fare_amount  pickup_longitude  \\\n",
       "0          2009-06-15 17:26:21.0000001         4.50        -73.844311   \n",
       "1          2010-01-05 16:52:16.0000002        16.90        -74.016048   \n",
       "2         2011-08-18 00:35:00.00000049         5.70        -73.982738   \n",
       "3          2012-04-21 04:30:42.0000001         7.70        -73.987130   \n",
       "4        2010-03-09 07:51:00.000000135         5.30        -73.968095   \n",
       "5          2011-01-06 09:50:45.0000002        12.10        -74.000964   \n",
       "6          2012-11-20 20:35:00.0000001         7.50        -73.980002   \n",
       "7         2012-01-04 17:22:00.00000081        16.50        -73.951300   \n",
       "8        2012-12-03 13:10:00.000000125         9.00        -74.006462   \n",
       "9         2009-09-02 01:11:00.00000083         8.90        -73.980658   \n",
       "10         2012-04-08 07:30:50.0000002         5.30        -73.996335   \n",
       "11         2009-11-06 01:04:03.0000002         4.10        -73.991601   \n",
       "12       2013-07-02 19:54:00.000000232         7.00        -74.005360   \n",
       "13         2011-04-05 17:11:05.0000001         7.70        -74.001821   \n",
       "14        2014-02-19 07:22:00.00000074        12.50        -73.986430   \n",
       "15       2009-07-22 16:08:00.000000163         5.30        -73.981060   \n",
       "16        2010-07-07 14:52:00.00000044         5.30        -73.969505   \n",
       "17         2014-12-06 20:36:22.0000008         4.00        -73.979815   \n",
       "18       2010-09-07 13:18:00.000000175        10.50        -73.985382   \n",
       "19         2013-02-12 12:15:46.0000002        11.50        -73.957954   \n",
       "20         2009-08-06 18:17:23.0000001         4.50        -73.991707   \n",
       "21       2010-12-06 12:29:00.000000199         4.90        -74.000632   \n",
       "22        2009-12-10 15:37:00.00000020         6.10        -73.969622   \n",
       "23        2011-06-21 16:15:00.00000073         7.30        -73.991875   \n",
       "24       2011-06-28 19:47:00.000000168         4.50        -73.988893   \n",
       "25         2012-05-04 06:11:20.0000002         9.30        -73.989258   \n",
       "26        2013-08-11 00:52:00.00000026         4.50        -73.981020   \n",
       "27       2014-02-19 16:03:00.000000160         5.50        -73.976075   \n",
       "28         2015-06-21 21:46:34.0000001        22.54        -74.010483   \n",
       "29       2009-01-09 16:10:00.000000170        31.90        -73.873027   \n",
       "...                                ...          ...               ...   \n",
       "1951050   2013-05-03 08:09:00.00000066        14.50        -73.953405   \n",
       "1951051    2009-10-16 16:24:59.0000001        12.50        -73.986040   \n",
       "1951052   2011-01-14 22:24:00.00000092         7.30        -73.989882   \n",
       "1951053    2013-09-25 20:54:04.0000006         7.50        -73.977896   \n",
       "1951054   2014-01-04 00:52:00.00000011         6.00        -73.984302   \n",
       "1951055   2009-08-07 13:33:00.00000023        16.90        -73.978660   \n",
       "1951056    2011-10-28 23:26:51.0000009        20.10        -73.989285   \n",
       "1951057    2015-05-24 16:01:17.0000001        13.50        -73.995590   \n",
       "1951058   2012-03-31 04:00:00.00000074         2.50        -73.999125   \n",
       "1951059    2012-09-30 23:02:01.0000001         6.00        -73.977952   \n",
       "1951060    2015-06-12 13:31:39.0000003         3.50        -74.002815   \n",
       "1951061    2009-05-11 18:28:24.0000001         6.10        -73.891759   \n",
       "1951062    2012-01-08 19:06:37.0000001         4.10        -73.978400   \n",
       "1951063  2012-12-03 23:56:00.000000155         4.50        -73.969333   \n",
       "1951064    2010-07-21 15:40:57.0000001        10.10        -73.994075   \n",
       "1951065  2010-12-01 21:23:00.000000228         8.10        -73.966678   \n",
       "1951066    2012-03-20 13:00:00.0000009        37.30        -73.982223   \n",
       "1951067    2011-02-11 01:16:20.0000001         8.10        -73.996775   \n",
       "1951068  2013-03-06 12:26:00.000000150        12.00        -73.862767   \n",
       "1951069    2014-05-21 18:15:02.0000004         8.50        -73.945474   \n",
       "1951070    2009-03-29 00:09:18.0000004        13.40        -73.967634   \n",
       "1951071    2012-02-03 14:24:16.0000001         6.90        -73.976509   \n",
       "1951072    2014-05-15 13:03:59.0000001         5.00        -74.000672   \n",
       "1951073    2015-05-29 23:16:13.0000003        38.00        -73.980171   \n",
       "1951074  2013-05-25 15:30:00.000000104         8.50        -73.977085   \n",
       "1951075    2014-11-17 13:51:02.0000002         4.00        -73.950787   \n",
       "1951076    2013-02-25 17:51:28.0000004         7.00        -73.983035   \n",
       "1951077    2013-07-12 22:03:41.0000006        10.50        -74.003482   \n",
       "1951078    2009-01-17 09:35:37.0000002        10.90        -73.971819   \n",
       "1951079  2010-01-16 15:46:00.000000153        12.90        -73.955140   \n",
       "\n",
       "         pickup_latitude  dropoff_longitude  dropoff_latitude  \\\n",
       "0              40.721319         -73.841610         40.712278   \n",
       "1              40.711303         -73.979268         40.782004   \n",
       "2              40.761270         -73.991242         40.750562   \n",
       "3              40.733143         -73.991567         40.758092   \n",
       "4              40.768008         -73.956655         40.783762   \n",
       "5              40.731630         -73.972892         40.758233   \n",
       "6              40.751662         -73.973802         40.764842   \n",
       "7              40.774138         -73.990095         40.751048   \n",
       "8              40.726713         -73.993078         40.731628   \n",
       "9              40.733873         -73.991540         40.758138   \n",
       "10             40.737142         -73.980721         40.733559   \n",
       "11             40.744712         -73.983081         40.744682   \n",
       "12             40.728867         -74.008913         40.710907   \n",
       "13             40.737547         -73.998060         40.722788   \n",
       "14             40.760465         -73.988990         40.737075   \n",
       "15             40.737690         -73.994177         40.728412   \n",
       "16             40.784843         -73.958732         40.783357   \n",
       "17             40.751902         -73.979446         40.755481   \n",
       "18             40.747858         -73.978377         40.762070   \n",
       "19             40.779252         -73.961250         40.758787   \n",
       "20             40.770505         -73.985459         40.763671   \n",
       "21             40.747473         -73.986672         40.740577   \n",
       "22             40.756973         -73.981152         40.759712   \n",
       "23             40.754437         -73.977230         40.774323   \n",
       "24             40.760160         -73.986445         40.757857   \n",
       "25             40.690835         -74.004133         40.725690   \n",
       "26             40.737760         -73.980668         40.730497   \n",
       "27             40.752422         -73.981082         40.759285   \n",
       "28             40.717667         -73.985771         40.660366   \n",
       "29             40.773883         -73.984545         40.769545   \n",
       "...                  ...                ...               ...   \n",
       "1951050        40.767317         -73.982743         40.759965   \n",
       "1951051        40.758433         -74.007763         40.746325   \n",
       "1951052        40.767322         -73.971438         40.783625   \n",
       "1951053        40.778530         -73.992567         40.757955   \n",
       "1951054        40.749302         -73.977490         40.753530   \n",
       "1951055        40.762412         -74.012278         40.703710   \n",
       "1951056        40.741688         -73.949272         40.722600   \n",
       "1951057        40.759762         -73.959152         40.783241   \n",
       "1951058        40.728172         -73.999127         40.728175   \n",
       "1951059        40.684833         -73.988876         40.689036   \n",
       "1951060        40.724964         -74.003632         40.720928   \n",
       "1951061        40.765088         -73.911421         40.768353   \n",
       "1951062        40.764800         -73.982300         40.768300   \n",
       "1951063        40.753502         -73.964683         40.755842   \n",
       "1951064        40.751215         -73.978877         40.776542   \n",
       "1951065        40.756502         -73.990830         40.750762   \n",
       "1951066        40.763032         -73.870457         40.773587   \n",
       "1951067        40.725360         -74.005806         40.740190   \n",
       "1951068        40.769027         -73.897232         40.749245   \n",
       "1951069        40.778606         -73.964772         40.770070   \n",
       "1951070        40.756252         -73.918357         40.758502   \n",
       "1951071        40.780595         -73.957512         40.779593   \n",
       "1951072        40.761666         -74.000833         40.761729   \n",
       "1951073        40.745899         -73.833252         40.658413   \n",
       "1951074        40.758627         -73.958617         40.764152   \n",
       "1951075        40.770836         -73.951043         40.774543   \n",
       "1951076        40.748276         -73.974725         40.741978   \n",
       "1951077        40.743577         -73.976758         40.765265   \n",
       "1951078        40.797243         -73.985921         40.752459   \n",
       "1951079        40.779382         -73.914775         40.820602   \n",
       "\n",
       "         passenger_count  Year  Month  Date  Day of Week  Hour  H_Distance  \n",
       "0                      1  2009      6    15            0    17    1.030764  \n",
       "1                      1  2010      1     5            1    16    8.450134  \n",
       "2                      2  2011      8    18            3     0    1.389525  \n",
       "3                      1  2012      4    21            5     4    2.799270  \n",
       "4                      1  2010      3     9            1     7    1.999157  \n",
       "5                      1  2011      1     6            3     9    3.787239  \n",
       "6                      1  2012     11    20            1    20    1.555807  \n",
       "7                      1  2012      1     4            2    17    4.155444  \n",
       "8                      1  2012     12     3            0    13    1.253232  \n",
       "9                      2  2009      9     2            2     1    2.849627  \n",
       "10                     1  2012      4     8            6     7    1.374577  \n",
       "11                     2  2009     11     6            4     1    0.717767  \n",
       "12                     1  2013      7     2            1    19    2.019384  \n",
       "13                     2  2011      4     5            1    17    1.671445  \n",
       "14                     1  2014      2    19            2     7    2.609774  \n",
       "15                     1  2009      7    22            2    16    1.511904  \n",
       "16                     1  2010      7     7            2    14    0.921952  \n",
       "17                     1  2014     12     6            5    20    0.399179  \n",
       "18                     1  2010      9     7            1    13    1.686861  \n",
       "19                     1  2013      2    12            1    12    2.292470  \n",
       "20                     1  2009      8     6            3    18    0.924296  \n",
       "21                     1  2010     12     6            0    12    1.403958  \n",
       "22                     1  2009     12    10            3    15    1.017773  \n",
       "23                     3  2011      6    21            1    16    2.531947  \n",
       "24                     3  2011      6    28            1    19    0.328771  \n",
       "25                     1  2012      5     4            4     6    4.073463  \n",
       "26                     2  2013      8    11            6     0    0.808153  \n",
       "27                     1  2014      2    19            2    16    0.871913  \n",
       "28                     1  2015      6    21            6    21    6.703551  \n",
       "29                     3  2009      1     9            4    16    9.403296  \n",
       "...                  ...   ...    ...   ...          ...   ...         ...  \n",
       "1951050                6  2013      5     3            4     8    2.602578  \n",
       "1951051                1  2009     10    16            4    16    2.271763  \n",
       "1951052                1  2011      1    14            4    22    2.387119  \n",
       "1951053                1  2013      9    25            2    20    2.600129  \n",
       "1951054                1  2014      1     4            5     0    0.741812  \n",
       "1951055                1  2009      8     7            4    13    7.115489  \n",
       "1951056                1  2011     10    28            4    23    3.983960  \n",
       "1951057                3  2015      5    24            6    16    4.028850  \n",
       "1951058                1  2012      3    31            5     4    0.000374  \n",
       "1951059                1  2012      9    30            6    23    1.032864  \n",
       "1951060                1  2015      6    12            4    13    0.454019  \n",
       "1951061                1  2009      5    11            0    18    1.695192  \n",
       "1951062                4  2012      1     8            6    19    0.509253  \n",
       "1951063                1  2012     12     3            0    23    0.470226  \n",
       "1951064                1  2010      7    21            2    15    3.093461  \n",
       "1951065                1  2010     12     1            2    21    2.132163  \n",
       "1951066                1  2012      3    20            1    13    9.485174  \n",
       "1951067                1  2011      2    11            4     1    1.816124  \n",
       "1951068                1  2013      3     6            2    12    3.642113  \n",
       "1951069                2  2014      5    21            2    18    1.881911  \n",
       "1951070                2  2009      3    29            6     0    4.158039  \n",
       "1951071                1  2012      2     3            4    14    1.603409  \n",
       "1951072                2  2014      5    15            3    13    0.015262  \n",
       "1951073                1  2015      5    29            4    23   15.748730  \n",
       "1951074                1  2013      5    25            5    15    1.672360  \n",
       "1951075                1  2014     11    17            0    13    0.412763  \n",
       "1951076                1  2013      2    25            0    17    0.990211  \n",
       "1951077                1  2013      7    12            4    22    3.298915  \n",
       "1951078                3  2009      1    17            5     9    5.119378  \n",
       "1951079                2  2010      1    16            5    15    5.705464  \n",
       "\n",
       "[1951080 rows x 13 columns]"
      ]
     },
     "execution_count": 54,
     "metadata": {},
     "output_type": "execute_result"
    }
   ],
   "source": [
    "train_df.reset_index(drop=True)"
   ]
  },
  {
   "cell_type": "code",
   "execution_count": 55,
   "metadata": {},
   "outputs": [],
   "source": [
    "X_train = train_df[train_df.columns[2:]]\n",
    "y_train = train_df[train_df.columns[1]]\n",
    "x = test_df[test_df.columns[1:]]"
   ]
  },
  {
   "cell_type": "code",
   "execution_count": 56,
   "metadata": {},
   "outputs": [],
   "source": [
    "from sklearn.model_selection import train_test_split\n",
    "\n",
    "X_train, x_test, y_train, y_test = train_test_split(X_train, y_train, test_size = 0.3, random_state=42)"
   ]
  },
  {
   "cell_type": "code",
   "execution_count": 57,
   "metadata": {
    "scrolled": true
   },
   "outputs": [
    {
     "data": {
      "text/plain": [
       "((1365756, 11), (585324, 11), (1365756,), (585324,))"
      ]
     },
     "execution_count": 57,
     "metadata": {},
     "output_type": "execute_result"
    }
   ],
   "source": [
    "X_train.shape, x_test.shape, y_train.shape, y_test.shape"
   ]
  },
  {
   "cell_type": "markdown",
   "metadata": {},
   "source": [
    "### Linear Regression\n",
    "- 5.46885점"
   ]
  },
  {
   "cell_type": "code",
   "execution_count": 58,
   "metadata": {},
   "outputs": [
    {
     "name": "stdout",
     "output_type": "stream",
     "text": [
      "6.010264607221682\n"
     ]
    }
   ],
   "source": [
    "from sklearn.linear_model import LinearRegression\n",
    "from sklearn.metrics import mean_squared_error\n",
    "\n",
    "lin_reg = LinearRegression()\n",
    "lin_reg.fit(X_train, y_train)\n",
    "y_pred = lin_reg.predict(x_test)\n",
    "error = np.sqrt(mean_squared_error(y_test, y_pred))\n",
    "print(error)"
   ]
  },
  {
   "cell_type": "code",
   "execution_count": 59,
   "metadata": {
    "scrolled": true
   },
   "outputs": [],
   "source": [
    "y_pred = lin_reg.predict(x)\n",
    "submission = pd.DataFrame(\n",
    "    {'key': test_df.key, 'fare_amount': y_pred},\n",
    "    columns = ['key', 'fare_amount'])\n",
    "submission.to_csv('submission.csv', index = False)"
   ]
  },
  {
   "cell_type": "markdown",
   "metadata": {},
   "source": [
    "### RandomForestRegressor\n",
    "- 4.74595 (n_estimators=20)\n",
    "- 3.19085 (n_estimators=25, max_features=11, max_depth=25, min_samples_split=3, min_samples_leaf=2, random_state=0)\n",
    "- 파라미터 튜닝하면 더 좋아 질 것 같다"
   ]
  },
  {
   "cell_type": "markdown",
   "metadata": {},
   "source": [
    "### Parameters currently in use:\n",
    "- n_estimators = number of trees in the foreset\n",
    "- max_features = max number of features considered for splitting a node\n",
    "- max_depth = max number of levels in each decision tree\n",
    "- min_samples_split = min number of data points placed in a node before the node is split\n",
    "- min_samples_leaf = min number of data points allowed in a leaf node\n",
    "- bootstrap = method for sampling data points (with or without replacement)"
   ]
  },
  {
   "cell_type": "code",
   "execution_count": 60,
   "metadata": {},
   "outputs": [
    {
     "name": "stderr",
     "output_type": "stream",
     "text": [
      "[Parallel(n_jobs=1)]: Done  25 out of  25 | elapsed:  6.3min finished\n"
     ]
    },
    {
     "data": {
      "text/plain": [
       "RandomForestRegressor(bootstrap=True, criterion='mse', max_depth=25,\n",
       "           max_features=11, max_leaf_nodes=None, min_impurity_decrease=0.0,\n",
       "           min_impurity_split=None, min_samples_leaf=2,\n",
       "           min_samples_split=3, min_weight_fraction_leaf=0.0,\n",
       "           n_estimators=25, n_jobs=1, oob_score=False, random_state=0,\n",
       "           verbose=1, warm_start=False)"
      ]
     },
     "execution_count": 60,
     "metadata": {},
     "output_type": "execute_result"
    }
   ],
   "source": [
    "from sklearn.ensemble import RandomForestRegressor\n",
    "from sklearn.metrics import mean_squared_error\n",
    "\n",
    "rfModel = RandomForestRegressor(n_estimators=25, max_features=11, max_depth=25, min_samples_split=3, min_samples_leaf=2,\n",
    "                                verbose=1, random_state=0)\n",
    "rfModel.fit(X_train, y_train)"
   ]
  },
  {
   "cell_type": "code",
   "execution_count": 61,
   "metadata": {},
   "outputs": [
    {
     "name": "stdout",
     "output_type": "stream",
     "text": [
      "3.4779494209179456\n"
     ]
    },
    {
     "name": "stderr",
     "output_type": "stream",
     "text": [
      "[Parallel(n_jobs=1)]: Done  25 out of  25 | elapsed:    5.9s finished\n"
     ]
    }
   ],
   "source": [
    "preds = rfModel.predict(x_test)\n",
    "error = np.sqrt(mean_squared_error(y_test, preds))\n",
    "print(error)"
   ]
  },
  {
   "cell_type": "code",
   "execution_count": 62,
   "metadata": {},
   "outputs": [
    {
     "name": "stderr",
     "output_type": "stream",
     "text": [
      "[Parallel(n_jobs=1)]: Done  25 out of  25 | elapsed:    0.0s finished\n"
     ]
    }
   ],
   "source": [
    "preds = rfModel.predict(x)\n",
    "submission = pd.DataFrame(\n",
    "    {'key': test_df.key, 'fare_amount': preds},\n",
    "    columns = ['key', 'fare_amount'])\n",
    "submission.to_csv('submission.csv', index = False)"
   ]
  },
  {
   "cell_type": "markdown",
   "metadata": {},
   "source": [
    "### Hyperparameter Tuning the Random Forest in Python\n",
    "- To use RandomizedSearchCV, we first need to create a parameter grid to sample from during fitting:"
   ]
  },
  {
   "cell_type": "code",
   "execution_count": 61,
   "metadata": {},
   "outputs": [
    {
     "name": "stdout",
     "output_type": "stream",
     "text": [
      "Parameters currently in use:\n",
      "\n",
      "{'bootstrap': True,\n",
      " 'criterion': 'mse',\n",
      " 'max_depth': None,\n",
      " 'max_features': 'auto',\n",
      " 'max_leaf_nodes': None,\n",
      " 'min_impurity_decrease': 0.0,\n",
      " 'min_impurity_split': None,\n",
      " 'min_samples_leaf': 1,\n",
      " 'min_samples_split': 2,\n",
      " 'min_weight_fraction_leaf': 0.0,\n",
      " 'n_estimators': 10,\n",
      " 'n_jobs': 1,\n",
      " 'oob_score': False,\n",
      " 'random_state': 42,\n",
      " 'verbose': 0,\n",
      " 'warm_start': False}\n"
     ]
    }
   ],
   "source": [
    "rf = RandomForestRegressor(random_state = 42)\n",
    "from pprint import pprint\n",
    "# Look at parameters used by our current forest\n",
    "print('Parameters currently in use:\\n')\n",
    "pprint(rf.get_params())"
   ]
  },
  {
   "cell_type": "code",
   "execution_count": null,
   "metadata": {},
   "outputs": [],
   "source": [
    "# from sklearn.model_selection import RandomizedSearchCV\n",
    "# # Number of trees in random forest\n",
    "# n_estimators = [int(x) for x in np.linspace(start = 200, stop = 2000, num = 10)]\n",
    "# # Number of features to consider at every split\n",
    "# max_features = ['auto', 'sqrt']\n",
    "# # Maximum number of levels in tree\n",
    "# max_depth = [int(x) for x in np.linspace(10, 110, num = 11)]\n",
    "# max_depth.append(None)\n",
    "# # Minimum number of samples required to split a node\n",
    "# min_samples_split = [2, 5, 10]\n",
    "# # Minimum number of samples required at each leaf node\n",
    "# min_samples_leaf = [1, 2, 4]\n",
    "# # Method of selecting samples for training each tree\n",
    "# bootstrap = [True, False]\n",
    "# # Create the random grid\n",
    "# random_grid = {'n_estimators': n_estimators,\n",
    "#                'max_features': max_features,\n",
    "#                'max_depth': max_depth,\n",
    "#                'min_samples_split': min_samples_split,\n",
    "#                'min_samples_leaf': min_samples_leaf,\n",
    "#                'bootstrap': bootstrap}\n",
    "# pprint(random_grid)\n",
    "# {'bootstrap': [True, False],\n",
    "#  'max_depth': [10, 20, 30, 40, None],\n",
    "#  'max_features': ['auto', 'sqrt'],\n",
    "#  'min_samples_leaf': [1, 2, 4],\n",
    "#  'min_samples_split': [2, 5, 10],\n",
    "#  'n_estimators': [10, 20, 30]}"
   ]
  },
  {
   "cell_type": "code",
   "execution_count": 49,
   "metadata": {},
   "outputs": [],
   "source": [
    "from sklearn.model_selection import RandomizedSearchCV\n",
    "random_grid =  {'bootstrap': [True, False],\n",
    "                'max_depth': [10, 20, None],\n",
    "                'max_features': ['auto', 'sqrt'],\n",
    "                'min_samples_leaf': [1, 2, 4],\n",
    "                'min_samples_split': [2, 5, 10],\n",
    "                'n_estimators': [10, 20]}"
   ]
  },
  {
   "cell_type": "code",
   "execution_count": null,
   "metadata": {},
   "outputs": [
    {
     "name": "stdout",
     "output_type": "stream",
     "text": [
      "Fitting 3 folds for each of 100 candidates, totalling 300 fits\n"
     ]
    }
   ],
   "source": [
    "# Use the random grid to search for best hyperparameters\n",
    "# First create the base model to tune\n",
    "rf = RandomForestRegressor()\n",
    "# Random search of parameters, using 3 fold cross validation, \n",
    "# search across 100 different combinations, and use all available cores\n",
    "rf_random = RandomizedSearchCV(estimator = rf, param_distributions = random_grid, n_iter = 100,\n",
    "                               cv = 3, verbose=2, random_state=42, n_jobs = -1)\n",
    "# Fit the random search model\n",
    "rf_random.fit(X_train, y_train)"
   ]
  },
  {
   "cell_type": "code",
   "execution_count": null,
   "metadata": {},
   "outputs": [],
   "source": [
    "rf_random.best_params_"
   ]
  },
  {
   "cell_type": "code",
   "execution_count": null,
   "metadata": {},
   "outputs": [],
   "source": [
    "preds = rfModel.predict(x_test)\n",
    "error = np.sqrt(mean_squared_error(y_test, preds))\n",
    "print(error)"
   ]
  },
  {
   "cell_type": "code",
   "execution_count": null,
   "metadata": {},
   "outputs": [],
   "source": [
    "preds = rfModel.predict(x)\n",
    "submission = pd.DataFrame(\n",
    "    {'key': test_df.key, 'fare_amount': preds},\n",
    "    columns = ['key', 'fare_amount'])\n",
    "submission.to_csv('submission.csv', index = False)"
   ]
  },
  {
   "cell_type": "markdown",
   "metadata": {},
   "source": [
    "### ElasticNet\n",
    "- 5.46871"
   ]
  },
  {
   "cell_type": "code",
   "execution_count": 62,
   "metadata": {},
   "outputs": [],
   "source": [
    "from sklearn.linear_model import ElasticNet\n",
    "from sklearn.metrics import mean_squared_error"
   ]
  },
  {
   "cell_type": "code",
   "execution_count": 64,
   "metadata": {},
   "outputs": [
    {
     "name": "stdout",
     "output_type": "stream",
     "text": [
      "8.70866990952789\n"
     ]
    }
   ],
   "source": [
    "elastic_net = ElasticNet(alpha=0.00001, l1_ratio=0.5)\n",
    "\n",
    "elastic_net.fit(X_train, y_train)\n",
    "prediction = elastic_net.predict(x_test)\n",
    "\n",
    "error = np.sqrt(mean_squared_error(y_test, prediction))\n",
    "print(error)"
   ]
  },
  {
   "cell_type": "code",
   "execution_count": null,
   "metadata": {},
   "outputs": [],
   "source": [
    "prediction = elastic_net.predict(x)\n",
    "submission = pd.DataFrame(\n",
    "    {'key': test_df.key, 'fare_amount': prediction},\n",
    "    columns = ['key', 'fare_amount'])\n",
    "submission.to_csv('submission.csv', index = False)"
   ]
  },
  {
   "cell_type": "markdown",
   "metadata": {},
   "source": [
    "### lightGBM\n",
    "- 3.36301"
   ]
  },
  {
   "cell_type": "code",
   "execution_count": 50,
   "metadata": {},
   "outputs": [],
   "source": [
    "import lightgbm as lgbm"
   ]
  },
  {
   "cell_type": "code",
   "execution_count": 51,
   "metadata": {},
   "outputs": [],
   "source": [
    "params = {\n",
    "        'boosting_type':'gbdt',\n",
    "        'objective': 'regression',\n",
    "        'nthread': -1,\n",
    "        'verbose': 0,\n",
    "        'num_leaves': 31,\n",
    "        'learning_rate': 0.05,\n",
    "        'max_depth': -1,\n",
    "        'subsample': 0.8,\n",
    "        'subsample_freq': 1,\n",
    "        'colsample_bytree': 0.6,\n",
    "        'reg_aplha': 1,\n",
    "        'reg_lambda': 0.001,\n",
    "        'metric': 'rmse',\n",
    "        'min_split_gain': 0.5,\n",
    "        'min_child_weight': 1,\n",
    "        'min_child_samples': 10,\n",
    "        'scale_pos_weight':1     \n",
    "    }"
   ]
  },
  {
   "cell_type": "code",
   "execution_count": 52,
   "metadata": {},
   "outputs": [
    {
     "data": {
      "text/plain": [
       "(292793,)"
      ]
     },
     "execution_count": 52,
     "metadata": {},
     "output_type": "execute_result"
    }
   ],
   "source": [
    "pred_test_y = np.zeros(x_test.shape[0])\n",
    "pred_test_y.shape"
   ]
  },
  {
   "cell_type": "code",
   "execution_count": 54,
   "metadata": {},
   "outputs": [
    {
     "data": {
      "text/plain": [
       "<lightgbm.basic.Dataset at 0x23f3556a7b8>"
      ]
     },
     "execution_count": 54,
     "metadata": {},
     "output_type": "execute_result"
    }
   ],
   "source": [
    "train_set = lgbm.Dataset(X_train, y_train, silent=True)\n",
    "train_set"
   ]
  },
  {
   "cell_type": "code",
   "execution_count": 55,
   "metadata": {},
   "outputs": [],
   "source": [
    "model = lgbm.train(params, train_set = train_set, num_boost_round=300)"
   ]
  },
  {
   "cell_type": "code",
   "execution_count": 57,
   "metadata": {},
   "outputs": [
    {
     "name": "stdout",
     "output_type": "stream",
     "text": [
      "3.9505596992517584\n"
     ]
    }
   ],
   "source": [
    "prediction = model.predict(x_test, num_iteration = model.best_iteration)\n",
    "error = np.sqrt(mean_squared_error(y_test, prediction))\n",
    "print(error)"
   ]
  },
  {
   "cell_type": "code",
   "execution_count": 58,
   "metadata": {},
   "outputs": [
    {
     "data": {
      "text/html": [
       "<div>\n",
       "<style scoped>\n",
       "    .dataframe tbody tr th:only-of-type {\n",
       "        vertical-align: middle;\n",
       "    }\n",
       "\n",
       "    .dataframe tbody tr th {\n",
       "        vertical-align: top;\n",
       "    }\n",
       "\n",
       "    .dataframe thead th {\n",
       "        text-align: right;\n",
       "    }\n",
       "</style>\n",
       "<table border=\"1\" class=\"dataframe\">\n",
       "  <thead>\n",
       "    <tr style=\"text-align: right;\">\n",
       "      <th></th>\n",
       "      <th>key</th>\n",
       "      <th>fare_amount</th>\n",
       "    </tr>\n",
       "  </thead>\n",
       "  <tbody>\n",
       "    <tr>\n",
       "      <th>0</th>\n",
       "      <td>2015-01-27 13:08:24.0000002</td>\n",
       "      <td>10.795788</td>\n",
       "    </tr>\n",
       "    <tr>\n",
       "      <th>1</th>\n",
       "      <td>2015-01-27 13:08:24.0000003</td>\n",
       "      <td>10.583176</td>\n",
       "    </tr>\n",
       "    <tr>\n",
       "      <th>2</th>\n",
       "      <td>2011-10-08 11:53:44.0000002</td>\n",
       "      <td>4.764344</td>\n",
       "    </tr>\n",
       "    <tr>\n",
       "      <th>3</th>\n",
       "      <td>2012-12-01 21:12:12.0000002</td>\n",
       "      <td>8.480174</td>\n",
       "    </tr>\n",
       "    <tr>\n",
       "      <th>4</th>\n",
       "      <td>2012-12-01 21:12:12.0000003</td>\n",
       "      <td>15.450434</td>\n",
       "    </tr>\n",
       "    <tr>\n",
       "      <th>5</th>\n",
       "      <td>2012-12-01 21:12:12.0000005</td>\n",
       "      <td>11.215139</td>\n",
       "    </tr>\n",
       "    <tr>\n",
       "      <th>6</th>\n",
       "      <td>2011-10-06 12:10:20.0000001</td>\n",
       "      <td>5.442606</td>\n",
       "    </tr>\n",
       "    <tr>\n",
       "      <th>7</th>\n",
       "      <td>2011-10-06 12:10:20.0000003</td>\n",
       "      <td>48.849756</td>\n",
       "    </tr>\n",
       "    <tr>\n",
       "      <th>8</th>\n",
       "      <td>2011-10-06 12:10:20.0000002</td>\n",
       "      <td>12.185717</td>\n",
       "    </tr>\n",
       "    <tr>\n",
       "      <th>9</th>\n",
       "      <td>2014-02-18 15:22:20.0000002</td>\n",
       "      <td>6.843534</td>\n",
       "    </tr>\n",
       "    <tr>\n",
       "      <th>10</th>\n",
       "      <td>2014-02-18 15:22:20.0000003</td>\n",
       "      <td>10.312634</td>\n",
       "    </tr>\n",
       "    <tr>\n",
       "      <th>11</th>\n",
       "      <td>2014-02-18 15:22:20.0000001</td>\n",
       "      <td>17.050808</td>\n",
       "    </tr>\n",
       "    <tr>\n",
       "      <th>12</th>\n",
       "      <td>2010-03-29 20:20:32.0000002</td>\n",
       "      <td>4.110002</td>\n",
       "    </tr>\n",
       "    <tr>\n",
       "      <th>13</th>\n",
       "      <td>2010-03-29 20:20:32.0000001</td>\n",
       "      <td>6.526387</td>\n",
       "    </tr>\n",
       "    <tr>\n",
       "      <th>14</th>\n",
       "      <td>2011-10-06 03:59:12.0000002</td>\n",
       "      <td>8.012374</td>\n",
       "    </tr>\n",
       "    <tr>\n",
       "      <th>15</th>\n",
       "      <td>2011-10-06 03:59:12.0000001</td>\n",
       "      <td>12.013058</td>\n",
       "    </tr>\n",
       "    <tr>\n",
       "      <th>16</th>\n",
       "      <td>2012-07-15 16:45:04.0000006</td>\n",
       "      <td>4.420621</td>\n",
       "    </tr>\n",
       "    <tr>\n",
       "      <th>17</th>\n",
       "      <td>2012-07-15 16:45:04.0000002</td>\n",
       "      <td>8.226919</td>\n",
       "    </tr>\n",
       "    <tr>\n",
       "      <th>18</th>\n",
       "      <td>2012-07-15 16:45:04.0000003</td>\n",
       "      <td>4.923029</td>\n",
       "    </tr>\n",
       "    <tr>\n",
       "      <th>19</th>\n",
       "      <td>2012-07-15 16:45:04.0000004</td>\n",
       "      <td>4.603009</td>\n",
       "    </tr>\n",
       "  </tbody>\n",
       "</table>\n",
       "</div>"
      ],
      "text/plain": [
       "                            key  fare_amount\n",
       "0   2015-01-27 13:08:24.0000002    10.795788\n",
       "1   2015-01-27 13:08:24.0000003    10.583176\n",
       "2   2011-10-08 11:53:44.0000002     4.764344\n",
       "3   2012-12-01 21:12:12.0000002     8.480174\n",
       "4   2012-12-01 21:12:12.0000003    15.450434\n",
       "5   2012-12-01 21:12:12.0000005    11.215139\n",
       "6   2011-10-06 12:10:20.0000001     5.442606\n",
       "7   2011-10-06 12:10:20.0000003    48.849756\n",
       "8   2011-10-06 12:10:20.0000002    12.185717\n",
       "9   2014-02-18 15:22:20.0000002     6.843534\n",
       "10  2014-02-18 15:22:20.0000003    10.312634\n",
       "11  2014-02-18 15:22:20.0000001    17.050808\n",
       "12  2010-03-29 20:20:32.0000002     4.110002\n",
       "13  2010-03-29 20:20:32.0000001     6.526387\n",
       "14  2011-10-06 03:59:12.0000002     8.012374\n",
       "15  2011-10-06 03:59:12.0000001    12.013058\n",
       "16  2012-07-15 16:45:04.0000006     4.420621\n",
       "17  2012-07-15 16:45:04.0000002     8.226919\n",
       "18  2012-07-15 16:45:04.0000003     4.923029\n",
       "19  2012-07-15 16:45:04.0000004     4.603009"
      ]
     },
     "execution_count": 58,
     "metadata": {},
     "output_type": "execute_result"
    }
   ],
   "source": [
    "pred_test_y = model.predict(x, num_iteration = model.best_iteration)\n",
    "submission['fare_amount'] = pred_test_y\n",
    "submission.to_csv('submission_LGB.csv', index=False)\n",
    "submission.head(20)"
   ]
  },
  {
   "cell_type": "markdown",
   "metadata": {},
   "source": [
    "### XGBM\n",
    "- 3.53635"
   ]
  },
  {
   "cell_type": "code",
   "execution_count": 60,
   "metadata": {},
   "outputs": [],
   "source": [
    "import xgboost as xgb"
   ]
  },
  {
   "cell_type": "code",
   "execution_count": 66,
   "metadata": {},
   "outputs": [],
   "source": [
    "dtrain = xgb.DMatrix(X_train, label=y_train)\n",
    "dtest = xgb.DMatrix(x_test)\n",
    "rtest = xgb.DMatrix(x)"
   ]
  },
  {
   "cell_type": "code",
   "execution_count": 63,
   "metadata": {},
   "outputs": [],
   "source": [
    "#set parameters for xgboost\n",
    "params = {'max_depth':7,\n",
    "          'eta':1,\n",
    "          'silent':1,\n",
    "          'objective':'reg:linear',\n",
    "          'eval_metric':'rmse',\n",
    "          'learning_rate':0.05\n",
    "         }\n",
    "num_rounds = 50"
   ]
  },
  {
   "cell_type": "code",
   "execution_count": 64,
   "metadata": {},
   "outputs": [],
   "source": [
    "xb = xgb.train(params, dtrain, num_rounds)"
   ]
  },
  {
   "cell_type": "code",
   "execution_count": 65,
   "metadata": {},
   "outputs": [
    {
     "name": "stdout",
     "output_type": "stream",
     "text": [
      "4.16665597619012\n"
     ]
    }
   ],
   "source": [
    "y_pred_xgb = xb.predict(dtest)\n",
    "error = np.sqrt(mean_squared_error(y_test, y_pred_xgb))\n",
    "print(error)"
   ]
  },
  {
   "cell_type": "code",
   "execution_count": 67,
   "metadata": {},
   "outputs": [],
   "source": [
    "y_pred_xgb = xb.predict(rtest)\n",
    "submission = pd.DataFrame(\n",
    "    {'key': test_df.key, 'fare_amount': y_pred_xgb},\n",
    "    columns = ['key', 'fare_amount'])\n",
    "submission.to_csv('submission.csv', index = False)"
   ]
  }
 ],
 "metadata": {
  "kernelspec": {
   "display_name": "Python 3",
   "language": "python",
   "name": "python3"
  },
  "language_info": {
   "codemirror_mode": {
    "name": "ipython",
    "version": 3
   },
   "file_extension": ".py",
   "mimetype": "text/x-python",
   "name": "python",
   "nbconvert_exporter": "python",
   "pygments_lexer": "ipython3",
   "version": "3.6.5"
  }
 },
 "nbformat": 4,
 "nbformat_minor": 2
}
